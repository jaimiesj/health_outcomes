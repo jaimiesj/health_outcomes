{
 "cells": [
  {
   "cell_type": "code",
   "execution_count": 1,
   "id": "597fcbba",
   "metadata": {},
   "outputs": [],
   "source": [
    "import pandas as pd\n",
    "import numpy as np\n",
    "import sqlite3"
   ]
  },
  {
   "cell_type": "markdown",
   "id": "032492e4",
   "metadata": {},
   "source": [
    "## Database Access and Data Retrieval"
   ]
  },
  {
   "cell_type": "code",
   "execution_count": 2,
   "id": "c30fd560",
   "metadata": {},
   "outputs": [],
   "source": [
    "conn = sqlite3.connect('../res/data/tables.sql')\n",
    "cursor = conn.cursor()"
   ]
  },
  {
   "cell_type": "code",
   "execution_count": 3,
   "id": "74789966",
   "metadata": {},
   "outputs": [],
   "source": [
    "# # ['id', 'school', 'gender', 'age', 'home address', 'parents cohabitation', 'moms education', 'dads education', 'moms job', 'dads job', 'choice reason', 'guardian', 'travel time', 'nursery education', 'internet access', 'higher education', 'significant other', 'household size', 'family relationship', 'free time', 'social activities', 'study time', 'first periods grade', 'second periods grade', 'third periods grade','failures', 'absences', 'health', 'weekday drinker', 'weekend drinker', 'drinker']\n",
    " \n",
    "cursor.execute('''\n",
    "SELECT profile_encoded.id, school, gender, age, \"home address\", \"parents cohabitation\", \n",
    "\"moms education\", \"dads education\", \"moms job\", \"dads job\", \"choice reason\", \n",
    "guardian, \"travel time\", \"nursery education\", \"internet access\", \"higher education\",\n",
    "\"significant other\", \"household size\", \"family relationship\", \"free time\",\n",
    "\"social activities\", \"study time\", \"first periods grade\", \"second periods grade\",\n",
    "\"third periods grade\", failures, absences, health, \"weekday drinking\",\n",
    "\"weekend drinking\", \"heavy drinking\"\n",
    "FROM profile_encoded\n",
    "JOIN activities_encoded\n",
    "ON profile_encoded.id = activities_encoded.id\n",
    "''')\n",
    "\n",
    "rows = cursor.fetchall()\n",
    "description = cursor.description\n",
    "conn.close()"
   ]
  },
  {
   "cell_type": "code",
   "execution_count": 4,
   "id": "9dfe92b0",
   "metadata": {},
   "outputs": [
    {
     "data": {
      "text/plain": [
       "(('id', None, None, None, None, None, None),\n",
       " ('school', None, None, None, None, None, None),\n",
       " ('gender', None, None, None, None, None, None))"
      ]
     },
     "execution_count": 4,
     "metadata": {},
     "output_type": "execute_result"
    }
   ],
   "source": [
    "# description is a tuple of tuples and we only need the first item in each tuple\n",
    "# lambda x: x[0] returns the first item of any list, tuple or iterable\n",
    "description[:3]"
   ]
  },
  {
   "cell_type": "code",
   "execution_count": 5,
   "id": "3aa80f7e",
   "metadata": {},
   "outputs": [
    {
     "data": {
      "text/html": [
       "<div>\n",
       "<style scoped>\n",
       "    .dataframe tbody tr th:only-of-type {\n",
       "        vertical-align: middle;\n",
       "    }\n",
       "\n",
       "    .dataframe tbody tr th {\n",
       "        vertical-align: top;\n",
       "    }\n",
       "\n",
       "    .dataframe thead th {\n",
       "        text-align: right;\n",
       "    }\n",
       "</style>\n",
       "<table border=\"1\" class=\"dataframe\">\n",
       "  <thead>\n",
       "    <tr style=\"text-align: right;\">\n",
       "      <th></th>\n",
       "      <th>school</th>\n",
       "      <th>gender</th>\n",
       "      <th>age</th>\n",
       "      <th>home address</th>\n",
       "      <th>parents cohabitation</th>\n",
       "      <th>moms education</th>\n",
       "      <th>dads education</th>\n",
       "      <th>moms job</th>\n",
       "      <th>dads job</th>\n",
       "      <th>choice reason</th>\n",
       "      <th>...</th>\n",
       "      <th>study time</th>\n",
       "      <th>first periods grade</th>\n",
       "      <th>second periods grade</th>\n",
       "      <th>third periods grade</th>\n",
       "      <th>failures</th>\n",
       "      <th>absences</th>\n",
       "      <th>health</th>\n",
       "      <th>weekday drinking</th>\n",
       "      <th>weekend drinking</th>\n",
       "      <th>heavy drinking</th>\n",
       "    </tr>\n",
       "    <tr>\n",
       "      <th>id</th>\n",
       "      <th></th>\n",
       "      <th></th>\n",
       "      <th></th>\n",
       "      <th></th>\n",
       "      <th></th>\n",
       "      <th></th>\n",
       "      <th></th>\n",
       "      <th></th>\n",
       "      <th></th>\n",
       "      <th></th>\n",
       "      <th></th>\n",
       "      <th></th>\n",
       "      <th></th>\n",
       "      <th></th>\n",
       "      <th></th>\n",
       "      <th></th>\n",
       "      <th></th>\n",
       "      <th></th>\n",
       "      <th></th>\n",
       "      <th></th>\n",
       "      <th></th>\n",
       "    </tr>\n",
       "  </thead>\n",
       "  <tbody>\n",
       "    <tr>\n",
       "      <th>1</th>\n",
       "      <td>0</td>\n",
       "      <td>1</td>\n",
       "      <td>18</td>\n",
       "      <td>1</td>\n",
       "      <td>0</td>\n",
       "      <td>4</td>\n",
       "      <td>4</td>\n",
       "      <td>0</td>\n",
       "      <td>2</td>\n",
       "      <td>0</td>\n",
       "      <td>...</td>\n",
       "      <td>2</td>\n",
       "      <td>0</td>\n",
       "      <td>0</td>\n",
       "      <td>0</td>\n",
       "      <td>0</td>\n",
       "      <td>6</td>\n",
       "      <td>3</td>\n",
       "      <td>1</td>\n",
       "      <td>1</td>\n",
       "      <td>0</td>\n",
       "    </tr>\n",
       "    <tr>\n",
       "      <th>2</th>\n",
       "      <td>0</td>\n",
       "      <td>1</td>\n",
       "      <td>17</td>\n",
       "      <td>1</td>\n",
       "      <td>1</td>\n",
       "      <td>1</td>\n",
       "      <td>1</td>\n",
       "      <td>0</td>\n",
       "      <td>4</td>\n",
       "      <td>0</td>\n",
       "      <td>...</td>\n",
       "      <td>2</td>\n",
       "      <td>0</td>\n",
       "      <td>0</td>\n",
       "      <td>0</td>\n",
       "      <td>0</td>\n",
       "      <td>4</td>\n",
       "      <td>3</td>\n",
       "      <td>1</td>\n",
       "      <td>1</td>\n",
       "      <td>0</td>\n",
       "    </tr>\n",
       "    <tr>\n",
       "      <th>3</th>\n",
       "      <td>0</td>\n",
       "      <td>1</td>\n",
       "      <td>15</td>\n",
       "      <td>1</td>\n",
       "      <td>1</td>\n",
       "      <td>1</td>\n",
       "      <td>1</td>\n",
       "      <td>0</td>\n",
       "      <td>4</td>\n",
       "      <td>4</td>\n",
       "      <td>...</td>\n",
       "      <td>2</td>\n",
       "      <td>0</td>\n",
       "      <td>0</td>\n",
       "      <td>1</td>\n",
       "      <td>3</td>\n",
       "      <td>10</td>\n",
       "      <td>3</td>\n",
       "      <td>2</td>\n",
       "      <td>3</td>\n",
       "      <td>1</td>\n",
       "    </tr>\n",
       "    <tr>\n",
       "      <th>4</th>\n",
       "      <td>0</td>\n",
       "      <td>1</td>\n",
       "      <td>15</td>\n",
       "      <td>1</td>\n",
       "      <td>1</td>\n",
       "      <td>4</td>\n",
       "      <td>2</td>\n",
       "      <td>1</td>\n",
       "      <td>3</td>\n",
       "      <td>1</td>\n",
       "      <td>...</td>\n",
       "      <td>3</td>\n",
       "      <td>1</td>\n",
       "      <td>1</td>\n",
       "      <td>1</td>\n",
       "      <td>0</td>\n",
       "      <td>2</td>\n",
       "      <td>5</td>\n",
       "      <td>1</td>\n",
       "      <td>1</td>\n",
       "      <td>0</td>\n",
       "    </tr>\n",
       "    <tr>\n",
       "      <th>5</th>\n",
       "      <td>0</td>\n",
       "      <td>1</td>\n",
       "      <td>16</td>\n",
       "      <td>1</td>\n",
       "      <td>1</td>\n",
       "      <td>3</td>\n",
       "      <td>3</td>\n",
       "      <td>4</td>\n",
       "      <td>4</td>\n",
       "      <td>1</td>\n",
       "      <td>...</td>\n",
       "      <td>2</td>\n",
       "      <td>0</td>\n",
       "      <td>1</td>\n",
       "      <td>1</td>\n",
       "      <td>0</td>\n",
       "      <td>4</td>\n",
       "      <td>5</td>\n",
       "      <td>1</td>\n",
       "      <td>2</td>\n",
       "      <td>0</td>\n",
       "    </tr>\n",
       "  </tbody>\n",
       "</table>\n",
       "<p>5 rows × 30 columns</p>\n",
       "</div>"
      ],
      "text/plain": [
       "    school  gender  age  home address  parents cohabitation  moms education  \\\n",
       "id                                                                            \n",
       "1        0       1   18             1                     0               4   \n",
       "2        0       1   17             1                     1               1   \n",
       "3        0       1   15             1                     1               1   \n",
       "4        0       1   15             1                     1               4   \n",
       "5        0       1   16             1                     1               3   \n",
       "\n",
       "    dads education  moms job  dads job  choice reason  ...  study time  \\\n",
       "id                                                     ...               \n",
       "1                4         0         2              0  ...           2   \n",
       "2                1         0         4              0  ...           2   \n",
       "3                1         0         4              4  ...           2   \n",
       "4                2         1         3              1  ...           3   \n",
       "5                3         4         4              1  ...           2   \n",
       "\n",
       "    first periods grade  second periods grade  third periods grade  failures  \\\n",
       "id                                                                             \n",
       "1                     0                     0                    0         0   \n",
       "2                     0                     0                    0         0   \n",
       "3                     0                     0                    1         3   \n",
       "4                     1                     1                    1         0   \n",
       "5                     0                     1                    1         0   \n",
       "\n",
       "    absences  health  weekday drinking  weekend drinking  heavy drinking  \n",
       "id                                                                        \n",
       "1          6       3                 1                 1               0  \n",
       "2          4       3                 1                 1               0  \n",
       "3         10       3                 2                 3               1  \n",
       "4          2       5                 1                 1               0  \n",
       "5          4       5                 1                 2               0  \n",
       "\n",
       "[5 rows x 30 columns]"
      ]
     },
     "execution_count": 5,
     "metadata": {},
     "output_type": "execute_result"
    }
   ],
   "source": [
    "df = pd.DataFrame(data=rows, columns=map(lambda x: x[0], description))\n",
    "df = df.set_index('id')\n",
    "df[:5]"
   ]
  },
  {
   "cell_type": "code",
   "execution_count": 6,
   "id": "4400ac19",
   "metadata": {},
   "outputs": [
    {
     "data": {
      "text/plain": [
       "school                   2\n",
       "gender                   2\n",
       "age                      8\n",
       "home address             2\n",
       "parents cohabitation     2\n",
       "moms education           5\n",
       "dads education           5\n",
       "moms job                 5\n",
       "dads job                 5\n",
       "choice reason            4\n",
       "guardian                 3\n",
       "travel time              4\n",
       "nursery education        2\n",
       "internet access          2\n",
       "higher education         2\n",
       "significant other        2\n",
       "household size           2\n",
       "family relationship      5\n",
       "free time                5\n",
       "social activities        5\n",
       "study time               4\n",
       "first periods grade      2\n",
       "second periods grade     2\n",
       "third periods grade      2\n",
       "failures                 4\n",
       "absences                35\n",
       "health                   5\n",
       "weekday drinking         5\n",
       "weekend drinking         5\n",
       "heavy drinking           2\n",
       "dtype: int64"
      ]
     },
     "execution_count": 6,
     "metadata": {},
     "output_type": "execute_result"
    }
   ],
   "source": [
    "df.nunique()"
   ]
  },
  {
   "cell_type": "markdown",
   "id": "792acc7e",
   "metadata": {},
   "source": [
    "## Data Modeling"
   ]
  },
  {
   "cell_type": "code",
   "execution_count": 7,
   "id": "6745b6d2",
   "metadata": {},
   "outputs": [],
   "source": [
    "from sklearn.ensemble import RandomForestClassifier\n",
    "from sklearn.model_selection import train_test_split\n",
    "from sklearn.preprocessing import StandardScaler\n",
    "from sklearn.preprocessing import MinMaxScaler\n",
    "from sklearn.preprocessing import OneHotEncoder\n",
    "from sklearn.tree import DecisionTreeClassifier\n",
    "from sklearn.metrics import accuracy_score\n",
    "from sklearn.metrics import confusion_matrix\n",
    "from sklearn.metrics import classification_report\n",
    "import tensorflow as tf"
   ]
  },
  {
   "cell_type": "markdown",
   "id": "93910c04",
   "metadata": {},
   "source": [
    "### Data Preparation"
   ]
  },
  {
   "cell_type": "code",
   "execution_count": 8,
   "id": "e6dd48fa",
   "metadata": {},
   "outputs": [
    {
     "data": {
      "text/html": [
       "<div>\n",
       "<style scoped>\n",
       "    .dataframe tbody tr th:only-of-type {\n",
       "        vertical-align: middle;\n",
       "    }\n",
       "\n",
       "    .dataframe tbody tr th {\n",
       "        vertical-align: top;\n",
       "    }\n",
       "\n",
       "    .dataframe thead th {\n",
       "        text-align: right;\n",
       "    }\n",
       "</style>\n",
       "<table border=\"1\" class=\"dataframe\">\n",
       "  <thead>\n",
       "    <tr style=\"text-align: right;\">\n",
       "      <th></th>\n",
       "      <th>age</th>\n",
       "      <th>guardian</th>\n",
       "      <th>failures</th>\n",
       "      <th>free time</th>\n",
       "      <th>travel time</th>\n",
       "      <th>social activities</th>\n",
       "      <th>study time</th>\n",
       "      <th>health</th>\n",
       "      <th>family relationship</th>\n",
       "      <th>moms job</th>\n",
       "      <th>dads job</th>\n",
       "      <th>moms education</th>\n",
       "      <th>dads education</th>\n",
       "      <th>choice reason</th>\n",
       "      <th>absences</th>\n",
       "    </tr>\n",
       "    <tr>\n",
       "      <th>id</th>\n",
       "      <th></th>\n",
       "      <th></th>\n",
       "      <th></th>\n",
       "      <th></th>\n",
       "      <th></th>\n",
       "      <th></th>\n",
       "      <th></th>\n",
       "      <th></th>\n",
       "      <th></th>\n",
       "      <th></th>\n",
       "      <th></th>\n",
       "      <th></th>\n",
       "      <th></th>\n",
       "      <th></th>\n",
       "      <th></th>\n",
       "    </tr>\n",
       "  </thead>\n",
       "  <tbody>\n",
       "    <tr>\n",
       "      <th>1</th>\n",
       "      <td>18</td>\n",
       "      <td>0</td>\n",
       "      <td>0</td>\n",
       "      <td>3</td>\n",
       "      <td>2</td>\n",
       "      <td>4</td>\n",
       "      <td>2</td>\n",
       "      <td>3</td>\n",
       "      <td>4</td>\n",
       "      <td>0</td>\n",
       "      <td>2</td>\n",
       "      <td>4</td>\n",
       "      <td>4</td>\n",
       "      <td>0</td>\n",
       "      <td>6</td>\n",
       "    </tr>\n",
       "    <tr>\n",
       "      <th>2</th>\n",
       "      <td>17</td>\n",
       "      <td>1</td>\n",
       "      <td>0</td>\n",
       "      <td>3</td>\n",
       "      <td>1</td>\n",
       "      <td>3</td>\n",
       "      <td>2</td>\n",
       "      <td>3</td>\n",
       "      <td>5</td>\n",
       "      <td>0</td>\n",
       "      <td>4</td>\n",
       "      <td>1</td>\n",
       "      <td>1</td>\n",
       "      <td>0</td>\n",
       "      <td>4</td>\n",
       "    </tr>\n",
       "    <tr>\n",
       "      <th>3</th>\n",
       "      <td>15</td>\n",
       "      <td>0</td>\n",
       "      <td>3</td>\n",
       "      <td>3</td>\n",
       "      <td>1</td>\n",
       "      <td>2</td>\n",
       "      <td>2</td>\n",
       "      <td>3</td>\n",
       "      <td>4</td>\n",
       "      <td>0</td>\n",
       "      <td>4</td>\n",
       "      <td>1</td>\n",
       "      <td>1</td>\n",
       "      <td>4</td>\n",
       "      <td>10</td>\n",
       "    </tr>\n",
       "    <tr>\n",
       "      <th>4</th>\n",
       "      <td>15</td>\n",
       "      <td>0</td>\n",
       "      <td>0</td>\n",
       "      <td>2</td>\n",
       "      <td>1</td>\n",
       "      <td>2</td>\n",
       "      <td>3</td>\n",
       "      <td>5</td>\n",
       "      <td>3</td>\n",
       "      <td>1</td>\n",
       "      <td>3</td>\n",
       "      <td>4</td>\n",
       "      <td>2</td>\n",
       "      <td>1</td>\n",
       "      <td>2</td>\n",
       "    </tr>\n",
       "    <tr>\n",
       "      <th>5</th>\n",
       "      <td>16</td>\n",
       "      <td>1</td>\n",
       "      <td>0</td>\n",
       "      <td>3</td>\n",
       "      <td>1</td>\n",
       "      <td>2</td>\n",
       "      <td>2</td>\n",
       "      <td>5</td>\n",
       "      <td>4</td>\n",
       "      <td>4</td>\n",
       "      <td>4</td>\n",
       "      <td>3</td>\n",
       "      <td>3</td>\n",
       "      <td>1</td>\n",
       "      <td>4</td>\n",
       "    </tr>\n",
       "  </tbody>\n",
       "</table>\n",
       "</div>"
      ],
      "text/plain": [
       "    age  guardian  failures  free time  travel time  social activities  \\\n",
       "id                                                                       \n",
       "1    18         0         0          3            2                  4   \n",
       "2    17         1         0          3            1                  3   \n",
       "3    15         0         3          3            1                  2   \n",
       "4    15         0         0          2            1                  2   \n",
       "5    16         1         0          3            1                  2   \n",
       "\n",
       "    study time  health  family relationship  moms job  dads job  \\\n",
       "id                                                                \n",
       "1            2       3                    4         0         2   \n",
       "2            2       3                    5         0         4   \n",
       "3            2       3                    4         0         4   \n",
       "4            3       5                    3         1         3   \n",
       "5            2       5                    4         4         4   \n",
       "\n",
       "    moms education  dads education  choice reason  absences  \n",
       "id                                                           \n",
       "1                4               4              0         6  \n",
       "2                1               1              0         4  \n",
       "3                1               1              4        10  \n",
       "4                4               2              1         2  \n",
       "5                3               3              1         4  "
      ]
     },
     "execution_count": 8,
     "metadata": {},
     "output_type": "execute_result"
    }
   ],
   "source": [
    "# Non-binary list\n",
    "\n",
    "non_binary = ['age', 'guardian', 'failures', 'free time', 'travel time', 'social activities', 'study time', 'health', 'family relationship', 'moms job', 'dads job', 'moms education', 'dads education', 'choice reason']\n",
    "non_binary.append('absences')\n",
    "\n",
    "non_binary_df = df[non_binary]\n",
    "non_binary_df[:5]"
   ]
  },
  {
   "cell_type": "code",
   "execution_count": 9,
   "id": "9593b1a4",
   "metadata": {},
   "outputs": [
    {
     "data": {
      "text/plain": [
       "age                    int64\n",
       "guardian               int64\n",
       "failures               int64\n",
       "free time              int64\n",
       "travel time            int64\n",
       "social activities      int64\n",
       "study time             int64\n",
       "health                 int64\n",
       "family relationship    int64\n",
       "moms job               int64\n",
       "dads job               int64\n",
       "moms education         int64\n",
       "dads education         int64\n",
       "choice reason          int64\n",
       "absences               int64\n",
       "dtype: object"
      ]
     },
     "execution_count": 9,
     "metadata": {},
     "output_type": "execute_result"
    }
   ],
   "source": [
    "non_binary_df.dtypes"
   ]
  },
  {
   "cell_type": "code",
   "execution_count": 10,
   "id": "b2175cae",
   "metadata": {},
   "outputs": [
    {
     "data": {
      "text/html": [
       "<div>\n",
       "<style scoped>\n",
       "    .dataframe tbody tr th:only-of-type {\n",
       "        vertical-align: middle;\n",
       "    }\n",
       "\n",
       "    .dataframe tbody tr th {\n",
       "        vertical-align: top;\n",
       "    }\n",
       "\n",
       "    .dataframe thead th {\n",
       "        text-align: right;\n",
       "    }\n",
       "</style>\n",
       "<table border=\"1\" class=\"dataframe\">\n",
       "  <thead>\n",
       "    <tr style=\"text-align: right;\">\n",
       "      <th></th>\n",
       "      <th>school</th>\n",
       "      <th>gender</th>\n",
       "      <th>home address</th>\n",
       "      <th>parents cohabitation</th>\n",
       "      <th>nursery education</th>\n",
       "      <th>internet access</th>\n",
       "      <th>higher education</th>\n",
       "      <th>significant other</th>\n",
       "      <th>household size</th>\n",
       "      <th>first periods grade</th>\n",
       "      <th>...</th>\n",
       "      <th>absences_25</th>\n",
       "      <th>absences_26</th>\n",
       "      <th>absences_28</th>\n",
       "      <th>absences_30</th>\n",
       "      <th>absences_32</th>\n",
       "      <th>absences_38</th>\n",
       "      <th>absences_40</th>\n",
       "      <th>absences_54</th>\n",
       "      <th>absences_56</th>\n",
       "      <th>absences_75</th>\n",
       "    </tr>\n",
       "    <tr>\n",
       "      <th>id</th>\n",
       "      <th></th>\n",
       "      <th></th>\n",
       "      <th></th>\n",
       "      <th></th>\n",
       "      <th></th>\n",
       "      <th></th>\n",
       "      <th></th>\n",
       "      <th></th>\n",
       "      <th></th>\n",
       "      <th></th>\n",
       "      <th></th>\n",
       "      <th></th>\n",
       "      <th></th>\n",
       "      <th></th>\n",
       "      <th></th>\n",
       "      <th></th>\n",
       "      <th></th>\n",
       "      <th></th>\n",
       "      <th></th>\n",
       "      <th></th>\n",
       "      <th></th>\n",
       "    </tr>\n",
       "  </thead>\n",
       "  <tbody>\n",
       "    <tr>\n",
       "      <th>1</th>\n",
       "      <td>0</td>\n",
       "      <td>1</td>\n",
       "      <td>1</td>\n",
       "      <td>0</td>\n",
       "      <td>1</td>\n",
       "      <td>0</td>\n",
       "      <td>1</td>\n",
       "      <td>0</td>\n",
       "      <td>1</td>\n",
       "      <td>0</td>\n",
       "      <td>...</td>\n",
       "      <td>0.0</td>\n",
       "      <td>0.0</td>\n",
       "      <td>0.0</td>\n",
       "      <td>0.0</td>\n",
       "      <td>0.0</td>\n",
       "      <td>0.0</td>\n",
       "      <td>0.0</td>\n",
       "      <td>0.0</td>\n",
       "      <td>0.0</td>\n",
       "      <td>0.0</td>\n",
       "    </tr>\n",
       "    <tr>\n",
       "      <th>2</th>\n",
       "      <td>0</td>\n",
       "      <td>1</td>\n",
       "      <td>1</td>\n",
       "      <td>1</td>\n",
       "      <td>0</td>\n",
       "      <td>1</td>\n",
       "      <td>1</td>\n",
       "      <td>0</td>\n",
       "      <td>1</td>\n",
       "      <td>0</td>\n",
       "      <td>...</td>\n",
       "      <td>0.0</td>\n",
       "      <td>0.0</td>\n",
       "      <td>0.0</td>\n",
       "      <td>0.0</td>\n",
       "      <td>0.0</td>\n",
       "      <td>0.0</td>\n",
       "      <td>0.0</td>\n",
       "      <td>0.0</td>\n",
       "      <td>0.0</td>\n",
       "      <td>0.0</td>\n",
       "    </tr>\n",
       "    <tr>\n",
       "      <th>3</th>\n",
       "      <td>0</td>\n",
       "      <td>1</td>\n",
       "      <td>1</td>\n",
       "      <td>1</td>\n",
       "      <td>1</td>\n",
       "      <td>1</td>\n",
       "      <td>1</td>\n",
       "      <td>0</td>\n",
       "      <td>0</td>\n",
       "      <td>0</td>\n",
       "      <td>...</td>\n",
       "      <td>0.0</td>\n",
       "      <td>0.0</td>\n",
       "      <td>0.0</td>\n",
       "      <td>0.0</td>\n",
       "      <td>0.0</td>\n",
       "      <td>0.0</td>\n",
       "      <td>0.0</td>\n",
       "      <td>0.0</td>\n",
       "      <td>0.0</td>\n",
       "      <td>0.0</td>\n",
       "    </tr>\n",
       "    <tr>\n",
       "      <th>4</th>\n",
       "      <td>0</td>\n",
       "      <td>1</td>\n",
       "      <td>1</td>\n",
       "      <td>1</td>\n",
       "      <td>1</td>\n",
       "      <td>1</td>\n",
       "      <td>1</td>\n",
       "      <td>1</td>\n",
       "      <td>1</td>\n",
       "      <td>1</td>\n",
       "      <td>...</td>\n",
       "      <td>0.0</td>\n",
       "      <td>0.0</td>\n",
       "      <td>0.0</td>\n",
       "      <td>0.0</td>\n",
       "      <td>0.0</td>\n",
       "      <td>0.0</td>\n",
       "      <td>0.0</td>\n",
       "      <td>0.0</td>\n",
       "      <td>0.0</td>\n",
       "      <td>0.0</td>\n",
       "    </tr>\n",
       "    <tr>\n",
       "      <th>5</th>\n",
       "      <td>0</td>\n",
       "      <td>1</td>\n",
       "      <td>1</td>\n",
       "      <td>1</td>\n",
       "      <td>1</td>\n",
       "      <td>0</td>\n",
       "      <td>1</td>\n",
       "      <td>0</td>\n",
       "      <td>1</td>\n",
       "      <td>0</td>\n",
       "      <td>...</td>\n",
       "      <td>0.0</td>\n",
       "      <td>0.0</td>\n",
       "      <td>0.0</td>\n",
       "      <td>0.0</td>\n",
       "      <td>0.0</td>\n",
       "      <td>0.0</td>\n",
       "      <td>0.0</td>\n",
       "      <td>0.0</td>\n",
       "      <td>0.0</td>\n",
       "      <td>0.0</td>\n",
       "    </tr>\n",
       "  </tbody>\n",
       "</table>\n",
       "<p>5 rows × 117 columns</p>\n",
       "</div>"
      ],
      "text/plain": [
       "    school  gender  home address  parents cohabitation  nursery education  \\\n",
       "id                                                                          \n",
       "1        0       1             1                     0                  1   \n",
       "2        0       1             1                     1                  0   \n",
       "3        0       1             1                     1                  1   \n",
       "4        0       1             1                     1                  1   \n",
       "5        0       1             1                     1                  1   \n",
       "\n",
       "    internet access  higher education  significant other  household size  \\\n",
       "id                                                                         \n",
       "1                 0                 1                  0               1   \n",
       "2                 1                 1                  0               1   \n",
       "3                 1                 1                  0               0   \n",
       "4                 1                 1                  1               1   \n",
       "5                 0                 1                  0               1   \n",
       "\n",
       "    first periods grade  ...  absences_25  absences_26  absences_28  \\\n",
       "id                       ...                                          \n",
       "1                     0  ...          0.0          0.0          0.0   \n",
       "2                     0  ...          0.0          0.0          0.0   \n",
       "3                     0  ...          0.0          0.0          0.0   \n",
       "4                     1  ...          0.0          0.0          0.0   \n",
       "5                     0  ...          0.0          0.0          0.0   \n",
       "\n",
       "    absences_30  absences_32  absences_38  absences_40  absences_54  \\\n",
       "id                                                                    \n",
       "1           0.0          0.0          0.0          0.0          0.0   \n",
       "2           0.0          0.0          0.0          0.0          0.0   \n",
       "3           0.0          0.0          0.0          0.0          0.0   \n",
       "4           0.0          0.0          0.0          0.0          0.0   \n",
       "5           0.0          0.0          0.0          0.0          0.0   \n",
       "\n",
       "    absences_56  absences_75  \n",
       "id                            \n",
       "1           0.0          0.0  \n",
       "2           0.0          0.0  \n",
       "3           0.0          0.0  \n",
       "4           0.0          0.0  \n",
       "5           0.0          0.0  \n",
       "\n",
       "[5 rows x 117 columns]"
      ]
     },
     "execution_count": 10,
     "metadata": {},
     "output_type": "execute_result"
    }
   ],
   "source": [
    "one_hot_enc = OneHotEncoder(sparse=False)\n",
    "one_hot_df = pd.DataFrame(one_hot_enc.fit_transform(non_binary_df))\n",
    "encoded_columns = one_hot_enc.get_feature_names_out(non_binary)\n",
    "one_hot_df.columns = encoded_columns\n",
    "\n",
    "# merge dataframes\n",
    "\n",
    "encoded_df = df.join(one_hot_df)\n",
    "\n",
    "# drop non-binary columns\n",
    "encoded_df = encoded_df.drop(non_binary, axis=1)\n",
    "encoded_df[:5]"
   ]
  },
  {
   "cell_type": "code",
   "execution_count": 11,
   "id": "e5b9f701",
   "metadata": {},
   "outputs": [],
   "source": [
    "encoded_df = encoded_df.dropna()"
   ]
  },
  {
   "cell_type": "code",
   "execution_count": 12,
   "id": "7a0121ad",
   "metadata": {},
   "outputs": [
    {
     "data": {
      "text/plain": [
       "school                  2\n",
       "gender                  2\n",
       "home address            2\n",
       "parents cohabitation    2\n",
       "nursery education       2\n",
       "                       ..\n",
       "absences_38             2\n",
       "absences_40             2\n",
       "absences_54             2\n",
       "absences_56             2\n",
       "absences_75             2\n",
       "Length: 117, dtype: int64"
      ]
     },
     "execution_count": 12,
     "metadata": {},
     "output_type": "execute_result"
    }
   ],
   "source": [
    "encoded_df.nunique()"
   ]
  },
  {
   "cell_type": "markdown",
   "id": "579909ea",
   "metadata": {},
   "source": [
    "### Features (Inputs) and Target(s) (Output) "
   ]
  },
  {
   "cell_type": "code",
   "execution_count": 13,
   "id": "7dca53bb",
   "metadata": {},
   "outputs": [],
   "source": [
    "features = encoded_df.columns\n",
    "# features = features.drop(['heavy drinking', 'weekend drinking', 'weekday drinking', 'absences'])\n",
    "features = features.drop(['heavy drinking', 'weekend drinking', 'weekday drinking'])\n",
    "\n",
    "output = 'heavy drinking'\n",
    "\n",
    "X = encoded_df[features]\n",
    "y = encoded_df[output]\n",
    "\n",
    "X_train, X_test, y_train, y_test = train_test_split(X, y, random_state=78)"
   ]
  },
  {
   "cell_type": "markdown",
   "id": "25d52ea5",
   "metadata": {},
   "source": [
    "### Number of Features"
   ]
  },
  {
   "cell_type": "code",
   "execution_count": 14,
   "id": "8ee0658b",
   "metadata": {},
   "outputs": [
    {
     "name": "stdout",
     "output_type": "stream",
     "text": [
      "Number of Columns in the table before preprocessing: 30\n",
      "Number of Features: 114\n",
      "Number of Output: 1\n"
     ]
    }
   ],
   "source": [
    "print(f'Number of Columns in the table before preprocessing: {len(df.columns)}')\n",
    "print(f'Number of Features: {len(features)}')\n",
    "print(f'Number of Output: 1')"
   ]
  },
  {
   "cell_type": "markdown",
   "id": "f3e991d5",
   "metadata": {},
   "source": [
    "### Utility Functions"
   ]
  },
  {
   "cell_type": "code",
   "execution_count": 15,
   "id": "488f6b0a",
   "metadata": {},
   "outputs": [],
   "source": [
    "def feature_rank(values, columns, sort=True):\n",
    "    \"\"\"\n",
    "    Pairs up feature names with their importance values\n",
    "    \n",
    "    Parameters\n",
    "        values (numpy.array): array of floats from model.feature_importances_\n",
    "        columns (list): list of column names from df.columns\n",
    "        sort (boolean): sort list \n",
    "    \n",
    "    Returns\n",
    "        list of tuples containing tuples of (column-name, importance-value)\n",
    "    \"\"\"\n",
    "    # creates an unordered list of tuple\n",
    "    ranks = [(x,y) for x, y in zip(columns, values)]\n",
    "    \n",
    "    if(sort):\n",
    "        # sorts in descending order\n",
    "        return sorted(ranks, key=lambda x: x[1], reverse=True)\n",
    "    else:\n",
    "        return ranks\n",
    "\n",
    "    \n",
    "def matrix_dataframe(arg):\n",
    "    return pd.DataFrame(data=arg, index=['Actual (Positive)', 'Actual (Negative)'], columns=['Predicted (True)', 'Predicted (False)'])\n"
   ]
  },
  {
   "cell_type": "markdown",
   "id": "369e98c4",
   "metadata": {},
   "source": [
    "###  Data Scaled "
   ]
  },
  {
   "cell_type": "code",
   "execution_count": 16,
   "id": "4895b5e5",
   "metadata": {},
   "outputs": [],
   "source": [
    "scaler = StandardScaler()\n",
    "X_scaler = scaler.fit(X_train)\n",
    "X_train_scaled = X_scaler.transform(X_train)\n",
    "X_test_scaled = X_scaler.transform(X_test)"
   ]
  },
  {
   "cell_type": "markdown",
   "id": "fe5588c4",
   "metadata": {},
   "source": [
    "## Decision Tree Classifier"
   ]
  },
  {
   "cell_type": "code",
   "execution_count": 17,
   "id": "7e40013c",
   "metadata": {},
   "outputs": [
    {
     "data": {
      "text/plain": [
       "array([[-0.59802917,  0.88392374,  0.61380825, ..., -0.03578281,\n",
       "        -0.03578281, -0.03578281],\n",
       "       [ 1.67215923,  0.88392374,  0.61380825, ..., -0.03578281,\n",
       "        -0.03578281, -0.03578281],\n",
       "       [-0.59802917,  0.88392374,  0.61380825, ..., -0.03578281,\n",
       "        -0.03578281, -0.03578281],\n",
       "       ...,\n",
       "       [-0.59802917,  0.88392374,  0.61380825, ..., -0.03578281,\n",
       "        -0.03578281, -0.03578281],\n",
       "       [-0.59802917, -1.13131931,  0.61380825, ..., -0.03578281,\n",
       "        -0.03578281, -0.03578281],\n",
       "       [-0.59802917, -1.13131931, -1.62917329, ..., -0.03578281,\n",
       "        -0.03578281, -0.03578281]])"
      ]
     },
     "execution_count": 17,
     "metadata": {},
     "output_type": "execute_result"
    }
   ],
   "source": [
    "dt_model = DecisionTreeClassifier()\n",
    "dt_model.fit(X_train_scaled, y_train)\n",
    "X_train_scaled"
   ]
  },
  {
   "cell_type": "markdown",
   "id": "b25bdb45",
   "metadata": {},
   "source": [
    "### Predictions (Decision Tree Classifier)"
   ]
  },
  {
   "cell_type": "code",
   "execution_count": 18,
   "id": "3705f066",
   "metadata": {},
   "outputs": [
    {
     "data": {
      "text/plain": [
       "array([1, 1, 0, 1, 0, 0, 1, 0, 1, 1, 1, 0, 0, 1, 0, 0, 0, 1, 1, 1, 0, 1,\n",
       "       0, 1, 1, 0, 0, 1, 0, 0, 1, 0, 1, 0, 1, 0, 1, 0, 1, 1, 1, 0, 0, 1,\n",
       "       0, 1, 0, 1, 0, 0, 1, 0, 1, 0, 1, 1, 1, 1, 1, 0, 1, 0, 1, 1, 1, 0,\n",
       "       1, 0, 0, 0, 0, 1, 1, 0, 1, 1, 1, 1, 1, 0, 0, 1, 0, 0, 1, 0, 0, 0,\n",
       "       1, 1, 0, 1, 0, 1, 0, 0, 0, 1, 1, 0, 1, 1, 0, 1, 0, 0, 1, 0, 1, 0,\n",
       "       0, 1, 0, 0, 1, 1, 0, 1, 0, 0, 1, 0, 0, 1, 0, 1, 0, 1, 1, 0, 1, 0,\n",
       "       1, 0, 1, 0, 1, 0, 1, 0, 1, 0, 0, 1, 1, 0, 0, 1, 1, 1, 0, 0, 1, 0,\n",
       "       0, 0, 0, 0, 1, 1, 0, 0, 1, 0, 1, 0, 0, 0, 1, 0, 0, 1, 0, 1, 1, 0,\n",
       "       0, 0, 1, 1, 1, 1, 0, 1, 1, 0, 1, 1, 0, 0, 0, 0, 0, 1, 0, 1, 0, 0,\n",
       "       0, 1, 0, 0, 0, 0, 1, 1, 1, 1, 1, 1, 0, 1, 1, 0, 0, 1, 1, 0, 0, 0,\n",
       "       0, 0, 0, 1, 0, 0, 0, 0, 0, 0, 1, 0, 0, 0, 0, 0, 0, 0, 0, 0, 1, 1,\n",
       "       0, 0, 0, 0, 0, 1, 1, 1, 0, 1, 1, 0, 1, 0, 1, 1, 1, 0, 0],\n",
       "      dtype=int64)"
      ]
     },
     "execution_count": 18,
     "metadata": {},
     "output_type": "execute_result"
    }
   ],
   "source": [
    "dt_predictions = dt_model.predict(X_test_scaled)\n",
    "dt_predictions"
   ]
  },
  {
   "cell_type": "markdown",
   "id": "f301e4f4",
   "metadata": {},
   "source": [
    "### The Predictive Accuracy (Decision Tree Classifier)"
   ]
  },
  {
   "cell_type": "code",
   "execution_count": 19,
   "id": "ed3a84f6",
   "metadata": {},
   "outputs": [
    {
     "data": {
      "text/plain": [
       "0.7432950191570882"
      ]
     },
     "execution_count": 19,
     "metadata": {},
     "output_type": "execute_result"
    }
   ],
   "source": [
    "dt_acc_score = accuracy_score(y_test, dt_predictions)\n",
    "dt_acc_score"
   ]
  },
  {
   "cell_type": "markdown",
   "id": "9b1e611a",
   "metadata": {},
   "source": [
    "### Confusion Matrix (Decision Tree Classifier)"
   ]
  },
  {
   "cell_type": "code",
   "execution_count": 20,
   "id": "d4516d6d",
   "metadata": {},
   "outputs": [
    {
     "data": {
      "text/plain": [
       "array([[113,  39],\n",
       "       [ 28,  81]], dtype=int64)"
      ]
     },
     "execution_count": 20,
     "metadata": {},
     "output_type": "execute_result"
    }
   ],
   "source": [
    "dt_conf_mat = confusion_matrix(y_test, dt_predictions)\n",
    "dt_conf_mat"
   ]
  },
  {
   "cell_type": "code",
   "execution_count": 21,
   "id": "fd91168d",
   "metadata": {},
   "outputs": [
    {
     "data": {
      "text/html": [
       "<div>\n",
       "<style scoped>\n",
       "    .dataframe tbody tr th:only-of-type {\n",
       "        vertical-align: middle;\n",
       "    }\n",
       "\n",
       "    .dataframe tbody tr th {\n",
       "        vertical-align: top;\n",
       "    }\n",
       "\n",
       "    .dataframe thead th {\n",
       "        text-align: right;\n",
       "    }\n",
       "</style>\n",
       "<table border=\"1\" class=\"dataframe\">\n",
       "  <thead>\n",
       "    <tr style=\"text-align: right;\">\n",
       "      <th></th>\n",
       "      <th>Predicted (True)</th>\n",
       "      <th>Predicted (False)</th>\n",
       "    </tr>\n",
       "  </thead>\n",
       "  <tbody>\n",
       "    <tr>\n",
       "      <th>Actual (Positive)</th>\n",
       "      <td>113</td>\n",
       "      <td>39</td>\n",
       "    </tr>\n",
       "    <tr>\n",
       "      <th>Actual (Negative)</th>\n",
       "      <td>28</td>\n",
       "      <td>81</td>\n",
       "    </tr>\n",
       "  </tbody>\n",
       "</table>\n",
       "</div>"
      ],
      "text/plain": [
       "                   Predicted (True)  Predicted (False)\n",
       "Actual (Positive)               113                 39\n",
       "Actual (Negative)                28                 81"
      ]
     },
     "execution_count": 21,
     "metadata": {},
     "output_type": "execute_result"
    }
   ],
   "source": [
    "matrix_dataframe(dt_conf_mat)"
   ]
  },
  {
   "cell_type": "markdown",
   "id": "fa27f6f3",
   "metadata": {},
   "source": [
    "### The Most Important Features (Decision Tree Classifier)"
   ]
  },
  {
   "cell_type": "code",
   "execution_count": 22,
   "id": "2240dcd5",
   "metadata": {},
   "outputs": [
    {
     "data": {
      "text/plain": [
       "gender                   0.063268\n",
       "second periods grade     0.047708\n",
       "guardian_0               0.030466\n",
       "moms education_3         0.027627\n",
       "dads education_2         0.027057\n",
       "dads job_4               0.026493\n",
       "home address             0.023232\n",
       "social activities_2      0.022432\n",
       "moms job_4               0.021749\n",
       "age_16                   0.021612\n",
       "choice reason_1          0.021246\n",
       "free time_3              0.021151\n",
       "significant other        0.020753\n",
       "choice reason_0          0.020407\n",
       "family relationship_3    0.020407\n",
       "Name: feature importances, dtype: float64"
      ]
     },
     "execution_count": 22,
     "metadata": {},
     "output_type": "execute_result"
    }
   ],
   "source": [
    "ranks = feature_rank(dt_model.feature_importances_, features)\n",
    "dt_most = pd.Series(data=dict(ranks), name='feature importances')  # Top 15\n",
    "dt_most[:15]"
   ]
  },
  {
   "cell_type": "markdown",
   "id": "56ecb885",
   "metadata": {},
   "source": [
    "### The Least Important Features (Decision Tree Classifier)"
   ]
  },
  {
   "cell_type": "code",
   "execution_count": 23,
   "id": "5bff4356",
   "metadata": {},
   "outputs": [
    {
     "data": {
      "text/plain": [
       "absences_75    0.0\n",
       "absences_56    0.0\n",
       "absences_54    0.0\n",
       "absences_40    0.0\n",
       "absences_38    0.0\n",
       "absences_32    0.0\n",
       "absences_30    0.0\n",
       "absences_28    0.0\n",
       "absences_26    0.0\n",
       "absences_25    0.0\n",
       "absences_24    0.0\n",
       "absences_21    0.0\n",
       "absences_20    0.0\n",
       "absences_19    0.0\n",
       "absences_18    0.0\n",
       "Name: least important features, dtype: float64"
      ]
     },
     "execution_count": 23,
     "metadata": {},
     "output_type": "execute_result"
    }
   ],
   "source": [
    "# \n",
    "ranks.reverse()\n",
    "dt_least = pd.Series(data=dict(ranks), name='least important features')\n",
    "dt_least[:15]"
   ]
  },
  {
   "cell_type": "markdown",
   "id": "1577a68f",
   "metadata": {},
   "source": [
    "### Classification Report (Decision Tree Classifier)"
   ]
  },
  {
   "cell_type": "code",
   "execution_count": 24,
   "id": "b7406dec",
   "metadata": {},
   "outputs": [
    {
     "name": "stdout",
     "output_type": "stream",
     "text": [
      "              precision    recall  f1-score   support\n",
      "\n",
      "           0       0.80      0.74      0.77       152\n",
      "           1       0.68      0.74      0.71       109\n",
      "\n",
      "    accuracy                           0.74       261\n",
      "   macro avg       0.74      0.74      0.74       261\n",
      "weighted avg       0.75      0.74      0.74       261\n",
      "\n"
     ]
    }
   ],
   "source": [
    "print(classification_report(y_test, dt_predictions))"
   ]
  },
  {
   "cell_type": "markdown",
   "id": "a49abee3",
   "metadata": {},
   "source": [
    "## Random Forest Classifier"
   ]
  },
  {
   "cell_type": "code",
   "execution_count": 25,
   "id": "05d71822",
   "metadata": {},
   "outputs": [
    {
     "data": {
      "text/plain": [
       "array([[-0.59802917,  0.88392374,  0.61380825, ..., -0.03578281,\n",
       "        -0.03578281, -0.03578281],\n",
       "       [ 1.67215923,  0.88392374,  0.61380825, ..., -0.03578281,\n",
       "        -0.03578281, -0.03578281],\n",
       "       [-0.59802917,  0.88392374,  0.61380825, ..., -0.03578281,\n",
       "        -0.03578281, -0.03578281],\n",
       "       ...,\n",
       "       [-0.59802917,  0.88392374,  0.61380825, ..., -0.03578281,\n",
       "        -0.03578281, -0.03578281],\n",
       "       [-0.59802917, -1.13131931,  0.61380825, ..., -0.03578281,\n",
       "        -0.03578281, -0.03578281],\n",
       "       [-0.59802917, -1.13131931, -1.62917329, ..., -0.03578281,\n",
       "        -0.03578281, -0.03578281]])"
      ]
     },
     "execution_count": 25,
     "metadata": {},
     "output_type": "execute_result"
    }
   ],
   "source": [
    "rf_model = RandomForestClassifier(n_estimators=128, random_state=25)\n",
    "rf_model.fit(X_train_scaled, y_train)\n",
    "X_train_scaled"
   ]
  },
  {
   "cell_type": "markdown",
   "id": "0970b210",
   "metadata": {},
   "source": [
    "### Predictions (Random Forest Classifier)"
   ]
  },
  {
   "cell_type": "code",
   "execution_count": 26,
   "id": "5e6e9ebf",
   "metadata": {},
   "outputs": [
    {
     "data": {
      "text/plain": [
       "array([1, 0, 1, 0, 1, 1, 1, 0, 0, 1, 0, 0, 0, 1, 0, 1, 0, 1, 1, 1, 0, 1,\n",
       "       0, 0, 0, 0, 0, 1, 0, 0, 1, 0, 1, 0, 0, 0, 1, 0, 1, 0, 1, 0, 0, 1,\n",
       "       1, 0, 0, 1, 0, 1, 1, 0, 1, 1, 0, 1, 0, 1, 0, 0, 0, 0, 0, 1, 1, 0,\n",
       "       0, 0, 0, 0, 0, 0, 1, 0, 0, 0, 0, 1, 0, 0, 0, 1, 0, 0, 1, 0, 1, 0,\n",
       "       0, 1, 0, 1, 0, 0, 0, 0, 0, 0, 0, 0, 0, 1, 1, 0, 0, 0, 1, 0, 1, 0,\n",
       "       0, 1, 0, 0, 0, 1, 0, 1, 0, 0, 1, 1, 0, 0, 0, 1, 0, 0, 1, 0, 0, 0,\n",
       "       1, 1, 1, 0, 1, 0, 0, 0, 0, 0, 0, 0, 0, 0, 1, 1, 0, 0, 0, 0, 0, 0,\n",
       "       0, 0, 1, 0, 1, 0, 0, 0, 1, 0, 1, 0, 0, 0, 1, 1, 1, 1, 0, 0, 1, 0,\n",
       "       0, 0, 1, 1, 1, 1, 0, 0, 0, 1, 0, 1, 0, 0, 0, 0, 0, 0, 0, 1, 0, 0,\n",
       "       0, 1, 0, 0, 0, 0, 1, 1, 1, 0, 1, 1, 0, 1, 1, 1, 1, 0, 1, 0, 0, 0,\n",
       "       0, 0, 0, 0, 0, 0, 0, 0, 0, 0, 0, 0, 0, 0, 0, 0, 1, 0, 0, 0, 1, 1,\n",
       "       0, 0, 0, 0, 1, 0, 1, 1, 0, 1, 1, 0, 1, 0, 1, 1, 0, 0, 0],\n",
       "      dtype=int64)"
      ]
     },
     "execution_count": 26,
     "metadata": {},
     "output_type": "execute_result"
    }
   ],
   "source": [
    "rf_predictions = rf_model.predict(X_test_scaled)\n",
    "rf_predictions"
   ]
  },
  {
   "cell_type": "markdown",
   "id": "63d27773",
   "metadata": {},
   "source": [
    "### The Predictive Accuracy (Random Forest Classifier)"
   ]
  },
  {
   "cell_type": "code",
   "execution_count": 27,
   "id": "d8bbf4b4",
   "metadata": {},
   "outputs": [
    {
     "data": {
      "text/plain": [
       "0.7777777777777778"
      ]
     },
     "execution_count": 27,
     "metadata": {},
     "output_type": "execute_result"
    }
   ],
   "source": [
    "rf_acc_score = accuracy_score(y_test, rf_predictions)\n",
    "rf_acc_score"
   ]
  },
  {
   "cell_type": "markdown",
   "id": "57ccc2eb",
   "metadata": {},
   "source": [
    "### Confusion Matrix (Random Forest Classifier)"
   ]
  },
  {
   "cell_type": "code",
   "execution_count": 28,
   "id": "322e3a6d",
   "metadata": {},
   "outputs": [
    {
     "data": {
      "text/plain": [
       "array([[132,  20],\n",
       "       [ 38,  71]], dtype=int64)"
      ]
     },
     "execution_count": 28,
     "metadata": {},
     "output_type": "execute_result"
    }
   ],
   "source": [
    "rf_conf_mat = confusion_matrix(y_test, rf_predictions)\n",
    "rf_conf_mat"
   ]
  },
  {
   "cell_type": "code",
   "execution_count": 29,
   "id": "6593f67f",
   "metadata": {},
   "outputs": [
    {
     "data": {
      "text/html": [
       "<div>\n",
       "<style scoped>\n",
       "    .dataframe tbody tr th:only-of-type {\n",
       "        vertical-align: middle;\n",
       "    }\n",
       "\n",
       "    .dataframe tbody tr th {\n",
       "        vertical-align: top;\n",
       "    }\n",
       "\n",
       "    .dataframe thead th {\n",
       "        text-align: right;\n",
       "    }\n",
       "</style>\n",
       "<table border=\"1\" class=\"dataframe\">\n",
       "  <thead>\n",
       "    <tr style=\"text-align: right;\">\n",
       "      <th></th>\n",
       "      <th>Predicted (True)</th>\n",
       "      <th>Predicted (False)</th>\n",
       "    </tr>\n",
       "  </thead>\n",
       "  <tbody>\n",
       "    <tr>\n",
       "      <th>Actual (Positive)</th>\n",
       "      <td>132</td>\n",
       "      <td>20</td>\n",
       "    </tr>\n",
       "    <tr>\n",
       "      <th>Actual (Negative)</th>\n",
       "      <td>38</td>\n",
       "      <td>71</td>\n",
       "    </tr>\n",
       "  </tbody>\n",
       "</table>\n",
       "</div>"
      ],
      "text/plain": [
       "                   Predicted (True)  Predicted (False)\n",
       "Actual (Positive)               132                 20\n",
       "Actual (Negative)                38                 71"
      ]
     },
     "execution_count": 29,
     "metadata": {},
     "output_type": "execute_result"
    }
   ],
   "source": [
    "matrix_dataframe(rf_conf_mat)"
   ]
  },
  {
   "cell_type": "markdown",
   "id": "06bec41c",
   "metadata": {},
   "source": [
    "### The Most Important Features (Random Forest Classifier)"
   ]
  },
  {
   "cell_type": "code",
   "execution_count": 30,
   "id": "59e6ef61",
   "metadata": {},
   "outputs": [
    {
     "data": {
      "text/plain": [
       "gender                   0.043233\n",
       "significant other        0.019329\n",
       "household size           0.018745\n",
       "second periods grade     0.018541\n",
       "moms job_4               0.017404\n",
       "choice reason_0          0.016710\n",
       "health_5                 0.016652\n",
       "study time_2             0.016276\n",
       "home address             0.016068\n",
       "nursery education        0.016034\n",
       "absences_0               0.015809\n",
       "health_4                 0.015782\n",
       "family relationship_4    0.015749\n",
       "free time_3              0.015736\n",
       "social activities_3      0.015444\n",
       "Name: most important features, dtype: float64"
      ]
     },
     "execution_count": 30,
     "metadata": {},
     "output_type": "execute_result"
    }
   ],
   "source": [
    "ranks = feature_rank(rf_model.feature_importances_, features)\n",
    "rf_most = pd.Series(dict(ranks), name='most important features')\n",
    "rf_most[:15]"
   ]
  },
  {
   "cell_type": "markdown",
   "id": "9f8593ee",
   "metadata": {},
   "source": [
    "### The Least Important Features (Random Forest Classifier)"
   ]
  },
  {
   "cell_type": "code",
   "execution_count": 31,
   "id": "5784b5e8",
   "metadata": {},
   "outputs": [
    {
     "data": {
      "text/plain": [
       "0                        (absences_24, 0.0)\n",
       "1      (absences_28, 7.601614190340818e-06)\n",
       "2      (absences_25, 6.184265657399336e-05)\n",
       "3           (age_22, 6.225871726330673e-05)\n",
       "4      (absences_17, 6.875891836645254e-05)\n",
       "5     (absences_19, 0.00010479549036279609)\n",
       "6     (absences_38, 0.00015925970937976603)\n",
       "7     (absences_40, 0.00017357416115483014)\n",
       "8      (absences_26, 0.0002180238808920384)\n",
       "9     (absences_30, 0.00025779042622988313)\n",
       "10     (absences_56, 0.0003288390281488174)\n",
       "11     (absences_13, 0.0003951429406053934)\n",
       "12     (absences_21, 0.0004799124005496902)\n",
       "13    (absences_54, 0.00048112361364296486)\n",
       "14            (age_21, 0.00049554682577574)\n",
       "Name: least important features, dtype: object"
      ]
     },
     "execution_count": 31,
     "metadata": {},
     "output_type": "execute_result"
    }
   ],
   "source": [
    "ranks.reverse()\n",
    "rf_least = pd.Series(data=ranks, name='least important features')\n",
    "rf_least[:15]"
   ]
  },
  {
   "cell_type": "markdown",
   "id": "995c2419",
   "metadata": {},
   "source": [
    "### Classification Report (Random Forest Classifier)"
   ]
  },
  {
   "cell_type": "code",
   "execution_count": 32,
   "id": "90477d85",
   "metadata": {},
   "outputs": [
    {
     "name": "stdout",
     "output_type": "stream",
     "text": [
      "              precision    recall  f1-score   support\n",
      "\n",
      "           0       0.78      0.87      0.82       152\n",
      "           1       0.78      0.65      0.71       109\n",
      "\n",
      "    accuracy                           0.78       261\n",
      "   macro avg       0.78      0.76      0.76       261\n",
      "weighted avg       0.78      0.78      0.77       261\n",
      "\n"
     ]
    }
   ],
   "source": [
    "print(classification_report(y_test, rf_predictions))"
   ]
  },
  {
   "cell_type": "markdown",
   "id": "39d05430",
   "metadata": {},
   "source": [
    "## Neural Network"
   ]
  },
  {
   "cell_type": "code",
   "execution_count": 33,
   "id": "64606efa",
   "metadata": {},
   "outputs": [
    {
     "name": "stdout",
     "output_type": "stream",
     "text": [
      "Epoch 1/50\n",
      "25/25 [==============================] - 2s 4ms/step - loss: 0.7406 - accuracy: 0.5448\n",
      "Epoch 2/50\n",
      "25/25 [==============================] - 0s 4ms/step - loss: 0.6818 - accuracy: 0.5857\n",
      "Epoch 3/50\n",
      "25/25 [==============================] - 0s 4ms/step - loss: 0.6527 - accuracy: 0.6381\n",
      "Epoch 4/50\n",
      "25/25 [==============================] - 0s 4ms/step - loss: 0.6281 - accuracy: 0.6765\n",
      "Epoch 5/50\n",
      "25/25 [==============================] - 0s 4ms/step - loss: 0.6046 - accuracy: 0.7046\n",
      "Epoch 6/50\n",
      "25/25 [==============================] - 0s 4ms/step - loss: 0.5822 - accuracy: 0.7212\n",
      "Epoch 7/50\n",
      "25/25 [==============================] - 0s 4ms/step - loss: 0.5588 - accuracy: 0.7481\n",
      "Epoch 8/50\n",
      "25/25 [==============================] - 0s 3ms/step - loss: 0.5345 - accuracy: 0.7481\n",
      "Epoch 9/50\n",
      "25/25 [==============================] - 0s 4ms/step - loss: 0.5112 - accuracy: 0.7545\n",
      "Epoch 10/50\n",
      "25/25 [==============================] - 0s 3ms/step - loss: 0.4863 - accuracy: 0.7737\n",
      "Epoch 11/50\n",
      "25/25 [==============================] - 0s 4ms/step - loss: 0.4631 - accuracy: 0.7967\n",
      "Epoch 12/50\n",
      "25/25 [==============================] - 0s 4ms/step - loss: 0.4388 - accuracy: 0.8159\n",
      "Epoch 13/50\n",
      "25/25 [==============================] - 0s 4ms/step - loss: 0.4174 - accuracy: 0.8261\n",
      "Epoch 14/50\n",
      "25/25 [==============================] - 0s 4ms/step - loss: 0.3952 - accuracy: 0.8440\n",
      "Epoch 15/50\n",
      "25/25 [==============================] - 0s 4ms/step - loss: 0.3718 - accuracy: 0.8696\n",
      "Epoch 16/50\n",
      "25/25 [==============================] - 0s 4ms/step - loss: 0.3506 - accuracy: 0.8824\n",
      "Epoch 17/50\n",
      "25/25 [==============================] - 0s 4ms/step - loss: 0.3296 - accuracy: 0.8951\n",
      "Epoch 18/50\n",
      "25/25 [==============================] - 0s 4ms/step - loss: 0.3106 - accuracy: 0.9041\n",
      "Epoch 19/50\n",
      "25/25 [==============================] - 0s 4ms/step - loss: 0.2906 - accuracy: 0.9194\n",
      "Epoch 20/50\n",
      "25/25 [==============================] - 0s 4ms/step - loss: 0.2738 - accuracy: 0.9284\n",
      "Epoch 21/50\n",
      "25/25 [==============================] - 0s 4ms/step - loss: 0.2547 - accuracy: 0.9309\n",
      "Epoch 22/50\n",
      "25/25 [==============================] - 0s 4ms/step - loss: 0.2357 - accuracy: 0.9425\n",
      "Epoch 23/50\n",
      "25/25 [==============================] - 0s 4ms/step - loss: 0.2189 - accuracy: 0.9463\n",
      "Epoch 24/50\n",
      "25/25 [==============================] - 0s 3ms/step - loss: 0.2026 - accuracy: 0.9488\n",
      "Epoch 25/50\n",
      "25/25 [==============================] - 0s 4ms/step - loss: 0.1880 - accuracy: 0.9514\n",
      "Epoch 26/50\n",
      "25/25 [==============================] - 0s 4ms/step - loss: 0.1719 - accuracy: 0.9642\n",
      "Epoch 27/50\n",
      "25/25 [==============================] - 0s 3ms/step - loss: 0.1579 - accuracy: 0.9693\n",
      "Epoch 28/50\n",
      "25/25 [==============================] - 0s 4ms/step - loss: 0.1443 - accuracy: 0.9744\n",
      "Epoch 29/50\n",
      "25/25 [==============================] - 0s 4ms/step - loss: 0.1319 - accuracy: 0.9808\n",
      "Epoch 30/50\n",
      "25/25 [==============================] - 0s 4ms/step - loss: 0.1197 - accuracy: 0.9795\n",
      "Epoch 31/50\n",
      "25/25 [==============================] - 0s 3ms/step - loss: 0.1096 - accuracy: 0.9898\n",
      "Epoch 32/50\n",
      "25/25 [==============================] - 0s 4ms/step - loss: 0.0994 - accuracy: 0.9910\n",
      "Epoch 33/50\n",
      "25/25 [==============================] - 0s 4ms/step - loss: 0.0913 - accuracy: 0.9936\n",
      "Epoch 34/50\n",
      "25/25 [==============================] - 0s 4ms/step - loss: 0.0823 - accuracy: 0.9962\n",
      "Epoch 35/50\n",
      "25/25 [==============================] - 0s 4ms/step - loss: 0.0758 - accuracy: 0.9949\n",
      "Epoch 36/50\n",
      "25/25 [==============================] - 0s 4ms/step - loss: 0.0685 - accuracy: 0.9962\n",
      "Epoch 37/50\n",
      "25/25 [==============================] - 0s 4ms/step - loss: 0.0626 - accuracy: 0.9962\n",
      "Epoch 38/50\n",
      "25/25 [==============================] - 0s 4ms/step - loss: 0.0578 - accuracy: 0.9962\n",
      "Epoch 39/50\n",
      "25/25 [==============================] - 0s 3ms/step - loss: 0.0529 - accuracy: 0.9962\n",
      "Epoch 40/50\n",
      "25/25 [==============================] - 0s 4ms/step - loss: 0.0493 - accuracy: 0.9962\n",
      "Epoch 41/50\n",
      "25/25 [==============================] - 0s 4ms/step - loss: 0.0449 - accuracy: 0.9962\n",
      "Epoch 42/50\n",
      "25/25 [==============================] - 0s 4ms/step - loss: 0.0410 - accuracy: 0.9962\n",
      "Epoch 43/50\n",
      "25/25 [==============================] - 0s 4ms/step - loss: 0.0378 - accuracy: 0.9974\n",
      "Epoch 44/50\n",
      "25/25 [==============================] - 0s 4ms/step - loss: 0.0346 - accuracy: 0.9974\n",
      "Epoch 45/50\n",
      "25/25 [==============================] - 0s 4ms/step - loss: 0.0319 - accuracy: 1.0000\n",
      "Epoch 46/50\n",
      "25/25 [==============================] - 0s 4ms/step - loss: 0.0294 - accuracy: 1.0000\n",
      "Epoch 47/50\n",
      "25/25 [==============================] - 0s 4ms/step - loss: 0.0269 - accuracy: 1.0000\n",
      "Epoch 48/50\n",
      "25/25 [==============================] - 0s 4ms/step - loss: 0.0250 - accuracy: 1.0000\n",
      "Epoch 49/50\n",
      "25/25 [==============================] - 0s 4ms/step - loss: 0.0231 - accuracy: 1.0000\n",
      "Epoch 50/50\n",
      "25/25 [==============================] - 0s 4ms/step - loss: 0.0215 - accuracy: 1.0000\n",
      "9/9 - 0s - loss: 1.0828 - accuracy: 0.6782 - 417ms/epoch - 46ms/step\n",
      "The model loss is 1.0828428268432617 and the accuracy is 0.6781609058380127\n"
     ]
    }
   ],
   "source": [
    "# define the model\n",
    "\n",
    "num_input_features = len(X_train_scaled[0])\n",
    "hidden_nodes_layer_1 = 28\n",
    "hidden_nodes_layer_2 = 14\n",
    "\n",
    "nn = tf.keras.models.Sequential()\n",
    "\n",
    "# first hidden layer\n",
    "nn.add(tf.keras.layers.Dense(units=hidden_nodes_layer_1, input_dim=num_input_features, activation='relu'))\n",
    "\n",
    "# second hidden layer\n",
    "nn.add(tf.keras.layers.Dense(units=hidden_nodes_layer_2, activation='relu'))\n",
    "\n",
    "# outer layer\n",
    "nn.add(tf.keras.layers.Dense(units=1, activation='sigmoid'))\n",
    "\n",
    "nn.compile(loss='binary_crossentropy', optimizer='adam', metrics=['accuracy'])\n",
    "\n",
    "fit_model = nn.fit(X_train_scaled, y_train, epochs=50)\n",
    "\n",
    "model_loss, model_accuracy = nn.evaluate(X_test_scaled, y_test, verbose=2)\n",
    "\n",
    "print(f'The model loss is {model_loss} and the accuracy is {model_accuracy}')"
   ]
  },
  {
   "cell_type": "markdown",
   "id": "e5c9a94d",
   "metadata": {},
   "source": [
    "### Summary (Neural Network)"
   ]
  },
  {
   "cell_type": "code",
   "execution_count": 34,
   "id": "e9b4cef2",
   "metadata": {},
   "outputs": [
    {
     "name": "stdout",
     "output_type": "stream",
     "text": [
      "Model: \"sequential\"\n",
      "_________________________________________________________________\n",
      " Layer (type)                Output Shape              Param #   \n",
      "=================================================================\n",
      " dense (Dense)               (None, 28)                3220      \n",
      "                                                                 \n",
      " dense_1 (Dense)             (None, 14)                406       \n",
      "                                                                 \n",
      " dense_2 (Dense)             (None, 1)                 15        \n",
      "                                                                 \n",
      "=================================================================\n",
      "Total params: 3,641\n",
      "Trainable params: 3,641\n",
      "Non-trainable params: 0\n",
      "_________________________________________________________________\n"
     ]
    }
   ],
   "source": [
    "nn.summary()"
   ]
  },
  {
   "cell_type": "code",
   "execution_count": 35,
   "id": "9fdfd543",
   "metadata": {},
   "outputs": [],
   "source": [
    "conn = sqlite3.connect('../res/data/tables.sql')\n",
    "cursor = conn.cursor()"
   ]
  },
  {
   "cell_type": "code",
   "execution_count": 36,
   "id": "630c9e2f",
   "metadata": {},
   "outputs": [],
   "source": [
    "cursor.execute('''\n",
    "SELECT profile.id, school, gender, age, \"home address\", \"parents cohabitation\", \n",
    "\"moms education\", \"dads education\", \"moms job\", \"dads job\", \"choice reason\", \n",
    "guardian, \"travel time\", \"nursery education\", \"internet access\", \"higher education\",\n",
    "\"significant other\", \"household size\", \"family relationship\", \"free time\",\n",
    "\"social activities\", \"study time\", \"first periods grade\", \"second periods grade\",\n",
    "\"third periods grade\", failures, absences, health, \"weekday drinking\",\n",
    "\"weekend drinking\", \"heavy drinking\"\n",
    "FROM profile\n",
    "JOIN activities\n",
    "ON profile.id = activities.id\n",
    "''')\n",
    "\n",
    "rows = cursor.fetchall()\n",
    "description = cursor.description\n",
    "conn.close()"
   ]
  },
  {
   "cell_type": "code",
   "execution_count": 37,
   "id": "18092351",
   "metadata": {},
   "outputs": [
    {
     "data": {
      "text/html": [
       "<div>\n",
       "<style scoped>\n",
       "    .dataframe tbody tr th:only-of-type {\n",
       "        vertical-align: middle;\n",
       "    }\n",
       "\n",
       "    .dataframe tbody tr th {\n",
       "        vertical-align: top;\n",
       "    }\n",
       "\n",
       "    .dataframe thead th {\n",
       "        text-align: right;\n",
       "    }\n",
       "</style>\n",
       "<table border=\"1\" class=\"dataframe\">\n",
       "  <thead>\n",
       "    <tr style=\"text-align: right;\">\n",
       "      <th></th>\n",
       "      <th>school</th>\n",
       "      <th>gender</th>\n",
       "      <th>age</th>\n",
       "      <th>home address</th>\n",
       "      <th>parents cohabitation</th>\n",
       "      <th>moms education</th>\n",
       "      <th>dads education</th>\n",
       "      <th>moms job</th>\n",
       "      <th>dads job</th>\n",
       "      <th>choice reason</th>\n",
       "      <th>...</th>\n",
       "      <th>study time</th>\n",
       "      <th>first periods grade</th>\n",
       "      <th>second periods grade</th>\n",
       "      <th>third periods grade</th>\n",
       "      <th>failures</th>\n",
       "      <th>absences</th>\n",
       "      <th>health</th>\n",
       "      <th>weekday drinking</th>\n",
       "      <th>weekend drinking</th>\n",
       "      <th>heavy drinking</th>\n",
       "    </tr>\n",
       "    <tr>\n",
       "      <th>id</th>\n",
       "      <th></th>\n",
       "      <th></th>\n",
       "      <th></th>\n",
       "      <th></th>\n",
       "      <th></th>\n",
       "      <th></th>\n",
       "      <th></th>\n",
       "      <th></th>\n",
       "      <th></th>\n",
       "      <th></th>\n",
       "      <th></th>\n",
       "      <th></th>\n",
       "      <th></th>\n",
       "      <th></th>\n",
       "      <th></th>\n",
       "      <th></th>\n",
       "      <th></th>\n",
       "      <th></th>\n",
       "      <th></th>\n",
       "      <th></th>\n",
       "      <th></th>\n",
       "    </tr>\n",
       "  </thead>\n",
       "  <tbody>\n",
       "    <tr>\n",
       "      <th>1</th>\n",
       "      <td>GP</td>\n",
       "      <td>F</td>\n",
       "      <td>18</td>\n",
       "      <td>U</td>\n",
       "      <td>A</td>\n",
       "      <td>4</td>\n",
       "      <td>4</td>\n",
       "      <td>at_home</td>\n",
       "      <td>teacher</td>\n",
       "      <td>course</td>\n",
       "      <td>...</td>\n",
       "      <td>2</td>\n",
       "      <td>fail</td>\n",
       "      <td>fail</td>\n",
       "      <td>fail</td>\n",
       "      <td>0</td>\n",
       "      <td>6</td>\n",
       "      <td>3</td>\n",
       "      <td>1</td>\n",
       "      <td>1</td>\n",
       "      <td>no</td>\n",
       "    </tr>\n",
       "    <tr>\n",
       "      <th>2</th>\n",
       "      <td>GP</td>\n",
       "      <td>F</td>\n",
       "      <td>17</td>\n",
       "      <td>U</td>\n",
       "      <td>T</td>\n",
       "      <td>1</td>\n",
       "      <td>1</td>\n",
       "      <td>at_home</td>\n",
       "      <td>other</td>\n",
       "      <td>course</td>\n",
       "      <td>...</td>\n",
       "      <td>2</td>\n",
       "      <td>fail</td>\n",
       "      <td>fail</td>\n",
       "      <td>fail</td>\n",
       "      <td>0</td>\n",
       "      <td>4</td>\n",
       "      <td>3</td>\n",
       "      <td>1</td>\n",
       "      <td>1</td>\n",
       "      <td>no</td>\n",
       "    </tr>\n",
       "    <tr>\n",
       "      <th>3</th>\n",
       "      <td>GP</td>\n",
       "      <td>F</td>\n",
       "      <td>15</td>\n",
       "      <td>U</td>\n",
       "      <td>T</td>\n",
       "      <td>1</td>\n",
       "      <td>1</td>\n",
       "      <td>at_home</td>\n",
       "      <td>other</td>\n",
       "      <td>other</td>\n",
       "      <td>...</td>\n",
       "      <td>2</td>\n",
       "      <td>fail</td>\n",
       "      <td>fail</td>\n",
       "      <td>pass</td>\n",
       "      <td>3</td>\n",
       "      <td>10</td>\n",
       "      <td>3</td>\n",
       "      <td>2</td>\n",
       "      <td>3</td>\n",
       "      <td>yes</td>\n",
       "    </tr>\n",
       "  </tbody>\n",
       "</table>\n",
       "<p>3 rows × 30 columns</p>\n",
       "</div>"
      ],
      "text/plain": [
       "   school gender  age home address parents cohabitation  moms education  \\\n",
       "id                                                                        \n",
       "1      GP      F   18            U                    A               4   \n",
       "2      GP      F   17            U                    T               1   \n",
       "3      GP      F   15            U                    T               1   \n",
       "\n",
       "    dads education moms job dads job choice reason  ... study time  \\\n",
       "id                                                  ...              \n",
       "1                4  at_home  teacher        course  ...          2   \n",
       "2                1  at_home    other        course  ...          2   \n",
       "3                1  at_home    other         other  ...          2   \n",
       "\n",
       "    first periods grade second periods grade third periods grade failures  \\\n",
       "id                                                                          \n",
       "1                  fail                 fail                fail        0   \n",
       "2                  fail                 fail                fail        0   \n",
       "3                  fail                 fail                pass        3   \n",
       "\n",
       "   absences health  weekday drinking  weekend drinking  heavy drinking  \n",
       "id                                                                      \n",
       "1         6      3                 1                 1              no  \n",
       "2         4      3                 1                 1              no  \n",
       "3        10      3                 2                 3             yes  \n",
       "\n",
       "[3 rows x 30 columns]"
      ]
     },
     "execution_count": 37,
     "metadata": {},
     "output_type": "execute_result"
    }
   ],
   "source": [
    "data_df = pd.DataFrame(data=rows, columns=map(lambda x: x[0], description))\n",
    "data_df = data_df.set_index('id')\n",
    "data_df[:3]"
   ]
  },
  {
   "cell_type": "markdown",
   "id": "a90a7d42",
   "metadata": {},
   "source": [
    "## Charts"
   ]
  },
  {
   "cell_type": "code",
   "execution_count": 38,
   "id": "5a7e0a21",
   "metadata": {},
   "outputs": [],
   "source": [
    "import matplotlib.pyplot as plt\n",
    "import seaborn as sns\n",
    "%matplotlib inline"
   ]
  },
  {
   "cell_type": "code",
   "execution_count": 39,
   "id": "95ecc26a",
   "metadata": {},
   "outputs": [
    {
     "data": {
      "text/plain": [
       "Text(0.5, 1.0, 'Average Weekday Drinking Vs Gender')"
      ]
     },
     "execution_count": 39,
     "metadata": {},
     "output_type": "execute_result"
    },
    {
     "data": {
      "image/png": "[encoded data removed]",
      "text/plain": [
       "<Figure size 432x288 with 1 Axes>"
      ]
     },
     "metadata": {
      "needs_background": "light"
     },
     "output_type": "display_data"
    }
   ],
   "source": [
    "p = sns.barplot(x='gender', y='weekday drinking', hue='school', data=data_df)\n",
    "p.set_xlabel('Gender', fontsize=15)\n",
    "p.set_ylabel('Average Weekday Drinking', fontsize=15)\n",
    "p.set_title('Average Weekday Drinking Vs Gender', fontsize=15)"
   ]
  },
  {
   "cell_type": "code",
   "execution_count": 40,
   "id": "0d0f84f5",
   "metadata": {},
   "outputs": [
    {
     "data": {
      "text/plain": [
       "Text(0.5, 1.0, 'Average Weekend Drinking Vs Gender')"
      ]
     },
     "execution_count": 40,
     "metadata": {},
     "output_type": "execute_result"
    },
    {
     "data": {
      "image/png": "[encoded data removed]",
      "text/plain": [
       "<Figure size 432x288 with 1 Axes>"
      ]
     },
     "metadata": {
      "needs_background": "light"
     },
     "output_type": "display_data"
    }
   ],
   "source": [
    "p = sns.barplot(x='gender', y='weekend drinking', hue='school', data=data_df)\n",
    "p.set_xlabel('Gender', fontsize=15)\n",
    "p.set_ylabel('Average Weekend Drinking', fontsize=15)\n",
    "p.set_title('Average Weekend Drinking Vs Gender', fontsize=15)"
   ]
  },
  {
   "cell_type": "code",
   "execution_count": 41,
   "id": "0f83b1f0",
   "metadata": {},
   "outputs": [
    {
     "data": {
      "text/plain": [
       "Text(0.5, 1.0, 'Average Weekday Drinking Vs Significant Other')"
      ]
     },
     "execution_count": 41,
     "metadata": {},
     "output_type": "execute_result"
    },
    {
     "data": {
      "image/png": "[encoded data removed]",
      "text/plain": [
       "<Figure size 432x288 with 1 Axes>"
      ]
     },
     "metadata": {
      "needs_background": "light"
     },
     "output_type": "display_data"
    }
   ],
   "source": [
    "p = sns.barplot(x='significant other', y='weekday drinking', hue='gender', data=data_df)\n",
    "p.set_xlabel('Significant Other', fontsize=15)\n",
    "p.set_ylabel('Average Weekday Drinking', fontsize=15)\n",
    "p.set_title('Average Weekday Drinking Vs Significant Other', fontsize=15)"
   ]
  },
  {
   "cell_type": "code",
   "execution_count": 42,
   "id": "d20b02e0",
   "metadata": {},
   "outputs": [
    {
     "data": {
      "text/plain": [
       "Text(0.5, 1.0, 'Average Weekend Drinking Vs Significant Other')"
      ]
     },
     "execution_count": 42,
     "metadata": {},
     "output_type": "execute_result"
    },
    {
     "data": {
      "image/png": "[encoded data removed]",
      "text/plain": [
       "<Figure size 432x288 with 1 Axes>"
      ]
     },
     "metadata": {
      "needs_background": "light"
     },
     "output_type": "display_data"
    }
   ],
   "source": [
    "p = sns.barplot(x='significant other', y='weekend drinking', hue='gender', data=data_df)\n",
    "p.set_xlabel('Significant Other', fontsize=15)\n",
    "p.set_ylabel('Average Weekend Drinking', fontsize=15)\n",
    "p.set_title('Average Weekend Drinking Vs Significant Other', fontsize=15)"
   ]
  },
  {
   "cell_type": "code",
   "execution_count": 43,
   "id": "fab1eb94",
   "metadata": {},
   "outputs": [
    {
     "data": {
      "text/plain": [
       "Text(0.5, 1.0, 'Count of Significant Other Vs Significant Other')"
      ]
     },
     "execution_count": 43,
     "metadata": {},
     "output_type": "execute_result"
    },
    {
     "data": {
      "image/png": "[encoded data removed]",
      "text/plain": [
       "<Figure size 432x288 with 1 Axes>"
      ]
     },
     "metadata": {
      "needs_background": "light"
     },
     "output_type": "display_data"
    }
   ],
   "source": [
    "p = sns.countplot(x='significant other',hue='gender', data=data_df)\n",
    "p.set_xlabel('Significant Other', fontsize=15)\n",
    "p.set_ylabel('Count', fontsize=15)\n",
    "p.set_title('Count of Significant Other Vs Significant Other', fontsize=15)"
   ]
  },
  {
   "cell_type": "code",
   "execution_count": 44,
   "id": "cd305de1",
   "metadata": {},
   "outputs": [
    {
     "data": {
      "text/plain": [
       "Text(0.5, 1.0, 'Absences Vs Weekday Drinking')"
      ]
     },
     "execution_count": 44,
     "metadata": {},
     "output_type": "execute_result"
    },
    {
     "data": {
      "image/png": "[encoded data removed]",
      "text/plain": [
       "<Figure size 432x288 with 1 Axes>"
      ]
     },
     "metadata": {
      "needs_background": "light"
     },
     "output_type": "display_data"
    }
   ],
   "source": [
    "p = sns.lineplot(x='weekday drinking', y='absences', hue='school', data=data_df)\n",
    "p.set_ylabel('Absences', fontsize=15)\n",
    "p.set_xlabel('Weekday Drinking', fontsize=15)\n",
    "p.set_title('Absences Vs Weekday Drinking', fontsize=15)"
   ]
  },
  {
   "cell_type": "code",
   "execution_count": 45,
   "id": "4ade5af2",
   "metadata": {},
   "outputs": [
    {
     "data": {
      "text/plain": [
       "Text(0.5, 1.0, 'Absences Vs Weekend Drinking')"
      ]
     },
     "execution_count": 45,
     "metadata": {},
     "output_type": "execute_result"
    },
    {
     "data": {
      "image/png": "[encoded data removed]",
      "text/plain": [
       "<Figure size 432x288 with 1 Axes>"
      ]
     },
     "metadata": {
      "needs_background": "light"
     },
     "output_type": "display_data"
    }
   ],
   "source": [
    "p = sns.lineplot(x='weekend drinking', y='absences', hue='school', data=data_df)\n",
    "p.set_ylabel('Absences', fontsize=15)\n",
    "p.set_xlabel('Weekend Drinking', fontsize=15)\n",
    "p.set_title('Absences Vs Weekend Drinking', fontsize=15)"
   ]
  },
  {
   "cell_type": "code",
   "execution_count": null,
   "id": "51814aef",
   "metadata": {},
   "outputs": [],
   "source": []
  }
 ],
 "metadata": {
  "kernelspec": {
   "display_name": "mlenv",
   "language": "python",
   "name": "mlenv"
  },
  "language_info": {
   "codemirror_mode": {
    "name": "ipython",
    "version": 3
   },
   "file_extension": ".py",
   "mimetype": "text/x-python",
   "name": "python",
   "nbconvert_exporter": "python",
   "pygments_lexer": "ipython3",
   "version": "3.9.5"
  }
 },
 "nbformat": 4,
 "nbformat_minor": 5
}
