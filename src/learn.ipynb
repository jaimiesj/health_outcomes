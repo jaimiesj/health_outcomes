{
 "cells": [
  {
   "cell_type": "code",
   "execution_count": 1,
   "id": "597fcbba",
   "metadata": {},
   "outputs": [],
   "source": [
    "import pandas as pd\n",
    "import numpy as np\n",
    "import sqlite3"
   ]
  },
  {
   "cell_type": "markdown",
   "id": "a6b56018",
   "metadata": {},
   "source": [
    "## Database Access and Data Retrieval"
   ]
  },
  {
   "cell_type": "code",
   "execution_count": 2,
   "id": "c30fd560",
   "metadata": {},
   "outputs": [],
   "source": [
    "conn = sqlite3.connect('../res/data/tables.sql')\n",
    "cursor = conn.cursor()"
   ]
  },
  {
   "cell_type": "code",
   "execution_count": 3,
   "id": "fd8cea6f",
   "metadata": {},
   "outputs": [],
   "source": [
    "# # ['id', 'school', 'gender', 'age', 'home address', 'parents cohabitation', 'moms education', 'dads education', 'moms job', 'dads job', 'choice reason', 'guardian', 'travel time', 'nursery education', 'internet access', 'higher education', 'significant other', 'household size', 'family relationship', 'free time', 'social activities', 'study time', 'first periods grade', 'second periods grade', 'third periods grade','failures', 'absences', 'health', 'weekday drinker', 'weekend drinker', 'drinker']\n",
    " \n",
    "cursor.execute('''\n",
    "SELECT profile_encoded.id, school, gender, age, \"home address\", \"parents cohabitation\", \n",
    "\"moms education\", \"dads education\", \"moms job\", \"dads job\", \"choice reason\", \n",
    "guardian, \"travel time\", \"nursery education\", \"internet access\", \"higher education\",\n",
    "\"significant other\", \"household size\", \"family relationship\", \"free time\",\n",
    "\"social activities\", \"study time\", \"first periods grade\", \"second periods grade\",\n",
    "\"third periods grade\", failures, absences, health, \"weekday drinking\",\n",
    "\"weekend drinking\", \"heavy drinking\"\n",
    "FROM profile_encoded\n",
    "JOIN activities_encoded\n",
    "ON profile_encoded.id = activities_encoded.id\n",
    "''')\n",
    "\n",
    "rows = cursor.fetchall()\n",
    "description = cursor.description\n",
    "conn.close()"
   ]
  },
  {
   "cell_type": "code",
   "execution_count": 4,
   "id": "a2e04277",
   "metadata": {},
   "outputs": [
    {
     "data": {
      "text/plain": [
       "(('id', None, None, None, None, None, None),\n",
       " ('school', None, None, None, None, None, None),\n",
       " ('gender', None, None, None, None, None, None))"
      ]
     },
     "execution_count": 4,
     "metadata": {},
     "output_type": "execute_result"
    }
   ],
   "source": [
    "# description is a tuple of tuples and we only need the first item in each tuple\n",
    "# lambda x: x[0] returns the first item of any list, tuple or iterable\n",
    "description[:3]"
   ]
  },
  {
   "cell_type": "code",
   "execution_count": 5,
   "id": "3aa80f7e",
   "metadata": {},
   "outputs": [
    {
     "data": {
      "text/html": [
       "<div>\n",
       "<style scoped>\n",
       "    .dataframe tbody tr th:only-of-type {\n",
       "        vertical-align: middle;\n",
       "    }\n",
       "\n",
       "    .dataframe tbody tr th {\n",
       "        vertical-align: top;\n",
       "    }\n",
       "\n",
       "    .dataframe thead th {\n",
       "        text-align: right;\n",
       "    }\n",
       "</style>\n",
       "<table border=\"1\" class=\"dataframe\">\n",
       "  <thead>\n",
       "    <tr style=\"text-align: right;\">\n",
       "      <th></th>\n",
       "      <th>school</th>\n",
       "      <th>gender</th>\n",
       "      <th>age</th>\n",
       "      <th>home address</th>\n",
       "      <th>parents cohabitation</th>\n",
       "      <th>moms education</th>\n",
       "      <th>dads education</th>\n",
       "      <th>moms job</th>\n",
       "      <th>dads job</th>\n",
       "      <th>choice reason</th>\n",
       "      <th>...</th>\n",
       "      <th>study time</th>\n",
       "      <th>first periods grade</th>\n",
       "      <th>second periods grade</th>\n",
       "      <th>third periods grade</th>\n",
       "      <th>failures</th>\n",
       "      <th>absences</th>\n",
       "      <th>health</th>\n",
       "      <th>weekday drinking</th>\n",
       "      <th>weekend drinking</th>\n",
       "      <th>heavy drinking</th>\n",
       "    </tr>\n",
       "    <tr>\n",
       "      <th>id</th>\n",
       "      <th></th>\n",
       "      <th></th>\n",
       "      <th></th>\n",
       "      <th></th>\n",
       "      <th></th>\n",
       "      <th></th>\n",
       "      <th></th>\n",
       "      <th></th>\n",
       "      <th></th>\n",
       "      <th></th>\n",
       "      <th></th>\n",
       "      <th></th>\n",
       "      <th></th>\n",
       "      <th></th>\n",
       "      <th></th>\n",
       "      <th></th>\n",
       "      <th></th>\n",
       "      <th></th>\n",
       "      <th></th>\n",
       "      <th></th>\n",
       "      <th></th>\n",
       "    </tr>\n",
       "  </thead>\n",
       "  <tbody>\n",
       "    <tr>\n",
       "      <th>1</th>\n",
       "      <td>0</td>\n",
       "      <td>1</td>\n",
       "      <td>18</td>\n",
       "      <td>1</td>\n",
       "      <td>0</td>\n",
       "      <td>4</td>\n",
       "      <td>4</td>\n",
       "      <td>0</td>\n",
       "      <td>2</td>\n",
       "      <td>0</td>\n",
       "      <td>...</td>\n",
       "      <td>2</td>\n",
       "      <td>0</td>\n",
       "      <td>0</td>\n",
       "      <td>0</td>\n",
       "      <td>0</td>\n",
       "      <td>6</td>\n",
       "      <td>3</td>\n",
       "      <td>1</td>\n",
       "      <td>1</td>\n",
       "      <td>0</td>\n",
       "    </tr>\n",
       "    <tr>\n",
       "      <th>2</th>\n",
       "      <td>0</td>\n",
       "      <td>1</td>\n",
       "      <td>17</td>\n",
       "      <td>1</td>\n",
       "      <td>1</td>\n",
       "      <td>1</td>\n",
       "      <td>1</td>\n",
       "      <td>0</td>\n",
       "      <td>4</td>\n",
       "      <td>0</td>\n",
       "      <td>...</td>\n",
       "      <td>2</td>\n",
       "      <td>0</td>\n",
       "      <td>0</td>\n",
       "      <td>0</td>\n",
       "      <td>0</td>\n",
       "      <td>4</td>\n",
       "      <td>3</td>\n",
       "      <td>1</td>\n",
       "      <td>1</td>\n",
       "      <td>0</td>\n",
       "    </tr>\n",
       "    <tr>\n",
       "      <th>3</th>\n",
       "      <td>0</td>\n",
       "      <td>1</td>\n",
       "      <td>15</td>\n",
       "      <td>1</td>\n",
       "      <td>1</td>\n",
       "      <td>1</td>\n",
       "      <td>1</td>\n",
       "      <td>0</td>\n",
       "      <td>4</td>\n",
       "      <td>4</td>\n",
       "      <td>...</td>\n",
       "      <td>2</td>\n",
       "      <td>0</td>\n",
       "      <td>0</td>\n",
       "      <td>1</td>\n",
       "      <td>3</td>\n",
       "      <td>10</td>\n",
       "      <td>3</td>\n",
       "      <td>2</td>\n",
       "      <td>3</td>\n",
       "      <td>1</td>\n",
       "    </tr>\n",
       "    <tr>\n",
       "      <th>4</th>\n",
       "      <td>0</td>\n",
       "      <td>1</td>\n",
       "      <td>15</td>\n",
       "      <td>1</td>\n",
       "      <td>1</td>\n",
       "      <td>4</td>\n",
       "      <td>2</td>\n",
       "      <td>1</td>\n",
       "      <td>3</td>\n",
       "      <td>1</td>\n",
       "      <td>...</td>\n",
       "      <td>3</td>\n",
       "      <td>1</td>\n",
       "      <td>1</td>\n",
       "      <td>1</td>\n",
       "      <td>0</td>\n",
       "      <td>2</td>\n",
       "      <td>5</td>\n",
       "      <td>1</td>\n",
       "      <td>1</td>\n",
       "      <td>0</td>\n",
       "    </tr>\n",
       "    <tr>\n",
       "      <th>5</th>\n",
       "      <td>0</td>\n",
       "      <td>1</td>\n",
       "      <td>16</td>\n",
       "      <td>1</td>\n",
       "      <td>1</td>\n",
       "      <td>3</td>\n",
       "      <td>3</td>\n",
       "      <td>4</td>\n",
       "      <td>4</td>\n",
       "      <td>1</td>\n",
       "      <td>...</td>\n",
       "      <td>2</td>\n",
       "      <td>0</td>\n",
       "      <td>1</td>\n",
       "      <td>1</td>\n",
       "      <td>0</td>\n",
       "      <td>4</td>\n",
       "      <td>5</td>\n",
       "      <td>1</td>\n",
       "      <td>2</td>\n",
       "      <td>0</td>\n",
       "    </tr>\n",
       "  </tbody>\n",
       "</table>\n",
       "<p>5 rows × 30 columns</p>\n",
       "</div>"
      ],
      "text/plain": [
       "    school  gender  age  home address  parents cohabitation  moms education  \\\n",
       "id                                                                            \n",
       "1        0       1   18             1                     0               4   \n",
       "2        0       1   17             1                     1               1   \n",
       "3        0       1   15             1                     1               1   \n",
       "4        0       1   15             1                     1               4   \n",
       "5        0       1   16             1                     1               3   \n",
       "\n",
       "    dads education  moms job  dads job  choice reason  ...  study time  \\\n",
       "id                                                     ...               \n",
       "1                4         0         2              0  ...           2   \n",
       "2                1         0         4              0  ...           2   \n",
       "3                1         0         4              4  ...           2   \n",
       "4                2         1         3              1  ...           3   \n",
       "5                3         4         4              1  ...           2   \n",
       "\n",
       "    first periods grade  second periods grade  third periods grade  failures  \\\n",
       "id                                                                             \n",
       "1                     0                     0                    0         0   \n",
       "2                     0                     0                    0         0   \n",
       "3                     0                     0                    1         3   \n",
       "4                     1                     1                    1         0   \n",
       "5                     0                     1                    1         0   \n",
       "\n",
       "    absences  health  weekday drinking  weekend drinking  heavy drinking  \n",
       "id                                                                        \n",
       "1          6       3                 1                 1               0  \n",
       "2          4       3                 1                 1               0  \n",
       "3         10       3                 2                 3               1  \n",
       "4          2       5                 1                 1               0  \n",
       "5          4       5                 1                 2               0  \n",
       "\n",
       "[5 rows x 30 columns]"
      ]
     },
     "execution_count": 5,
     "metadata": {},
     "output_type": "execute_result"
    }
   ],
   "source": [
    "df = pd.DataFrame(data=rows, columns=map(lambda x: x[0], description))\n",
    "df = df.set_index('id')\n",
    "df[:5]"
   ]
  },
  {
   "cell_type": "code",
   "execution_count": 6,
   "id": "a070f2ba",
   "metadata": {},
   "outputs": [
    {
     "data": {
      "text/plain": [
       "school                   2\n",
       "gender                   2\n",
       "age                      8\n",
       "home address             2\n",
       "parents cohabitation     2\n",
       "moms education           5\n",
       "dads education           5\n",
       "moms job                 5\n",
       "dads job                 5\n",
       "choice reason            4\n",
       "guardian                 3\n",
       "travel time              4\n",
       "nursery education        2\n",
       "internet access          2\n",
       "higher education         2\n",
       "significant other        2\n",
       "household size           2\n",
       "family relationship      5\n",
       "free time                5\n",
       "social activities        5\n",
       "study time               4\n",
       "first periods grade      2\n",
       "second periods grade     2\n",
       "third periods grade      2\n",
       "failures                 4\n",
       "absences                35\n",
       "health                   5\n",
       "weekday drinking         5\n",
       "weekend drinking         5\n",
       "heavy drinking           2\n",
       "dtype: int64"
      ]
     },
     "execution_count": 6,
     "metadata": {},
     "output_type": "execute_result"
    }
   ],
   "source": [
    "df.nunique()"
   ]
  },
  {
   "cell_type": "markdown",
   "id": "35b65ade",
   "metadata": {},
   "source": [
    "## Data Modeling"
   ]
  },
  {
   "cell_type": "code",
   "execution_count": 7,
   "id": "6745b6d2",
   "metadata": {},
   "outputs": [],
   "source": [
    "from sklearn.ensemble import RandomForestClassifier\n",
    "from sklearn.model_selection import train_test_split\n",
    "from sklearn.preprocessing import StandardScaler\n",
    "from sklearn.preprocessing import MinMaxScaler\n",
    "from sklearn.preprocessing import OneHotEncoder\n",
    "from sklearn.tree import DecisionTreeClassifier\n",
    "from sklearn.metrics import accuracy_score\n",
    "from sklearn.metrics import confusion_matrix\n",
    "from sklearn.metrics import classification_report\n",
    "import tensorflow as tf"
   ]
  },
  {
   "cell_type": "markdown",
   "id": "ae0826ae",
   "metadata": {},
   "source": [
    "### Data Preparation"
   ]
  },
  {
   "cell_type": "code",
   "execution_count": 8,
   "id": "150eac75",
   "metadata": {},
   "outputs": [
    {
     "data": {
      "text/html": [
       "<div>\n",
       "<style scoped>\n",
       "    .dataframe tbody tr th:only-of-type {\n",
       "        vertical-align: middle;\n",
       "    }\n",
       "\n",
       "    .dataframe tbody tr th {\n",
       "        vertical-align: top;\n",
       "    }\n",
       "\n",
       "    .dataframe thead th {\n",
       "        text-align: right;\n",
       "    }\n",
       "</style>\n",
       "<table border=\"1\" class=\"dataframe\">\n",
       "  <thead>\n",
       "    <tr style=\"text-align: right;\">\n",
       "      <th></th>\n",
       "      <th>age</th>\n",
       "      <th>guardian</th>\n",
       "      <th>failures</th>\n",
       "      <th>free time</th>\n",
       "      <th>travel time</th>\n",
       "      <th>social activities</th>\n",
       "      <th>study time</th>\n",
       "      <th>health</th>\n",
       "      <th>family relationship</th>\n",
       "      <th>moms job</th>\n",
       "      <th>dads job</th>\n",
       "      <th>moms education</th>\n",
       "      <th>dads education</th>\n",
       "      <th>choice reason</th>\n",
       "      <th>absences</th>\n",
       "    </tr>\n",
       "    <tr>\n",
       "      <th>id</th>\n",
       "      <th></th>\n",
       "      <th></th>\n",
       "      <th></th>\n",
       "      <th></th>\n",
       "      <th></th>\n",
       "      <th></th>\n",
       "      <th></th>\n",
       "      <th></th>\n",
       "      <th></th>\n",
       "      <th></th>\n",
       "      <th></th>\n",
       "      <th></th>\n",
       "      <th></th>\n",
       "      <th></th>\n",
       "      <th></th>\n",
       "    </tr>\n",
       "  </thead>\n",
       "  <tbody>\n",
       "    <tr>\n",
       "      <th>1</th>\n",
       "      <td>18</td>\n",
       "      <td>0</td>\n",
       "      <td>0</td>\n",
       "      <td>3</td>\n",
       "      <td>2</td>\n",
       "      <td>4</td>\n",
       "      <td>2</td>\n",
       "      <td>3</td>\n",
       "      <td>4</td>\n",
       "      <td>0</td>\n",
       "      <td>2</td>\n",
       "      <td>4</td>\n",
       "      <td>4</td>\n",
       "      <td>0</td>\n",
       "      <td>6</td>\n",
       "    </tr>\n",
       "    <tr>\n",
       "      <th>2</th>\n",
       "      <td>17</td>\n",
       "      <td>1</td>\n",
       "      <td>0</td>\n",
       "      <td>3</td>\n",
       "      <td>1</td>\n",
       "      <td>3</td>\n",
       "      <td>2</td>\n",
       "      <td>3</td>\n",
       "      <td>5</td>\n",
       "      <td>0</td>\n",
       "      <td>4</td>\n",
       "      <td>1</td>\n",
       "      <td>1</td>\n",
       "      <td>0</td>\n",
       "      <td>4</td>\n",
       "    </tr>\n",
       "    <tr>\n",
       "      <th>3</th>\n",
       "      <td>15</td>\n",
       "      <td>0</td>\n",
       "      <td>3</td>\n",
       "      <td>3</td>\n",
       "      <td>1</td>\n",
       "      <td>2</td>\n",
       "      <td>2</td>\n",
       "      <td>3</td>\n",
       "      <td>4</td>\n",
       "      <td>0</td>\n",
       "      <td>4</td>\n",
       "      <td>1</td>\n",
       "      <td>1</td>\n",
       "      <td>4</td>\n",
       "      <td>10</td>\n",
       "    </tr>\n",
       "    <tr>\n",
       "      <th>4</th>\n",
       "      <td>15</td>\n",
       "      <td>0</td>\n",
       "      <td>0</td>\n",
       "      <td>2</td>\n",
       "      <td>1</td>\n",
       "      <td>2</td>\n",
       "      <td>3</td>\n",
       "      <td>5</td>\n",
       "      <td>3</td>\n",
       "      <td>1</td>\n",
       "      <td>3</td>\n",
       "      <td>4</td>\n",
       "      <td>2</td>\n",
       "      <td>1</td>\n",
       "      <td>2</td>\n",
       "    </tr>\n",
       "    <tr>\n",
       "      <th>5</th>\n",
       "      <td>16</td>\n",
       "      <td>1</td>\n",
       "      <td>0</td>\n",
       "      <td>3</td>\n",
       "      <td>1</td>\n",
       "      <td>2</td>\n",
       "      <td>2</td>\n",
       "      <td>5</td>\n",
       "      <td>4</td>\n",
       "      <td>4</td>\n",
       "      <td>4</td>\n",
       "      <td>3</td>\n",
       "      <td>3</td>\n",
       "      <td>1</td>\n",
       "      <td>4</td>\n",
       "    </tr>\n",
       "  </tbody>\n",
       "</table>\n",
       "</div>"
      ],
      "text/plain": [
       "    age  guardian  failures  free time  travel time  social activities  \\\n",
       "id                                                                       \n",
       "1    18         0         0          3            2                  4   \n",
       "2    17         1         0          3            1                  3   \n",
       "3    15         0         3          3            1                  2   \n",
       "4    15         0         0          2            1                  2   \n",
       "5    16         1         0          3            1                  2   \n",
       "\n",
       "    study time  health  family relationship  moms job  dads job  \\\n",
       "id                                                                \n",
       "1            2       3                    4         0         2   \n",
       "2            2       3                    5         0         4   \n",
       "3            2       3                    4         0         4   \n",
       "4            3       5                    3         1         3   \n",
       "5            2       5                    4         4         4   \n",
       "\n",
       "    moms education  dads education  choice reason  absences  \n",
       "id                                                           \n",
       "1                4               4              0         6  \n",
       "2                1               1              0         4  \n",
       "3                1               1              4        10  \n",
       "4                4               2              1         2  \n",
       "5                3               3              1         4  "
      ]
     },
     "execution_count": 8,
     "metadata": {},
     "output_type": "execute_result"
    }
   ],
   "source": [
    "# Non-binary list\n",
    "\n",
    "non_binary = ['age', 'guardian', 'failures', 'free time', 'travel time', 'social activities', 'study time', 'health', 'family relationship', 'moms job', 'dads job', 'moms education', 'dads education', 'choice reason']\n",
    "non_binary.append('absences')\n",
    "\n",
    "non_binary_df = df[non_binary]\n",
    "non_binary_df[:5]"
   ]
  },
  {
   "cell_type": "code",
   "execution_count": 9,
   "id": "8a5ebf1d",
   "metadata": {},
   "outputs": [
    {
     "data": {
      "text/plain": [
       "age                    int64\n",
       "guardian               int64\n",
       "failures               int64\n",
       "free time              int64\n",
       "travel time            int64\n",
       "social activities      int64\n",
       "study time             int64\n",
       "health                 int64\n",
       "family relationship    int64\n",
       "moms job               int64\n",
       "dads job               int64\n",
       "moms education         int64\n",
       "dads education         int64\n",
       "choice reason          int64\n",
       "absences               int64\n",
       "dtype: object"
      ]
     },
     "execution_count": 9,
     "metadata": {},
     "output_type": "execute_result"
    }
   ],
   "source": [
    "non_binary_df.dtypes"
   ]
  },
  {
   "cell_type": "code",
   "execution_count": 10,
   "id": "828a3ae6",
   "metadata": {},
   "outputs": [
    {
     "data": {
      "text/html": [
       "<div>\n",
       "<style scoped>\n",
       "    .dataframe tbody tr th:only-of-type {\n",
       "        vertical-align: middle;\n",
       "    }\n",
       "\n",
       "    .dataframe tbody tr th {\n",
       "        vertical-align: top;\n",
       "    }\n",
       "\n",
       "    .dataframe thead th {\n",
       "        text-align: right;\n",
       "    }\n",
       "</style>\n",
       "<table border=\"1\" class=\"dataframe\">\n",
       "  <thead>\n",
       "    <tr style=\"text-align: right;\">\n",
       "      <th></th>\n",
       "      <th>school</th>\n",
       "      <th>gender</th>\n",
       "      <th>home address</th>\n",
       "      <th>parents cohabitation</th>\n",
       "      <th>nursery education</th>\n",
       "      <th>internet access</th>\n",
       "      <th>higher education</th>\n",
       "      <th>significant other</th>\n",
       "      <th>household size</th>\n",
       "      <th>first periods grade</th>\n",
       "      <th>...</th>\n",
       "      <th>absences_25</th>\n",
       "      <th>absences_26</th>\n",
       "      <th>absences_28</th>\n",
       "      <th>absences_30</th>\n",
       "      <th>absences_32</th>\n",
       "      <th>absences_38</th>\n",
       "      <th>absences_40</th>\n",
       "      <th>absences_54</th>\n",
       "      <th>absences_56</th>\n",
       "      <th>absences_75</th>\n",
       "    </tr>\n",
       "    <tr>\n",
       "      <th>id</th>\n",
       "      <th></th>\n",
       "      <th></th>\n",
       "      <th></th>\n",
       "      <th></th>\n",
       "      <th></th>\n",
       "      <th></th>\n",
       "      <th></th>\n",
       "      <th></th>\n",
       "      <th></th>\n",
       "      <th></th>\n",
       "      <th></th>\n",
       "      <th></th>\n",
       "      <th></th>\n",
       "      <th></th>\n",
       "      <th></th>\n",
       "      <th></th>\n",
       "      <th></th>\n",
       "      <th></th>\n",
       "      <th></th>\n",
       "      <th></th>\n",
       "      <th></th>\n",
       "    </tr>\n",
       "  </thead>\n",
       "  <tbody>\n",
       "    <tr>\n",
       "      <th>1</th>\n",
       "      <td>0</td>\n",
       "      <td>1</td>\n",
       "      <td>1</td>\n",
       "      <td>0</td>\n",
       "      <td>1</td>\n",
       "      <td>0</td>\n",
       "      <td>1</td>\n",
       "      <td>0</td>\n",
       "      <td>1</td>\n",
       "      <td>0</td>\n",
       "      <td>...</td>\n",
       "      <td>0.0</td>\n",
       "      <td>0.0</td>\n",
       "      <td>0.0</td>\n",
       "      <td>0.0</td>\n",
       "      <td>0.0</td>\n",
       "      <td>0.0</td>\n",
       "      <td>0.0</td>\n",
       "      <td>0.0</td>\n",
       "      <td>0.0</td>\n",
       "      <td>0.0</td>\n",
       "    </tr>\n",
       "    <tr>\n",
       "      <th>2</th>\n",
       "      <td>0</td>\n",
       "      <td>1</td>\n",
       "      <td>1</td>\n",
       "      <td>1</td>\n",
       "      <td>0</td>\n",
       "      <td>1</td>\n",
       "      <td>1</td>\n",
       "      <td>0</td>\n",
       "      <td>1</td>\n",
       "      <td>0</td>\n",
       "      <td>...</td>\n",
       "      <td>0.0</td>\n",
       "      <td>0.0</td>\n",
       "      <td>0.0</td>\n",
       "      <td>0.0</td>\n",
       "      <td>0.0</td>\n",
       "      <td>0.0</td>\n",
       "      <td>0.0</td>\n",
       "      <td>0.0</td>\n",
       "      <td>0.0</td>\n",
       "      <td>0.0</td>\n",
       "    </tr>\n",
       "    <tr>\n",
       "      <th>3</th>\n",
       "      <td>0</td>\n",
       "      <td>1</td>\n",
       "      <td>1</td>\n",
       "      <td>1</td>\n",
       "      <td>1</td>\n",
       "      <td>1</td>\n",
       "      <td>1</td>\n",
       "      <td>0</td>\n",
       "      <td>0</td>\n",
       "      <td>0</td>\n",
       "      <td>...</td>\n",
       "      <td>0.0</td>\n",
       "      <td>0.0</td>\n",
       "      <td>0.0</td>\n",
       "      <td>0.0</td>\n",
       "      <td>0.0</td>\n",
       "      <td>0.0</td>\n",
       "      <td>0.0</td>\n",
       "      <td>0.0</td>\n",
       "      <td>0.0</td>\n",
       "      <td>0.0</td>\n",
       "    </tr>\n",
       "    <tr>\n",
       "      <th>4</th>\n",
       "      <td>0</td>\n",
       "      <td>1</td>\n",
       "      <td>1</td>\n",
       "      <td>1</td>\n",
       "      <td>1</td>\n",
       "      <td>1</td>\n",
       "      <td>1</td>\n",
       "      <td>1</td>\n",
       "      <td>1</td>\n",
       "      <td>1</td>\n",
       "      <td>...</td>\n",
       "      <td>0.0</td>\n",
       "      <td>0.0</td>\n",
       "      <td>0.0</td>\n",
       "      <td>0.0</td>\n",
       "      <td>0.0</td>\n",
       "      <td>0.0</td>\n",
       "      <td>0.0</td>\n",
       "      <td>0.0</td>\n",
       "      <td>0.0</td>\n",
       "      <td>0.0</td>\n",
       "    </tr>\n",
       "    <tr>\n",
       "      <th>5</th>\n",
       "      <td>0</td>\n",
       "      <td>1</td>\n",
       "      <td>1</td>\n",
       "      <td>1</td>\n",
       "      <td>1</td>\n",
       "      <td>0</td>\n",
       "      <td>1</td>\n",
       "      <td>0</td>\n",
       "      <td>1</td>\n",
       "      <td>0</td>\n",
       "      <td>...</td>\n",
       "      <td>0.0</td>\n",
       "      <td>0.0</td>\n",
       "      <td>0.0</td>\n",
       "      <td>0.0</td>\n",
       "      <td>0.0</td>\n",
       "      <td>0.0</td>\n",
       "      <td>0.0</td>\n",
       "      <td>0.0</td>\n",
       "      <td>0.0</td>\n",
       "      <td>0.0</td>\n",
       "    </tr>\n",
       "  </tbody>\n",
       "</table>\n",
       "<p>5 rows × 117 columns</p>\n",
       "</div>"
      ],
      "text/plain": [
       "    school  gender  home address  parents cohabitation  nursery education  \\\n",
       "id                                                                          \n",
       "1        0       1             1                     0                  1   \n",
       "2        0       1             1                     1                  0   \n",
       "3        0       1             1                     1                  1   \n",
       "4        0       1             1                     1                  1   \n",
       "5        0       1             1                     1                  1   \n",
       "\n",
       "    internet access  higher education  significant other  household size  \\\n",
       "id                                                                         \n",
       "1                 0                 1                  0               1   \n",
       "2                 1                 1                  0               1   \n",
       "3                 1                 1                  0               0   \n",
       "4                 1                 1                  1               1   \n",
       "5                 0                 1                  0               1   \n",
       "\n",
       "    first periods grade  ...  absences_25  absences_26  absences_28  \\\n",
       "id                       ...                                          \n",
       "1                     0  ...          0.0          0.0          0.0   \n",
       "2                     0  ...          0.0          0.0          0.0   \n",
       "3                     0  ...          0.0          0.0          0.0   \n",
       "4                     1  ...          0.0          0.0          0.0   \n",
       "5                     0  ...          0.0          0.0          0.0   \n",
       "\n",
       "    absences_30  absences_32  absences_38  absences_40  absences_54  \\\n",
       "id                                                                    \n",
       "1           0.0          0.0          0.0          0.0          0.0   \n",
       "2           0.0          0.0          0.0          0.0          0.0   \n",
       "3           0.0          0.0          0.0          0.0          0.0   \n",
       "4           0.0          0.0          0.0          0.0          0.0   \n",
       "5           0.0          0.0          0.0          0.0          0.0   \n",
       "\n",
       "    absences_56  absences_75  \n",
       "id                            \n",
       "1           0.0          0.0  \n",
       "2           0.0          0.0  \n",
       "3           0.0          0.0  \n",
       "4           0.0          0.0  \n",
       "5           0.0          0.0  \n",
       "\n",
       "[5 rows x 117 columns]"
      ]
     },
     "execution_count": 10,
     "metadata": {},
     "output_type": "execute_result"
    }
   ],
   "source": [
    "one_hot_enc = OneHotEncoder(sparse=False)\n",
    "one_hot_df = pd.DataFrame(one_hot_enc.fit_transform(non_binary_df))\n",
    "encoded_columns = one_hot_enc.get_feature_names_out(non_binary)\n",
    "one_hot_df.columns = encoded_columns\n",
    "\n",
    "# merge dataframes\n",
    "\n",
    "encoded_df = df.join(one_hot_df)\n",
    "\n",
    "# drop non-binary columns\n",
    "encoded_df = encoded_df.drop(non_binary, axis=1)\n",
    "encoded_df[:5]"
   ]
  },
  {
   "cell_type": "code",
   "execution_count": 11,
   "id": "4ee19dd5",
   "metadata": {},
   "outputs": [],
   "source": [
    "encoded_df = encoded_df.dropna()"
   ]
  },
  {
   "cell_type": "code",
   "execution_count": 12,
   "id": "8b65ad58",
   "metadata": {},
   "outputs": [
    {
     "data": {
      "text/plain": [
       "school                  2\n",
       "gender                  2\n",
       "home address            2\n",
       "parents cohabitation    2\n",
       "nursery education       2\n",
       "                       ..\n",
       "absences_38             2\n",
       "absences_40             2\n",
       "absences_54             2\n",
       "absences_56             2\n",
       "absences_75             2\n",
       "Length: 117, dtype: int64"
      ]
     },
     "execution_count": 12,
     "metadata": {},
     "output_type": "execute_result"
    }
   ],
   "source": [
    "encoded_df.nunique()"
   ]
  },
  {
   "cell_type": "markdown",
   "id": "1888ae7b",
   "metadata": {},
   "source": [
    "### Features (Inputs) and Target(s) (Output) "
   ]
  },
  {
   "cell_type": "code",
   "execution_count": 13,
   "id": "7dca53bb",
   "metadata": {},
   "outputs": [],
   "source": [
    "features = encoded_df.columns\n",
    "# features = features.drop(['heavy drinking', 'weekend drinking', 'weekday drinking', 'absences'])\n",
    "features = features.drop(['heavy drinking', 'weekend drinking', 'weekday drinking'])\n",
    "\n",
    "output = 'heavy drinking'\n",
    "\n",
    "X = encoded_df[features]\n",
    "y = encoded_df[output]\n",
    "\n",
    "X_train, X_test, y_train, y_test = train_test_split(X, y, random_state=78)"
   ]
  },
  {
   "cell_type": "markdown",
   "id": "f02c0565",
   "metadata": {},
   "source": [
    "### Number of Features"
   ]
  },
  {
   "cell_type": "code",
   "execution_count": 14,
   "id": "abfc0385",
   "metadata": {},
   "outputs": [
    {
     "name": "stdout",
     "output_type": "stream",
     "text": [
      "Number of Columns in the table before preprocessing: 30\n",
      "Number of Features: 114\n",
      "Number of Output: 1\n"
     ]
    }
   ],
   "source": [
    "print(f'Number of Columns in the table before preprocessing: {len(df.columns)}')\n",
    "print(f'Number of Features: {len(features)}')\n",
    "print(f'Number of Output: 1')"
   ]
  },
  {
   "cell_type": "markdown",
   "id": "fd72ea3b",
   "metadata": {},
   "source": [
    "### Utility Functions"
   ]
  },
  {
   "cell_type": "code",
   "execution_count": 15,
   "id": "ed443d94",
   "metadata": {},
   "outputs": [],
   "source": [
    "def feature_rank(values, columns, sort=True):\n",
    "    \"\"\"\n",
    "    Pairs up feature names with their importance values\n",
    "    \n",
    "    Parameters\n",
    "        values (numpy.array): array of floats from model.feature_importances_\n",
    "        columns (list): list of column names from df.columns\n",
    "        sort (boolean): sort list \n",
    "    \n",
    "    Returns\n",
    "        list of tuples containing tuples of (column-name, importance-value)\n",
    "    \"\"\"\n",
    "    # creates an unordered list of tuple\n",
    "    ranks = [(x,y) for x, y in zip(columns, values)]\n",
    "    \n",
    "    if(sort):\n",
    "        # sorts in descending order\n",
    "        return sorted(ranks, key=lambda x: x[1], reverse=True)\n",
    "    else:\n",
    "        return ranks\n",
    "\n",
    "    \n",
    "def matrix_dataframe(arg):\n",
    "    return pd.DataFrame(data=arg, index=['Actual (Positive)', 'Actual (Negative)'], columns=['Predicted (True)', 'Predicted (False)'])\n"
   ]
  },
  {
   "cell_type": "markdown",
   "id": "da5bc123",
   "metadata": {},
   "source": [
    "###  Data Scaled "
   ]
  },
  {
   "cell_type": "code",
   "execution_count": 16,
   "id": "4895b5e5",
   "metadata": {},
   "outputs": [],
   "source": [
    "scaler = StandardScaler()\n",
    "X_scaler = scaler.fit(X_train)\n",
    "X_train_scaled = X_scaler.transform(X_train)\n",
    "X_test_scaled = X_scaler.transform(X_test)"
   ]
  },
  {
   "cell_type": "markdown",
   "id": "1a2f4523",
   "metadata": {},
   "source": [
    "## Decision Tree Classifier"
   ]
  },
  {
   "cell_type": "code",
   "execution_count": 17,
   "id": "7e40013c",
   "metadata": {},
   "outputs": [
    {
     "data": {
      "text/plain": [
       "array([[-0.59802917,  0.88392374,  0.61380825, ..., -0.03578281,\n",
       "        -0.03578281, -0.03578281],\n",
       "       [ 1.67215923,  0.88392374,  0.61380825, ..., -0.03578281,\n",
       "        -0.03578281, -0.03578281],\n",
       "       [-0.59802917,  0.88392374,  0.61380825, ..., -0.03578281,\n",
       "        -0.03578281, -0.03578281],\n",
       "       ...,\n",
       "       [-0.59802917,  0.88392374,  0.61380825, ..., -0.03578281,\n",
       "        -0.03578281, -0.03578281],\n",
       "       [-0.59802917, -1.13131931,  0.61380825, ..., -0.03578281,\n",
       "        -0.03578281, -0.03578281],\n",
       "       [-0.59802917, -1.13131931, -1.62917329, ..., -0.03578281,\n",
       "        -0.03578281, -0.03578281]])"
      ]
     },
     "execution_count": 17,
     "metadata": {},
     "output_type": "execute_result"
    }
   ],
   "source": [
    "dt_model = DecisionTreeClassifier()\n",
    "dt_model.fit(X_train_scaled, y_train)\n",
    "X_train_scaled"
   ]
  },
  {
   "cell_type": "markdown",
   "id": "4c8902fb",
   "metadata": {},
   "source": [
    "### Predictions (Decision Tree Classifier)"
   ]
  },
  {
   "cell_type": "code",
   "execution_count": 18,
   "id": "3705f066",
   "metadata": {},
   "outputs": [
    {
     "data": {
      "text/plain": [
       "array([1, 1, 0, 1, 0, 0, 1, 0, 1, 1, 1, 0, 0, 1, 0, 0, 0, 1, 0, 1, 0, 1,\n",
       "       0, 1, 1, 0, 0, 1, 0, 0, 1, 0, 1, 0, 1, 0, 1, 0, 1, 1, 1, 0, 0, 1,\n",
       "       0, 1, 0, 1, 1, 0, 1, 0, 1, 1, 1, 1, 0, 1, 0, 0, 1, 0, 1, 1, 1, 0,\n",
       "       0, 0, 0, 0, 0, 0, 1, 0, 1, 1, 1, 1, 1, 1, 0, 1, 0, 0, 1, 0, 0, 1,\n",
       "       1, 1, 0, 1, 0, 1, 0, 0, 0, 1, 1, 0, 1, 1, 0, 1, 0, 0, 1, 0, 1, 0,\n",
       "       1, 1, 0, 0, 1, 1, 0, 0, 0, 0, 1, 0, 0, 1, 0, 1, 0, 1, 1, 0, 1, 0,\n",
       "       1, 0, 1, 0, 1, 0, 0, 0, 1, 0, 0, 1, 1, 0, 0, 1, 1, 1, 0, 0, 1, 0,\n",
       "       0, 0, 0, 0, 1, 1, 0, 0, 1, 0, 1, 0, 0, 0, 1, 0, 0, 1, 0, 1, 1, 0,\n",
       "       0, 0, 1, 1, 1, 1, 0, 1, 1, 0, 1, 1, 0, 0, 0, 0, 0, 0, 0, 1, 0, 0,\n",
       "       0, 1, 0, 0, 0, 1, 1, 1, 1, 1, 1, 1, 0, 1, 1, 1, 0, 1, 1, 0, 0, 0,\n",
       "       0, 0, 0, 0, 0, 1, 0, 0, 0, 1, 1, 0, 0, 0, 0, 0, 0, 0, 0, 0, 0, 1,\n",
       "       0, 0, 0, 0, 0, 1, 1, 1, 0, 1, 1, 0, 1, 0, 1, 1, 1, 0, 0],\n",
       "      dtype=int64)"
      ]
     },
     "execution_count": 18,
     "metadata": {},
     "output_type": "execute_result"
    }
   ],
   "source": [
    "dt_predictions = dt_model.predict(X_test_scaled)\n",
    "dt_predictions"
   ]
  },
  {
   "cell_type": "markdown",
   "id": "9f3c9ecc",
   "metadata": {},
   "source": [
    "### The Predictive Accuracy (Decision Tree Classifier)"
   ]
  },
  {
   "cell_type": "code",
   "execution_count": 19,
   "id": "ed3a84f6",
   "metadata": {},
   "outputs": [
    {
     "data": {
      "text/plain": [
       "0.7241379310344828"
      ]
     },
     "execution_count": 19,
     "metadata": {},
     "output_type": "execute_result"
    }
   ],
   "source": [
    "dt_acc_score = accuracy_score(y_test, dt_predictions)\n",
    "dt_acc_score"
   ]
  },
  {
   "cell_type": "markdown",
   "id": "d06d56f5",
   "metadata": {},
   "source": [
    "### Confusion Matrix (Decision Tree Classifier)"
   ]
  },
  {
   "cell_type": "code",
   "execution_count": 20,
   "id": "d4516d6d",
   "metadata": {},
   "outputs": [
    {
     "data": {
      "text/plain": [
       "array([[111,  41],\n",
       "       [ 31,  78]], dtype=int64)"
      ]
     },
     "execution_count": 20,
     "metadata": {},
     "output_type": "execute_result"
    }
   ],
   "source": [
    "dt_conf_mat = confusion_matrix(y_test, dt_predictions)\n",
    "dt_conf_mat"
   ]
  },
  {
   "cell_type": "code",
   "execution_count": 21,
   "id": "8cd7af04",
   "metadata": {},
   "outputs": [
    {
     "data": {
      "text/html": [
       "<div>\n",
       "<style scoped>\n",
       "    .dataframe tbody tr th:only-of-type {\n",
       "        vertical-align: middle;\n",
       "    }\n",
       "\n",
       "    .dataframe tbody tr th {\n",
       "        vertical-align: top;\n",
       "    }\n",
       "\n",
       "    .dataframe thead th {\n",
       "        text-align: right;\n",
       "    }\n",
       "</style>\n",
       "<table border=\"1\" class=\"dataframe\">\n",
       "  <thead>\n",
       "    <tr style=\"text-align: right;\">\n",
       "      <th></th>\n",
       "      <th>Predicted (True)</th>\n",
       "      <th>Predicted (False)</th>\n",
       "    </tr>\n",
       "  </thead>\n",
       "  <tbody>\n",
       "    <tr>\n",
       "      <th>Actual (Positive)</th>\n",
       "      <td>111</td>\n",
       "      <td>41</td>\n",
       "    </tr>\n",
       "    <tr>\n",
       "      <th>Actual (Negative)</th>\n",
       "      <td>31</td>\n",
       "      <td>78</td>\n",
       "    </tr>\n",
       "  </tbody>\n",
       "</table>\n",
       "</div>"
      ],
      "text/plain": [
       "                   Predicted (True)  Predicted (False)\n",
       "Actual (Positive)               111                 41\n",
       "Actual (Negative)                31                 78"
      ]
     },
     "execution_count": 21,
     "metadata": {},
     "output_type": "execute_result"
    }
   ],
   "source": [
    "matrix_dataframe(dt_conf_mat)"
   ]
  },
  {
   "cell_type": "markdown",
   "id": "584238a0",
   "metadata": {},
   "source": [
    "### Feature Importance Rank (Decision Tree Classifier)"
   ]
  },
  {
   "cell_type": "code",
   "execution_count": 22,
   "id": "5dc49ab0",
   "metadata": {},
   "outputs": [
    {
     "data": {
      "text/plain": [
       "gender                  0.063268\n",
       "second periods grade    0.048891\n",
       "moms education_3        0.034916\n",
       "choice reason_4         0.029087\n",
       "significant other       0.028393\n",
       "dads job_4              0.027350\n",
       "guardian_1              0.024072\n",
       "dads education_2        0.023627\n",
       "social activities_2     0.022432\n",
       "free time_3             0.021527\n",
       "dads job_3              0.020735\n",
       "internet access         0.020667\n",
       "free time_5             0.019794\n",
       "health_4                0.018970\n",
       "guardian_0              0.018217\n",
       "Name: feature importances, dtype: float64"
      ]
     },
     "execution_count": 22,
     "metadata": {},
     "output_type": "execute_result"
    }
   ],
   "source": [
    "ranks = feature_rank(dt_model.feature_importances_, features)\n",
    "pd.Series(data=dict(ranks), name='feature importances')[:15]  # Top 15"
   ]
  },
  {
   "cell_type": "markdown",
   "id": "a1e880f8",
   "metadata": {},
   "source": [
    "### Classification Report (Decision Tree Classifier)"
   ]
  },
  {
   "cell_type": "code",
   "execution_count": 23,
   "id": "b7406dec",
   "metadata": {},
   "outputs": [
    {
     "name": "stdout",
     "output_type": "stream",
     "text": [
      "              precision    recall  f1-score   support\n",
      "\n",
      "           0       0.78      0.73      0.76       152\n",
      "           1       0.66      0.72      0.68       109\n",
      "\n",
      "    accuracy                           0.72       261\n",
      "   macro avg       0.72      0.72      0.72       261\n",
      "weighted avg       0.73      0.72      0.73       261\n",
      "\n"
     ]
    }
   ],
   "source": [
    "print(classification_report(y_test, dt_predictions))"
   ]
  },
  {
   "cell_type": "markdown",
   "id": "ce09afb6",
   "metadata": {},
   "source": [
    "## Random Forest Classifier"
   ]
  },
  {
   "cell_type": "code",
   "execution_count": 24,
   "id": "ec550a51",
   "metadata": {},
   "outputs": [
    {
     "data": {
      "text/plain": [
       "array([[-0.59802917,  0.88392374,  0.61380825, ..., -0.03578281,\n",
       "        -0.03578281, -0.03578281],\n",
       "       [ 1.67215923,  0.88392374,  0.61380825, ..., -0.03578281,\n",
       "        -0.03578281, -0.03578281],\n",
       "       [-0.59802917,  0.88392374,  0.61380825, ..., -0.03578281,\n",
       "        -0.03578281, -0.03578281],\n",
       "       ...,\n",
       "       [-0.59802917,  0.88392374,  0.61380825, ..., -0.03578281,\n",
       "        -0.03578281, -0.03578281],\n",
       "       [-0.59802917, -1.13131931,  0.61380825, ..., -0.03578281,\n",
       "        -0.03578281, -0.03578281],\n",
       "       [-0.59802917, -1.13131931, -1.62917329, ..., -0.03578281,\n",
       "        -0.03578281, -0.03578281]])"
      ]
     },
     "execution_count": 24,
     "metadata": {},
     "output_type": "execute_result"
    }
   ],
   "source": [
    "rf_model = RandomForestClassifier(n_estimators=128, random_state=25)\n",
    "rf_model.fit(X_train_scaled, y_train)\n",
    "X_train_scaled"
   ]
  },
  {
   "cell_type": "markdown",
   "id": "4cce890c",
   "metadata": {},
   "source": [
    "### Predictions (Random Forest Classifier)"
   ]
  },
  {
   "cell_type": "code",
   "execution_count": 25,
   "id": "a17cea67",
   "metadata": {},
   "outputs": [
    {
     "data": {
      "text/plain": [
       "array([1, 0, 1, 0, 1, 1, 1, 0, 0, 1, 0, 0, 0, 1, 0, 1, 0, 1, 1, 1, 0, 1,\n",
       "       0, 0, 0, 0, 0, 1, 0, 0, 1, 0, 1, 0, 0, 0, 1, 0, 1, 0, 1, 0, 0, 1,\n",
       "       1, 0, 0, 1, 0, 1, 1, 0, 1, 1, 0, 1, 0, 1, 0, 0, 0, 0, 0, 1, 1, 0,\n",
       "       0, 0, 0, 0, 0, 0, 1, 0, 0, 0, 0, 1, 0, 0, 0, 1, 0, 0, 1, 0, 1, 0,\n",
       "       0, 1, 0, 1, 0, 0, 0, 0, 0, 0, 0, 0, 0, 1, 1, 0, 0, 0, 1, 0, 1, 0,\n",
       "       0, 1, 0, 0, 0, 1, 0, 1, 0, 0, 1, 1, 0, 0, 0, 1, 0, 0, 1, 0, 0, 0,\n",
       "       1, 1, 1, 0, 1, 0, 0, 0, 0, 0, 0, 0, 0, 0, 1, 1, 0, 0, 0, 0, 0, 0,\n",
       "       0, 0, 1, 0, 1, 0, 0, 0, 1, 0, 1, 0, 0, 0, 1, 1, 1, 1, 0, 0, 1, 0,\n",
       "       0, 0, 1, 1, 1, 1, 0, 0, 0, 1, 0, 1, 0, 0, 0, 0, 0, 0, 0, 1, 0, 0,\n",
       "       0, 1, 0, 0, 0, 0, 1, 1, 1, 0, 1, 1, 0, 1, 1, 1, 1, 0, 1, 0, 0, 0,\n",
       "       0, 0, 0, 0, 0, 0, 0, 0, 0, 0, 0, 0, 0, 0, 0, 0, 1, 0, 0, 0, 1, 1,\n",
       "       0, 0, 0, 0, 1, 0, 1, 1, 0, 1, 1, 0, 1, 0, 1, 1, 0, 0, 0],\n",
       "      dtype=int64)"
      ]
     },
     "execution_count": 25,
     "metadata": {},
     "output_type": "execute_result"
    }
   ],
   "source": [
    "rf_predictions = rf_model.predict(X_test_scaled)\n",
    "rf_predictions"
   ]
  },
  {
   "cell_type": "markdown",
   "id": "dc1eca10",
   "metadata": {},
   "source": [
    "### The Predictive Accuracy (Random Forest Classifier)"
   ]
  },
  {
   "cell_type": "code",
   "execution_count": 26,
   "id": "4d0840f2",
   "metadata": {},
   "outputs": [
    {
     "data": {
      "text/plain": [
       "0.7777777777777778"
      ]
     },
     "execution_count": 26,
     "metadata": {},
     "output_type": "execute_result"
    }
   ],
   "source": [
    "rf_acc_score = accuracy_score(y_test, rf_predictions)\n",
    "rf_acc_score"
   ]
  },
  {
   "cell_type": "markdown",
   "id": "e82ef57f",
   "metadata": {},
   "source": [
    "### Confusion Matrix (Random Forest Classifier)"
   ]
  },
  {
   "cell_type": "code",
   "execution_count": 27,
   "id": "197b8ff0",
   "metadata": {},
   "outputs": [
    {
     "data": {
      "text/plain": [
       "array([[132,  20],\n",
       "       [ 38,  71]], dtype=int64)"
      ]
     },
     "execution_count": 27,
     "metadata": {},
     "output_type": "execute_result"
    }
   ],
   "source": [
    "rf_conf_mat = confusion_matrix(y_test, rf_predictions)\n",
    "rf_conf_mat"
   ]
  },
  {
   "cell_type": "code",
   "execution_count": 28,
   "id": "4c6b6251",
   "metadata": {},
   "outputs": [
    {
     "data": {
      "text/html": [
       "<div>\n",
       "<style scoped>\n",
       "    .dataframe tbody tr th:only-of-type {\n",
       "        vertical-align: middle;\n",
       "    }\n",
       "\n",
       "    .dataframe tbody tr th {\n",
       "        vertical-align: top;\n",
       "    }\n",
       "\n",
       "    .dataframe thead th {\n",
       "        text-align: right;\n",
       "    }\n",
       "</style>\n",
       "<table border=\"1\" class=\"dataframe\">\n",
       "  <thead>\n",
       "    <tr style=\"text-align: right;\">\n",
       "      <th></th>\n",
       "      <th>Predicted (True)</th>\n",
       "      <th>Predicted (False)</th>\n",
       "    </tr>\n",
       "  </thead>\n",
       "  <tbody>\n",
       "    <tr>\n",
       "      <th>Actual (Positive)</th>\n",
       "      <td>132</td>\n",
       "      <td>20</td>\n",
       "    </tr>\n",
       "    <tr>\n",
       "      <th>Actual (Negative)</th>\n",
       "      <td>38</td>\n",
       "      <td>71</td>\n",
       "    </tr>\n",
       "  </tbody>\n",
       "</table>\n",
       "</div>"
      ],
      "text/plain": [
       "                   Predicted (True)  Predicted (False)\n",
       "Actual (Positive)               132                 20\n",
       "Actual (Negative)                38                 71"
      ]
     },
     "execution_count": 28,
     "metadata": {},
     "output_type": "execute_result"
    }
   ],
   "source": [
    "matrix_dataframe(rf_conf_mat)"
   ]
  },
  {
   "cell_type": "markdown",
   "id": "5187c460",
   "metadata": {},
   "source": [
    "### Feature Importance Rank (Random Forest Classifier)"
   ]
  },
  {
   "cell_type": "code",
   "execution_count": 29,
   "id": "09fcf271",
   "metadata": {},
   "outputs": [
    {
     "data": {
      "text/plain": [
       "gender                   0.043233\n",
       "significant other        0.019329\n",
       "household size           0.018745\n",
       "second periods grade     0.018541\n",
       "moms job_4               0.017404\n",
       "choice reason_0          0.016710\n",
       "health_5                 0.016652\n",
       "study time_2             0.016276\n",
       "home address             0.016068\n",
       "nursery education        0.016034\n",
       "absences_0               0.015809\n",
       "health_4                 0.015782\n",
       "family relationship_4    0.015749\n",
       "free time_3              0.015736\n",
       "social activities_3      0.015444\n",
       "Name: feature importances, dtype: float64"
      ]
     },
     "execution_count": 29,
     "metadata": {},
     "output_type": "execute_result"
    }
   ],
   "source": [
    "ranks = feature_rank(rf_model.feature_importances_, features)\n",
    "pd.Series(dict(ranks), name='feature importances')[:15]"
   ]
  },
  {
   "cell_type": "markdown",
   "id": "8868f1e3",
   "metadata": {},
   "source": [
    "### Classification Report (Random Forest Classifier)"
   ]
  },
  {
   "cell_type": "code",
   "execution_count": 30,
   "id": "c7e8507f",
   "metadata": {},
   "outputs": [
    {
     "name": "stdout",
     "output_type": "stream",
     "text": [
      "              precision    recall  f1-score   support\n",
      "\n",
      "           0       0.78      0.87      0.82       152\n",
      "           1       0.78      0.65      0.71       109\n",
      "\n",
      "    accuracy                           0.78       261\n",
      "   macro avg       0.78      0.76      0.76       261\n",
      "weighted avg       0.78      0.78      0.77       261\n",
      "\n"
     ]
    }
   ],
   "source": [
    "print(classification_report(y_test, rf_predictions))"
   ]
  },
  {
   "cell_type": "markdown",
   "id": "c0955f5e",
   "metadata": {},
   "source": [
    "## Neural Network"
   ]
  },
  {
   "cell_type": "code",
   "execution_count": 31,
   "id": "68f123c0",
   "metadata": {},
   "outputs": [
    {
     "name": "stdout",
     "output_type": "stream",
     "text": [
      "Epoch 1/50\n",
      "25/25 [==============================] - 2s 5ms/step - loss: 0.7286 - accuracy: 0.5499\n",
      "Epoch 2/50\n",
      "25/25 [==============================] - 0s 4ms/step - loss: 0.6653 - accuracy: 0.5921\n",
      "Epoch 3/50\n",
      "25/25 [==============================] - 0s 4ms/step - loss: 0.6382 - accuracy: 0.6330\n",
      "Epoch 4/50\n",
      "25/25 [==============================] - 0s 4ms/step - loss: 0.6155 - accuracy: 0.6688\n",
      "Epoch 5/50\n",
      "25/25 [==============================] - 0s 4ms/step - loss: 0.5931 - accuracy: 0.7136\n",
      "Epoch 6/50\n",
      "25/25 [==============================] - 0s 4ms/step - loss: 0.5725 - accuracy: 0.7251\n",
      "Epoch 7/50\n",
      "25/25 [==============================] - 0s 4ms/step - loss: 0.5509 - accuracy: 0.7455\n",
      "Epoch 8/50\n",
      "25/25 [==============================] - 0s 4ms/step - loss: 0.5305 - accuracy: 0.7673\n",
      "Epoch 9/50\n",
      "25/25 [==============================] - 0s 4ms/step - loss: 0.5097 - accuracy: 0.7967\n",
      "Epoch 10/50\n",
      "25/25 [==============================] - 0s 4ms/step - loss: 0.4878 - accuracy: 0.8095\n",
      "Epoch 11/50\n",
      "25/25 [==============================] - 0s 4ms/step - loss: 0.4657 - accuracy: 0.8197\n",
      "Epoch 12/50\n",
      "25/25 [==============================] - 0s 4ms/step - loss: 0.4440 - accuracy: 0.8338\n",
      "Epoch 13/50\n",
      "25/25 [==============================] - 0s 4ms/step - loss: 0.4227 - accuracy: 0.8517\n",
      "Epoch 14/50\n",
      "25/25 [==============================] - 0s 4ms/step - loss: 0.4010 - accuracy: 0.8645\n",
      "Epoch 15/50\n",
      "25/25 [==============================] - 0s 4ms/step - loss: 0.3814 - accuracy: 0.8708\n",
      "Epoch 16/50\n",
      "25/25 [==============================] - 0s 4ms/step - loss: 0.3612 - accuracy: 0.8862\n",
      "Epoch 17/50\n",
      "25/25 [==============================] - 0s 4ms/step - loss: 0.3428 - accuracy: 0.8913\n",
      "Epoch 18/50\n",
      "25/25 [==============================] - 0s 4ms/step - loss: 0.3246 - accuracy: 0.9041\n",
      "Epoch 19/50\n",
      "25/25 [==============================] - 0s 4ms/step - loss: 0.3061 - accuracy: 0.9169\n",
      "Epoch 20/50\n",
      "25/25 [==============================] - 0s 4ms/step - loss: 0.2888 - accuracy: 0.9194\n",
      "Epoch 21/50\n",
      "25/25 [==============================] - 0s 4ms/step - loss: 0.2698 - accuracy: 0.9284\n",
      "Epoch 22/50\n",
      "25/25 [==============================] - 0s 4ms/step - loss: 0.2526 - accuracy: 0.9361\n",
      "Epoch 23/50\n",
      "25/25 [==============================] - 0s 4ms/step - loss: 0.2351 - accuracy: 0.9488: 0s - loss: 0.2381 - accuracy: 0.95\n",
      "Epoch 24/50\n",
      "25/25 [==============================] - 0s 4ms/step - loss: 0.2194 - accuracy: 0.9514\n",
      "Epoch 25/50\n",
      "25/25 [==============================] - 0s 4ms/step - loss: 0.2022 - accuracy: 0.9591\n",
      "Epoch 26/50\n",
      "25/25 [==============================] - 0s 4ms/step - loss: 0.1877 - accuracy: 0.9642\n",
      "Epoch 27/50\n",
      "25/25 [==============================] - 0s 4ms/step - loss: 0.1728 - accuracy: 0.9680\n",
      "Epoch 28/50\n",
      "25/25 [==============================] - 0s 4ms/step - loss: 0.1584 - accuracy: 0.9744\n",
      "Epoch 29/50\n",
      "25/25 [==============================] - 0s 4ms/step - loss: 0.1464 - accuracy: 0.9783\n",
      "Epoch 30/50\n",
      "25/25 [==============================] - 0s 3ms/step - loss: 0.1352 - accuracy: 0.9795\n",
      "Epoch 31/50\n",
      "25/25 [==============================] - 0s 3ms/step - loss: 0.1255 - accuracy: 0.9821\n",
      "Epoch 32/50\n",
      "25/25 [==============================] - 0s 4ms/step - loss: 0.1151 - accuracy: 0.9847\n",
      "Epoch 33/50\n",
      "25/25 [==============================] - 0s 4ms/step - loss: 0.1060 - accuracy: 0.9859\n",
      "Epoch 34/50\n",
      "25/25 [==============================] - 0s 4ms/step - loss: 0.0975 - accuracy: 0.9885\n",
      "Epoch 35/50\n",
      "25/25 [==============================] - 0s 4ms/step - loss: 0.0903 - accuracy: 0.9910\n",
      "Epoch 36/50\n",
      "25/25 [==============================] - 0s 4ms/step - loss: 0.0820 - accuracy: 0.9910\n",
      "Epoch 37/50\n",
      "25/25 [==============================] - 0s 4ms/step - loss: 0.0751 - accuracy: 0.9949\n",
      "Epoch 38/50\n",
      "25/25 [==============================] - 0s 4ms/step - loss: 0.0696 - accuracy: 0.9936\n",
      "Epoch 39/50\n",
      "25/25 [==============================] - 0s 4ms/step - loss: 0.0630 - accuracy: 0.9962\n",
      "Epoch 40/50\n",
      "25/25 [==============================] - 0s 4ms/step - loss: 0.0583 - accuracy: 0.9949\n",
      "Epoch 41/50\n",
      "25/25 [==============================] - 0s 4ms/step - loss: 0.0537 - accuracy: 0.9962\n",
      "Epoch 42/50\n",
      "25/25 [==============================] - 0s 4ms/step - loss: 0.0493 - accuracy: 1.0000\n",
      "Epoch 43/50\n",
      "25/25 [==============================] - 0s 4ms/step - loss: 0.0455 - accuracy: 1.0000\n",
      "Epoch 44/50\n",
      "25/25 [==============================] - 0s 4ms/step - loss: 0.0414 - accuracy: 1.0000\n",
      "Epoch 45/50\n",
      "25/25 [==============================] - 0s 4ms/step - loss: 0.0384 - accuracy: 1.0000\n",
      "Epoch 46/50\n",
      "25/25 [==============================] - 0s 4ms/step - loss: 0.0354 - accuracy: 1.0000\n",
      "Epoch 47/50\n",
      "25/25 [==============================] - 0s 4ms/step - loss: 0.0327 - accuracy: 1.0000\n",
      "Epoch 48/50\n",
      "25/25 [==============================] - 0s 4ms/step - loss: 0.0302 - accuracy: 1.0000\n",
      "Epoch 49/50\n",
      "25/25 [==============================] - 0s 4ms/step - loss: 0.0284 - accuracy: 1.0000\n",
      "Epoch 50/50\n",
      "25/25 [==============================] - 0s 4ms/step - loss: 0.0264 - accuracy: 1.0000\n",
      "9/9 - 0s - loss: 1.0029 - accuracy: 0.6858 - 484ms/epoch - 54ms/step\n",
      "The model loss is 1.0029094219207764 and the accuracy is 0.6858237385749817\n"
     ]
    }
   ],
   "source": [
    "# define the model\n",
    "\n",
    "num_input_features = len(X_train_scaled[0])\n",
    "hidden_nodes_layer_1 = 28\n",
    "hidden_nodes_layer_2 = 14\n",
    "\n",
    "nn = tf.keras.models.Sequential()\n",
    "\n",
    "# first hidden layer\n",
    "nn.add(tf.keras.layers.Dense(units=hidden_nodes_layer_1, input_dim=num_input_features, activation='relu'))\n",
    "\n",
    "# second hidden layer\n",
    "nn.add(tf.keras.layers.Dense(units=hidden_nodes_layer_2, activation='relu'))\n",
    "\n",
    "# outer layer\n",
    "nn.add(tf.keras.layers.Dense(units=1, activation='sigmoid'))\n",
    "\n",
    "nn.compile(loss='binary_crossentropy', optimizer='adam', metrics=['accuracy'])\n",
    "\n",
    "fit_model = nn.fit(X_train_scaled, y_train, epochs=50)\n",
    "\n",
    "model_loss, model_accuracy = nn.evaluate(X_test_scaled, y_test, verbose=2)\n",
    "\n",
    "print(f'The model loss is {model_loss} and the accuracy is {model_accuracy}')"
   ]
  },
  {
   "cell_type": "markdown",
   "id": "a9402547",
   "metadata": {},
   "source": [
    "### Summary (Neural Network)"
   ]
  },
  {
   "cell_type": "code",
   "execution_count": 32,
   "id": "ac87de3f",
   "metadata": {},
   "outputs": [
    {
     "name": "stdout",
     "output_type": "stream",
     "text": [
      "Model: \"sequential\"\n",
      "_________________________________________________________________\n",
      " Layer (type)                Output Shape              Param #   \n",
      "=================================================================\n",
      " dense (Dense)               (None, 28)                3220      \n",
      "                                                                 \n",
      " dense_1 (Dense)             (None, 14)                406       \n",
      "                                                                 \n",
      " dense_2 (Dense)             (None, 1)                 15        \n",
      "                                                                 \n",
      "=================================================================\n",
      "Total params: 3,641\n",
      "Trainable params: 3,641\n",
      "Non-trainable params: 0\n",
      "_________________________________________________________________\n"
     ]
    }
   ],
   "source": [
    "nn.summary()"
   ]
  },
  {
   "cell_type": "code",
   "execution_count": 33,
   "id": "7aad5c53",
   "metadata": {},
   "outputs": [],
   "source": [
    "conn = sqlite3.connect('../res/data/tables.sql')\n",
    "cursor = conn.cursor()"
   ]
  },
  {
   "cell_type": "code",
   "execution_count": 34,
   "id": "b609c51d",
   "metadata": {},
   "outputs": [],
   "source": [
    "cursor.execute('''\n",
    "SELECT profile.id, school, gender, age, \"home address\", \"parents cohabitation\", \n",
    "\"moms education\", \"dads education\", \"moms job\", \"dads job\", \"choice reason\", \n",
    "guardian, \"travel time\", \"nursery education\", \"internet access\", \"higher education\",\n",
    "\"significant other\", \"household size\", \"family relationship\", \"free time\",\n",
    "\"social activities\", \"study time\", \"first periods grade\", \"second periods grade\",\n",
    "\"third periods grade\", failures, absences, health, \"weekday drinking\",\n",
    "\"weekend drinking\", \"heavy drinking\"\n",
    "FROM profile\n",
    "JOIN activities\n",
    "ON profile.id = activities.id\n",
    "''')\n",
    "\n",
    "rows = cursor.fetchall()\n",
    "description = cursor.description\n",
    "conn.close()"
   ]
  },
  {
   "cell_type": "code",
   "execution_count": 35,
   "id": "fe1640dc",
   "metadata": {},
   "outputs": [
    {
     "data": {
      "text/html": [
       "<div>\n",
       "<style scoped>\n",
       "    .dataframe tbody tr th:only-of-type {\n",
       "        vertical-align: middle;\n",
       "    }\n",
       "\n",
       "    .dataframe tbody tr th {\n",
       "        vertical-align: top;\n",
       "    }\n",
       "\n",
       "    .dataframe thead th {\n",
       "        text-align: right;\n",
       "    }\n",
       "</style>\n",
       "<table border=\"1\" class=\"dataframe\">\n",
       "  <thead>\n",
       "    <tr style=\"text-align: right;\">\n",
       "      <th></th>\n",
       "      <th>school</th>\n",
       "      <th>gender</th>\n",
       "      <th>age</th>\n",
       "      <th>home address</th>\n",
       "      <th>parents cohabitation</th>\n",
       "      <th>moms education</th>\n",
       "      <th>dads education</th>\n",
       "      <th>moms job</th>\n",
       "      <th>dads job</th>\n",
       "      <th>choice reason</th>\n",
       "      <th>...</th>\n",
       "      <th>study time</th>\n",
       "      <th>first periods grade</th>\n",
       "      <th>second periods grade</th>\n",
       "      <th>third periods grade</th>\n",
       "      <th>failures</th>\n",
       "      <th>absences</th>\n",
       "      <th>health</th>\n",
       "      <th>weekday drinking</th>\n",
       "      <th>weekend drinking</th>\n",
       "      <th>heavy drinking</th>\n",
       "    </tr>\n",
       "    <tr>\n",
       "      <th>id</th>\n",
       "      <th></th>\n",
       "      <th></th>\n",
       "      <th></th>\n",
       "      <th></th>\n",
       "      <th></th>\n",
       "      <th></th>\n",
       "      <th></th>\n",
       "      <th></th>\n",
       "      <th></th>\n",
       "      <th></th>\n",
       "      <th></th>\n",
       "      <th></th>\n",
       "      <th></th>\n",
       "      <th></th>\n",
       "      <th></th>\n",
       "      <th></th>\n",
       "      <th></th>\n",
       "      <th></th>\n",
       "      <th></th>\n",
       "      <th></th>\n",
       "      <th></th>\n",
       "    </tr>\n",
       "  </thead>\n",
       "  <tbody>\n",
       "    <tr>\n",
       "      <th>1</th>\n",
       "      <td>GP</td>\n",
       "      <td>F</td>\n",
       "      <td>18</td>\n",
       "      <td>U</td>\n",
       "      <td>A</td>\n",
       "      <td>4</td>\n",
       "      <td>4</td>\n",
       "      <td>at_home</td>\n",
       "      <td>teacher</td>\n",
       "      <td>course</td>\n",
       "      <td>...</td>\n",
       "      <td>2</td>\n",
       "      <td>fail</td>\n",
       "      <td>fail</td>\n",
       "      <td>fail</td>\n",
       "      <td>0</td>\n",
       "      <td>6</td>\n",
       "      <td>3</td>\n",
       "      <td>1</td>\n",
       "      <td>1</td>\n",
       "      <td>no</td>\n",
       "    </tr>\n",
       "    <tr>\n",
       "      <th>2</th>\n",
       "      <td>GP</td>\n",
       "      <td>F</td>\n",
       "      <td>17</td>\n",
       "      <td>U</td>\n",
       "      <td>T</td>\n",
       "      <td>1</td>\n",
       "      <td>1</td>\n",
       "      <td>at_home</td>\n",
       "      <td>other</td>\n",
       "      <td>course</td>\n",
       "      <td>...</td>\n",
       "      <td>2</td>\n",
       "      <td>fail</td>\n",
       "      <td>fail</td>\n",
       "      <td>fail</td>\n",
       "      <td>0</td>\n",
       "      <td>4</td>\n",
       "      <td>3</td>\n",
       "      <td>1</td>\n",
       "      <td>1</td>\n",
       "      <td>no</td>\n",
       "    </tr>\n",
       "    <tr>\n",
       "      <th>3</th>\n",
       "      <td>GP</td>\n",
       "      <td>F</td>\n",
       "      <td>15</td>\n",
       "      <td>U</td>\n",
       "      <td>T</td>\n",
       "      <td>1</td>\n",
       "      <td>1</td>\n",
       "      <td>at_home</td>\n",
       "      <td>other</td>\n",
       "      <td>other</td>\n",
       "      <td>...</td>\n",
       "      <td>2</td>\n",
       "      <td>fail</td>\n",
       "      <td>fail</td>\n",
       "      <td>pass</td>\n",
       "      <td>3</td>\n",
       "      <td>10</td>\n",
       "      <td>3</td>\n",
       "      <td>2</td>\n",
       "      <td>3</td>\n",
       "      <td>yes</td>\n",
       "    </tr>\n",
       "  </tbody>\n",
       "</table>\n",
       "<p>3 rows × 30 columns</p>\n",
       "</div>"
      ],
      "text/plain": [
       "   school gender  age home address parents cohabitation  moms education  \\\n",
       "id                                                                        \n",
       "1      GP      F   18            U                    A               4   \n",
       "2      GP      F   17            U                    T               1   \n",
       "3      GP      F   15            U                    T               1   \n",
       "\n",
       "    dads education moms job dads job choice reason  ... study time  \\\n",
       "id                                                  ...              \n",
       "1                4  at_home  teacher        course  ...          2   \n",
       "2                1  at_home    other        course  ...          2   \n",
       "3                1  at_home    other         other  ...          2   \n",
       "\n",
       "    first periods grade second periods grade third periods grade failures  \\\n",
       "id                                                                          \n",
       "1                  fail                 fail                fail        0   \n",
       "2                  fail                 fail                fail        0   \n",
       "3                  fail                 fail                pass        3   \n",
       "\n",
       "   absences health  weekday drinking  weekend drinking  heavy drinking  \n",
       "id                                                                      \n",
       "1         6      3                 1                 1              no  \n",
       "2         4      3                 1                 1              no  \n",
       "3        10      3                 2                 3             yes  \n",
       "\n",
       "[3 rows x 30 columns]"
      ]
     },
     "execution_count": 35,
     "metadata": {},
     "output_type": "execute_result"
    }
   ],
   "source": [
    "data_df = pd.DataFrame(data=rows, columns=map(lambda x: x[0], description))\n",
    "data_df = data_df.set_index('id')\n",
    "data_df[:3]"
   ]
  },
  {
   "cell_type": "markdown",
   "id": "fa062aad",
   "metadata": {},
   "source": [
    "## Charts"
   ]
  },
  {
   "cell_type": "code",
   "execution_count": 36,
   "id": "5a7e0a21",
   "metadata": {},
   "outputs": [],
   "source": [
    "import matplotlib.pyplot as plt\n",
    "import seaborn as sns\n",
    "%matplotlib inline"
   ]
  },
  {
   "cell_type": "code",
   "execution_count": 37,
   "id": "02f8248e",
   "metadata": {},
   "outputs": [
    {
     "data": {
      "text/plain": [
       "Text(0.5, 1.0, 'Weekday Drinking Vs Gender')"
      ]
     },
     "execution_count": 37,
     "metadata": {},
     "output_type": "execute_result"
    },
    {
     "data": {
      "image/png": "[encoded data removed]",
      "text/plain": [
       "<Figure size 432x288 with 1 Axes>"
      ]
     },
     "metadata": {
      "needs_background": "light"
     },
     "output_type": "display_data"
    }
   ],
   "source": [
    "p = sns.barplot(x='gender', y='weekday drinking', hue='school', data=data_df)\n",
    "p.set_xlabel('Gender', fontsize=15)\n",
    "p.set_ylabel('Weekday Drinking', fontsize=15)\n",
    "p.set_title('Weekday Drinking Vs Gender', fontsize=15)"
   ]
  },
  {
   "cell_type": "code",
   "execution_count": 38,
   "id": "30040dd8",
   "metadata": {},
   "outputs": [
    {
     "data": {
      "text/plain": [
       "Text(0.5, 1.0, 'Weekend Drinking Vs Gender')"
      ]
     },
     "execution_count": 38,
     "metadata": {},
     "output_type": "execute_result"
    },
    {
     "data": {
      "image/png": "[encoded data removed]",
      "text/plain": [
       "<Figure size 432x288 with 1 Axes>"
      ]
     },
     "metadata": {
      "needs_background": "light"
     },
     "output_type": "display_data"
    }
   ],
   "source": [
    "p = sns.barplot(x='gender', y='weekend drinking', hue='school', data=data_df)\n",
    "p.set_xlabel('Gender', fontsize=15)\n",
    "p.set_ylabel('Weekend Drinking', fontsize=15)\n",
    "p.set_title('Weekend Drinking Vs Gender', fontsize=15)"
   ]
  },
  {
   "cell_type": "code",
   "execution_count": 39,
   "id": "0644e1ba",
   "metadata": {},
   "outputs": [
    {
     "data": {
      "text/plain": [
       "Text(0.5, 1.0, 'Weekday Drinking Vs Significant Other')"
      ]
     },
     "execution_count": 39,
     "metadata": {},
     "output_type": "execute_result"
    },
    {
     "data": {
      "image/png": "[encoded data removed]",
      "text/plain": [
       "<Figure size 432x288 with 1 Axes>"
      ]
     },
     "metadata": {
      "needs_background": "light"
     },
     "output_type": "display_data"
    }
   ],
   "source": [
    "p = sns.barplot(x='significant other', y='weekday drinking', hue='gender', data=data_df)\n",
    "p.set_xlabel('Significant Other', fontsize=15)\n",
    "p.set_ylabel('Weekday Drinking', fontsize=15)\n",
    "p.set_title('Weekday Drinking Vs Significant Other', fontsize=15)"
   ]
  },
  {
   "cell_type": "code",
   "execution_count": 40,
   "id": "1b705a9a",
   "metadata": {},
   "outputs": [
    {
     "data": {
      "text/plain": [
       "Text(0.5, 1.0, 'Weekend Drinking Vs Significant Other')"
      ]
     },
     "execution_count": 40,
     "metadata": {},
     "output_type": "execute_result"
    },
    {
     "data": {
      "image/png": "[encoded data removed]",
      "text/plain": [
       "<Figure size 432x288 with 1 Axes>"
      ]
     },
     "metadata": {
      "needs_background": "light"
     },
     "output_type": "display_data"
    }
   ],
   "source": [
    "p = sns.barplot(x='significant other', y='weekend drinking', hue='gender', data=data_df)\n",
    "p.set_xlabel('Significant Other', fontsize=15)\n",
    "p.set_ylabel('Weekend Drinking', fontsize=15)\n",
    "p.set_title('Weekend Drinking Vs Significant Other', fontsize=15)"
   ]
  },
  {
   "cell_type": "code",
   "execution_count": 41,
   "id": "ae4293fb",
   "metadata": {},
   "outputs": [
    {
     "data": {
      "text/plain": [
       "Text(0.5, 1.0, 'Count of Significant Other Vs Significant Other')"
      ]
     },
     "execution_count": 41,
     "metadata": {},
     "output_type": "execute_result"
    },
    {
     "data": {
      "image/png": "[encoded data removed]",
      "text/plain": [
       "<Figure size 432x288 with 1 Axes>"
      ]
     },
     "metadata": {
      "needs_background": "light"
     },
     "output_type": "display_data"
    }
   ],
   "source": [
    "p = sns.countplot(x='significant other', hue='gender', data=data_df)\n",
    "p.set_xlabel('Significant Other', fontsize=15)\n",
    "p.set_ylabel('Count', fontsize=15)\n",
    "p.set_title('Count of Significant Other Vs Significant Other', fontsize=15)"
   ]
  },
  {
   "cell_type": "code",
   "execution_count": 42,
   "id": "ecbc67bb",
   "metadata": {},
   "outputs": [
    {
     "data": {
      "text/plain": [
       "Text(0.5, 1.0, 'Absences Vs Weekday Drinking')"
      ]
     },
     "execution_count": 42,
     "metadata": {},
     "output_type": "execute_result"
    },
    {
     "data": {
      "image/png": "[encoded data removed]",
      "text/plain": [
       "<Figure size 432x288 with 1 Axes>"
      ]
     },
     "metadata": {
      "needs_background": "light"
     },
     "output_type": "display_data"
    }
   ],
   "source": [
    "p = sns.lineplot(x='weekday drinking', y='absences', hue='school', data=data_df)\n",
    "p.set_ylabel('Absences', fontsize=15)\n",
    "p.set_xlabel('Weekday Drinking', fontsize=15)\n",
    "p.set_title('Absences Vs Weekday Drinking', fontsize=15)"
   ]
  },
  {
   "cell_type": "code",
   "execution_count": 43,
   "id": "d711831d",
   "metadata": {},
   "outputs": [
    {
     "data": {
      "text/plain": [
       "Text(0.5, 1.0, 'Absences Vs Weekend Drinking')"
      ]
     },
     "execution_count": 43,
     "metadata": {},
     "output_type": "execute_result"
    },
    {
     "data": {
      "image/png": "[encoded data removed]",
      "text/plain": [
       "<Figure size 432x288 with 1 Axes>"
      ]
     },
     "metadata": {
      "needs_background": "light"
     },
     "output_type": "display_data"
    }
   ],
   "source": [
    "p = sns.lineplot(x='weekend drinking', y='absences', hue='school', data=data_df)\n",
    "p.set_ylabel('Absences', fontsize=15)\n",
    "p.set_xlabel('Weekend Drinking', fontsize=15)\n",
    "p.set_title('Absences Vs Weekend Drinking', fontsize=15)"
   ]
  },
  {
   "cell_type": "code",
   "execution_count": null,
   "id": "07e46511",
   "metadata": {},
   "outputs": [],
   "source": []
  }
 ],
 "metadata": {
  "kernelspec": {
   "display_name": "mlenv",
   "language": "python",
   "name": "mlenv"
  },
  "language_info": {
   "codemirror_mode": {
    "name": "ipython",
    "version": 3
   },
   "file_extension": ".py",
   "mimetype": "text/x-python",
   "name": "python",
   "nbconvert_exporter": "python",
   "pygments_lexer": "ipython3",
   "version": "3.9.5"
  }
 },
 "nbformat": 4,
 "nbformat_minor": 5
}
