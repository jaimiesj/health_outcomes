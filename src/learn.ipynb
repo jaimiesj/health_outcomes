{
 "cells": [
  {
   "cell_type": "code",
   "execution_count": 1,
   "id": "597fcbba",
   "metadata": {},
   "outputs": [],
   "source": [
    "import pandas as pd\n",
    "import numpy as np\n",
    "import sqlite3"
   ]
  },
  {
   "cell_type": "markdown",
   "id": "4dfcc21a",
   "metadata": {},
   "source": [
    "## Database Access and Data Retrieval"
   ]
  },
  {
   "cell_type": "code",
   "execution_count": 2,
   "id": "c30fd560",
   "metadata": {},
   "outputs": [],
   "source": [
    "conn = sqlite3.connect('../res/data/tables.sql')\n",
    "cursor = conn.cursor()"
   ]
  },
  {
   "cell_type": "code",
   "execution_count": 3,
   "id": "4031eea6",
   "metadata": {},
   "outputs": [],
   "source": [
    "# # ['id', 'school', 'gender', 'age', 'home address', 'parents cohabitation', 'moms education', 'dads education', 'moms job', 'dads job', 'choice reason', 'guardian', 'travel time', 'nursery education', 'internet access', 'higher education', 'significant other', 'household size', 'family relationship', 'free time', 'social activities', 'study time', 'first periods grade', 'second periods grade', 'third periods grade','failures', 'absences', 'health', 'weekday drinker', 'weekend drinker', 'drinker']\n",
    " \n",
    "cursor.execute('''\n",
    "SELECT profile_encoded.id, school, gender, age, \"home address\", \"parents cohabitation\", \n",
    "\"moms education\", \"dads education\", \"moms job\", \"dads job\", \"choice reason\", \n",
    "guardian, \"travel time\", \"nursery education\", \"internet access\", \"higher education\",\n",
    "\"significant other\", \"household size\", \"family relationship\", \"free time\",\n",
    "\"social activities\", \"study time\", \"first periods grade\", \"second periods grade\",\n",
    "\"third periods grade\", failures, absences, health, \"weekday drinking\",\n",
    "\"weekend drinking\", \"heavy drinking\"\n",
    "FROM profile_encoded\n",
    "JOIN activities_encoded\n",
    "ON profile_encoded.id = activities_encoded.id\n",
    "''')\n",
    "\n",
    "row = cursor.fetchall()\n",
    "description = cursor.description\n",
    "conn.close()"
   ]
  },
  {
   "cell_type": "code",
   "execution_count": 4,
   "id": "3aa80f7e",
   "metadata": {},
   "outputs": [
    {
     "data": {
      "text/html": [
       "<div>\n",
       "<style scoped>\n",
       "    .dataframe tbody tr th:only-of-type {\n",
       "        vertical-align: middle;\n",
       "    }\n",
       "\n",
       "    .dataframe tbody tr th {\n",
       "        vertical-align: top;\n",
       "    }\n",
       "\n",
       "    .dataframe thead th {\n",
       "        text-align: right;\n",
       "    }\n",
       "</style>\n",
       "<table border=\"1\" class=\"dataframe\">\n",
       "  <thead>\n",
       "    <tr style=\"text-align: right;\">\n",
       "      <th></th>\n",
       "      <th>school</th>\n",
       "      <th>gender</th>\n",
       "      <th>age</th>\n",
       "      <th>home address</th>\n",
       "      <th>parents cohabitation</th>\n",
       "      <th>moms education</th>\n",
       "      <th>dads education</th>\n",
       "      <th>moms job</th>\n",
       "      <th>dads job</th>\n",
       "      <th>choice reason</th>\n",
       "      <th>...</th>\n",
       "      <th>study time</th>\n",
       "      <th>first periods grade</th>\n",
       "      <th>second periods grade</th>\n",
       "      <th>third periods grade</th>\n",
       "      <th>failures</th>\n",
       "      <th>absences</th>\n",
       "      <th>health</th>\n",
       "      <th>weekday drinking</th>\n",
       "      <th>weekend drinking</th>\n",
       "      <th>heavy drinking</th>\n",
       "    </tr>\n",
       "    <tr>\n",
       "      <th>id</th>\n",
       "      <th></th>\n",
       "      <th></th>\n",
       "      <th></th>\n",
       "      <th></th>\n",
       "      <th></th>\n",
       "      <th></th>\n",
       "      <th></th>\n",
       "      <th></th>\n",
       "      <th></th>\n",
       "      <th></th>\n",
       "      <th></th>\n",
       "      <th></th>\n",
       "      <th></th>\n",
       "      <th></th>\n",
       "      <th></th>\n",
       "      <th></th>\n",
       "      <th></th>\n",
       "      <th></th>\n",
       "      <th></th>\n",
       "      <th></th>\n",
       "      <th></th>\n",
       "    </tr>\n",
       "  </thead>\n",
       "  <tbody>\n",
       "    <tr>\n",
       "      <th>1</th>\n",
       "      <td>0</td>\n",
       "      <td>1</td>\n",
       "      <td>18</td>\n",
       "      <td>1</td>\n",
       "      <td>0</td>\n",
       "      <td>4</td>\n",
       "      <td>4</td>\n",
       "      <td>0</td>\n",
       "      <td>2</td>\n",
       "      <td>0</td>\n",
       "      <td>...</td>\n",
       "      <td>2</td>\n",
       "      <td>0</td>\n",
       "      <td>0</td>\n",
       "      <td>0</td>\n",
       "      <td>0</td>\n",
       "      <td>6</td>\n",
       "      <td>3</td>\n",
       "      <td>1</td>\n",
       "      <td>1</td>\n",
       "      <td>0</td>\n",
       "    </tr>\n",
       "    <tr>\n",
       "      <th>2</th>\n",
       "      <td>0</td>\n",
       "      <td>1</td>\n",
       "      <td>17</td>\n",
       "      <td>1</td>\n",
       "      <td>1</td>\n",
       "      <td>1</td>\n",
       "      <td>1</td>\n",
       "      <td>0</td>\n",
       "      <td>4</td>\n",
       "      <td>0</td>\n",
       "      <td>...</td>\n",
       "      <td>2</td>\n",
       "      <td>0</td>\n",
       "      <td>0</td>\n",
       "      <td>0</td>\n",
       "      <td>0</td>\n",
       "      <td>4</td>\n",
       "      <td>3</td>\n",
       "      <td>1</td>\n",
       "      <td>1</td>\n",
       "      <td>0</td>\n",
       "    </tr>\n",
       "    <tr>\n",
       "      <th>3</th>\n",
       "      <td>0</td>\n",
       "      <td>1</td>\n",
       "      <td>15</td>\n",
       "      <td>1</td>\n",
       "      <td>1</td>\n",
       "      <td>1</td>\n",
       "      <td>1</td>\n",
       "      <td>0</td>\n",
       "      <td>4</td>\n",
       "      <td>4</td>\n",
       "      <td>...</td>\n",
       "      <td>2</td>\n",
       "      <td>0</td>\n",
       "      <td>0</td>\n",
       "      <td>1</td>\n",
       "      <td>3</td>\n",
       "      <td>10</td>\n",
       "      <td>3</td>\n",
       "      <td>2</td>\n",
       "      <td>3</td>\n",
       "      <td>1</td>\n",
       "    </tr>\n",
       "    <tr>\n",
       "      <th>4</th>\n",
       "      <td>0</td>\n",
       "      <td>1</td>\n",
       "      <td>15</td>\n",
       "      <td>1</td>\n",
       "      <td>1</td>\n",
       "      <td>4</td>\n",
       "      <td>2</td>\n",
       "      <td>1</td>\n",
       "      <td>3</td>\n",
       "      <td>1</td>\n",
       "      <td>...</td>\n",
       "      <td>3</td>\n",
       "      <td>1</td>\n",
       "      <td>1</td>\n",
       "      <td>1</td>\n",
       "      <td>0</td>\n",
       "      <td>2</td>\n",
       "      <td>5</td>\n",
       "      <td>1</td>\n",
       "      <td>1</td>\n",
       "      <td>0</td>\n",
       "    </tr>\n",
       "    <tr>\n",
       "      <th>5</th>\n",
       "      <td>0</td>\n",
       "      <td>1</td>\n",
       "      <td>16</td>\n",
       "      <td>1</td>\n",
       "      <td>1</td>\n",
       "      <td>3</td>\n",
       "      <td>3</td>\n",
       "      <td>4</td>\n",
       "      <td>4</td>\n",
       "      <td>1</td>\n",
       "      <td>...</td>\n",
       "      <td>2</td>\n",
       "      <td>0</td>\n",
       "      <td>1</td>\n",
       "      <td>1</td>\n",
       "      <td>0</td>\n",
       "      <td>4</td>\n",
       "      <td>5</td>\n",
       "      <td>1</td>\n",
       "      <td>2</td>\n",
       "      <td>0</td>\n",
       "    </tr>\n",
       "  </tbody>\n",
       "</table>\n",
       "<p>5 rows × 30 columns</p>\n",
       "</div>"
      ],
      "text/plain": [
       "    school  gender  age  home address  parents cohabitation  moms education  \\\n",
       "id                                                                            \n",
       "1        0       1   18             1                     0               4   \n",
       "2        0       1   17             1                     1               1   \n",
       "3        0       1   15             1                     1               1   \n",
       "4        0       1   15             1                     1               4   \n",
       "5        0       1   16             1                     1               3   \n",
       "\n",
       "    dads education  moms job  dads job  choice reason  ...  study time  \\\n",
       "id                                                     ...               \n",
       "1                4         0         2              0  ...           2   \n",
       "2                1         0         4              0  ...           2   \n",
       "3                1         0         4              4  ...           2   \n",
       "4                2         1         3              1  ...           3   \n",
       "5                3         4         4              1  ...           2   \n",
       "\n",
       "    first periods grade  second periods grade  third periods grade  failures  \\\n",
       "id                                                                             \n",
       "1                     0                     0                    0         0   \n",
       "2                     0                     0                    0         0   \n",
       "3                     0                     0                    1         3   \n",
       "4                     1                     1                    1         0   \n",
       "5                     0                     1                    1         0   \n",
       "\n",
       "    absences  health  weekday drinking  weekend drinking  heavy drinking  \n",
       "id                                                                        \n",
       "1          6       3                 1                 1               0  \n",
       "2          4       3                 1                 1               0  \n",
       "3         10       3                 2                 3               1  \n",
       "4          2       5                 1                 1               0  \n",
       "5          4       5                 1                 2               0  \n",
       "\n",
       "[5 rows x 30 columns]"
      ]
     },
     "execution_count": 4,
     "metadata": {},
     "output_type": "execute_result"
    }
   ],
   "source": [
    "df = pd.DataFrame(data=row, columns=map(lambda x: x[0], description))\n",
    "df = df.set_index('id')\n",
    "df.head()"
   ]
  },
  {
   "cell_type": "code",
   "execution_count": 5,
   "id": "af34db64",
   "metadata": {},
   "outputs": [
    {
     "data": {
      "text/plain": [
       "school                   2\n",
       "gender                   2\n",
       "age                      8\n",
       "home address             2\n",
       "parents cohabitation     2\n",
       "moms education           5\n",
       "dads education           5\n",
       "moms job                 5\n",
       "dads job                 5\n",
       "choice reason            4\n",
       "guardian                 3\n",
       "travel time              4\n",
       "nursery education        2\n",
       "internet access          2\n",
       "higher education         2\n",
       "significant other        2\n",
       "household size           2\n",
       "family relationship      5\n",
       "free time                5\n",
       "social activities        5\n",
       "study time               4\n",
       "first periods grade      2\n",
       "second periods grade     2\n",
       "third periods grade      2\n",
       "failures                 4\n",
       "absences                35\n",
       "health                   5\n",
       "weekday drinking         5\n",
       "weekend drinking         5\n",
       "heavy drinking           2\n",
       "dtype: int64"
      ]
     },
     "execution_count": 5,
     "metadata": {},
     "output_type": "execute_result"
    }
   ],
   "source": [
    "df.nunique()"
   ]
  },
  {
   "cell_type": "markdown",
   "id": "4f309d03",
   "metadata": {},
   "source": [
    "## Data Modeling"
   ]
  },
  {
   "cell_type": "code",
   "execution_count": 6,
   "id": "6745b6d2",
   "metadata": {},
   "outputs": [],
   "source": [
    "from sklearn.ensemble import RandomForestClassifier\n",
    "from sklearn.model_selection import train_test_split\n",
    "from sklearn.preprocessing import StandardScaler\n",
    "from sklearn.preprocessing import MinMaxScaler\n",
    "from sklearn.preprocessing import OneHotEncoder\n",
    "from sklearn.tree import DecisionTreeClassifier\n",
    "from sklearn.metrics import accuracy_score\n",
    "from sklearn.metrics import confusion_matrix\n",
    "from sklearn.metrics import classification_report\n",
    "import tensorflow as tf"
   ]
  },
  {
   "cell_type": "markdown",
   "id": "54568491",
   "metadata": {},
   "source": [
    "### Data Preparation"
   ]
  },
  {
   "cell_type": "code",
   "execution_count": 7,
   "id": "6149bb26",
   "metadata": {},
   "outputs": [
    {
     "data": {
      "text/html": [
       "<div>\n",
       "<style scoped>\n",
       "    .dataframe tbody tr th:only-of-type {\n",
       "        vertical-align: middle;\n",
       "    }\n",
       "\n",
       "    .dataframe tbody tr th {\n",
       "        vertical-align: top;\n",
       "    }\n",
       "\n",
       "    .dataframe thead th {\n",
       "        text-align: right;\n",
       "    }\n",
       "</style>\n",
       "<table border=\"1\" class=\"dataframe\">\n",
       "  <thead>\n",
       "    <tr style=\"text-align: right;\">\n",
       "      <th></th>\n",
       "      <th>age</th>\n",
       "      <th>guardian</th>\n",
       "      <th>failures</th>\n",
       "      <th>free time</th>\n",
       "      <th>travel time</th>\n",
       "      <th>social activities</th>\n",
       "      <th>study time</th>\n",
       "      <th>health</th>\n",
       "      <th>family relationship</th>\n",
       "      <th>moms job</th>\n",
       "      <th>dads job</th>\n",
       "      <th>moms education</th>\n",
       "      <th>dads education</th>\n",
       "      <th>choice reason</th>\n",
       "    </tr>\n",
       "    <tr>\n",
       "      <th>id</th>\n",
       "      <th></th>\n",
       "      <th></th>\n",
       "      <th></th>\n",
       "      <th></th>\n",
       "      <th></th>\n",
       "      <th></th>\n",
       "      <th></th>\n",
       "      <th></th>\n",
       "      <th></th>\n",
       "      <th></th>\n",
       "      <th></th>\n",
       "      <th></th>\n",
       "      <th></th>\n",
       "      <th></th>\n",
       "    </tr>\n",
       "  </thead>\n",
       "  <tbody>\n",
       "    <tr>\n",
       "      <th>1</th>\n",
       "      <td>18</td>\n",
       "      <td>0</td>\n",
       "      <td>0</td>\n",
       "      <td>3</td>\n",
       "      <td>2</td>\n",
       "      <td>4</td>\n",
       "      <td>2</td>\n",
       "      <td>3</td>\n",
       "      <td>4</td>\n",
       "      <td>0</td>\n",
       "      <td>2</td>\n",
       "      <td>4</td>\n",
       "      <td>4</td>\n",
       "      <td>0</td>\n",
       "    </tr>\n",
       "    <tr>\n",
       "      <th>2</th>\n",
       "      <td>17</td>\n",
       "      <td>1</td>\n",
       "      <td>0</td>\n",
       "      <td>3</td>\n",
       "      <td>1</td>\n",
       "      <td>3</td>\n",
       "      <td>2</td>\n",
       "      <td>3</td>\n",
       "      <td>5</td>\n",
       "      <td>0</td>\n",
       "      <td>4</td>\n",
       "      <td>1</td>\n",
       "      <td>1</td>\n",
       "      <td>0</td>\n",
       "    </tr>\n",
       "    <tr>\n",
       "      <th>3</th>\n",
       "      <td>15</td>\n",
       "      <td>0</td>\n",
       "      <td>3</td>\n",
       "      <td>3</td>\n",
       "      <td>1</td>\n",
       "      <td>2</td>\n",
       "      <td>2</td>\n",
       "      <td>3</td>\n",
       "      <td>4</td>\n",
       "      <td>0</td>\n",
       "      <td>4</td>\n",
       "      <td>1</td>\n",
       "      <td>1</td>\n",
       "      <td>4</td>\n",
       "    </tr>\n",
       "    <tr>\n",
       "      <th>4</th>\n",
       "      <td>15</td>\n",
       "      <td>0</td>\n",
       "      <td>0</td>\n",
       "      <td>2</td>\n",
       "      <td>1</td>\n",
       "      <td>2</td>\n",
       "      <td>3</td>\n",
       "      <td>5</td>\n",
       "      <td>3</td>\n",
       "      <td>1</td>\n",
       "      <td>3</td>\n",
       "      <td>4</td>\n",
       "      <td>2</td>\n",
       "      <td>1</td>\n",
       "    </tr>\n",
       "    <tr>\n",
       "      <th>5</th>\n",
       "      <td>16</td>\n",
       "      <td>1</td>\n",
       "      <td>0</td>\n",
       "      <td>3</td>\n",
       "      <td>1</td>\n",
       "      <td>2</td>\n",
       "      <td>2</td>\n",
       "      <td>5</td>\n",
       "      <td>4</td>\n",
       "      <td>4</td>\n",
       "      <td>4</td>\n",
       "      <td>3</td>\n",
       "      <td>3</td>\n",
       "      <td>1</td>\n",
       "    </tr>\n",
       "  </tbody>\n",
       "</table>\n",
       "</div>"
      ],
      "text/plain": [
       "    age  guardian  failures  free time  travel time  social activities  \\\n",
       "id                                                                       \n",
       "1    18         0         0          3            2                  4   \n",
       "2    17         1         0          3            1                  3   \n",
       "3    15         0         3          3            1                  2   \n",
       "4    15         0         0          2            1                  2   \n",
       "5    16         1         0          3            1                  2   \n",
       "\n",
       "    study time  health  family relationship  moms job  dads job  \\\n",
       "id                                                                \n",
       "1            2       3                    4         0         2   \n",
       "2            2       3                    5         0         4   \n",
       "3            2       3                    4         0         4   \n",
       "4            3       5                    3         1         3   \n",
       "5            2       5                    4         4         4   \n",
       "\n",
       "    moms education  dads education  choice reason  \n",
       "id                                                 \n",
       "1                4               4              0  \n",
       "2                1               1              0  \n",
       "3                1               1              4  \n",
       "4                4               2              1  \n",
       "5                3               3              1  "
      ]
     },
     "execution_count": 7,
     "metadata": {},
     "output_type": "execute_result"
    }
   ],
   "source": [
    "# Non-binary list\n",
    "\n",
    "non_binary = ['age', 'guardian', 'failures', 'free time', 'travel time', 'social activities', 'study time', 'health', 'family relationship', 'moms job', 'dads job', 'moms education', 'dads education', 'choice reason']\n",
    "non_binary_df = df[non_binary]\n",
    "non_binary_df[:5]"
   ]
  },
  {
   "cell_type": "code",
   "execution_count": 8,
   "id": "abe9c65f",
   "metadata": {},
   "outputs": [
    {
     "data": {
      "text/plain": [
       "age                    int64\n",
       "guardian               int64\n",
       "failures               int64\n",
       "free time              int64\n",
       "travel time            int64\n",
       "social activities      int64\n",
       "study time             int64\n",
       "health                 int64\n",
       "family relationship    int64\n",
       "moms job               int64\n",
       "dads job               int64\n",
       "moms education         int64\n",
       "dads education         int64\n",
       "choice reason          int64\n",
       "dtype: object"
      ]
     },
     "execution_count": 8,
     "metadata": {},
     "output_type": "execute_result"
    }
   ],
   "source": [
    "non_binary_df.dtypes"
   ]
  },
  {
   "cell_type": "code",
   "execution_count": 9,
   "id": "24701b3c",
   "metadata": {},
   "outputs": [
    {
     "data": {
      "text/html": [
       "<div>\n",
       "<style scoped>\n",
       "    .dataframe tbody tr th:only-of-type {\n",
       "        vertical-align: middle;\n",
       "    }\n",
       "\n",
       "    .dataframe tbody tr th {\n",
       "        vertical-align: top;\n",
       "    }\n",
       "\n",
       "    .dataframe thead th {\n",
       "        text-align: right;\n",
       "    }\n",
       "</style>\n",
       "<table border=\"1\" class=\"dataframe\">\n",
       "  <thead>\n",
       "    <tr style=\"text-align: right;\">\n",
       "      <th></th>\n",
       "      <th>school</th>\n",
       "      <th>gender</th>\n",
       "      <th>home address</th>\n",
       "      <th>parents cohabitation</th>\n",
       "      <th>nursery education</th>\n",
       "      <th>internet access</th>\n",
       "      <th>higher education</th>\n",
       "      <th>significant other</th>\n",
       "      <th>household size</th>\n",
       "      <th>first periods grade</th>\n",
       "      <th>...</th>\n",
       "      <th>moms education_4</th>\n",
       "      <th>dads education_0</th>\n",
       "      <th>dads education_1</th>\n",
       "      <th>dads education_2</th>\n",
       "      <th>dads education_3</th>\n",
       "      <th>dads education_4</th>\n",
       "      <th>choice reason_0</th>\n",
       "      <th>choice reason_1</th>\n",
       "      <th>choice reason_3</th>\n",
       "      <th>choice reason_4</th>\n",
       "    </tr>\n",
       "    <tr>\n",
       "      <th>id</th>\n",
       "      <th></th>\n",
       "      <th></th>\n",
       "      <th></th>\n",
       "      <th></th>\n",
       "      <th></th>\n",
       "      <th></th>\n",
       "      <th></th>\n",
       "      <th></th>\n",
       "      <th></th>\n",
       "      <th></th>\n",
       "      <th></th>\n",
       "      <th></th>\n",
       "      <th></th>\n",
       "      <th></th>\n",
       "      <th></th>\n",
       "      <th></th>\n",
       "      <th></th>\n",
       "      <th></th>\n",
       "      <th></th>\n",
       "      <th></th>\n",
       "      <th></th>\n",
       "    </tr>\n",
       "  </thead>\n",
       "  <tbody>\n",
       "    <tr>\n",
       "      <th>1</th>\n",
       "      <td>0</td>\n",
       "      <td>1</td>\n",
       "      <td>1</td>\n",
       "      <td>0</td>\n",
       "      <td>1</td>\n",
       "      <td>0</td>\n",
       "      <td>1</td>\n",
       "      <td>0</td>\n",
       "      <td>1</td>\n",
       "      <td>0</td>\n",
       "      <td>...</td>\n",
       "      <td>0.0</td>\n",
       "      <td>0.0</td>\n",
       "      <td>1.0</td>\n",
       "      <td>0.0</td>\n",
       "      <td>0.0</td>\n",
       "      <td>0.0</td>\n",
       "      <td>1.0</td>\n",
       "      <td>0.0</td>\n",
       "      <td>0.0</td>\n",
       "      <td>0.0</td>\n",
       "    </tr>\n",
       "    <tr>\n",
       "      <th>2</th>\n",
       "      <td>0</td>\n",
       "      <td>1</td>\n",
       "      <td>1</td>\n",
       "      <td>1</td>\n",
       "      <td>0</td>\n",
       "      <td>1</td>\n",
       "      <td>1</td>\n",
       "      <td>0</td>\n",
       "      <td>1</td>\n",
       "      <td>0</td>\n",
       "      <td>...</td>\n",
       "      <td>0.0</td>\n",
       "      <td>0.0</td>\n",
       "      <td>1.0</td>\n",
       "      <td>0.0</td>\n",
       "      <td>0.0</td>\n",
       "      <td>0.0</td>\n",
       "      <td>0.0</td>\n",
       "      <td>0.0</td>\n",
       "      <td>0.0</td>\n",
       "      <td>1.0</td>\n",
       "    </tr>\n",
       "    <tr>\n",
       "      <th>3</th>\n",
       "      <td>0</td>\n",
       "      <td>1</td>\n",
       "      <td>1</td>\n",
       "      <td>1</td>\n",
       "      <td>1</td>\n",
       "      <td>1</td>\n",
       "      <td>1</td>\n",
       "      <td>0</td>\n",
       "      <td>0</td>\n",
       "      <td>0</td>\n",
       "      <td>...</td>\n",
       "      <td>1.0</td>\n",
       "      <td>0.0</td>\n",
       "      <td>0.0</td>\n",
       "      <td>1.0</td>\n",
       "      <td>0.0</td>\n",
       "      <td>0.0</td>\n",
       "      <td>0.0</td>\n",
       "      <td>1.0</td>\n",
       "      <td>0.0</td>\n",
       "      <td>0.0</td>\n",
       "    </tr>\n",
       "    <tr>\n",
       "      <th>4</th>\n",
       "      <td>0</td>\n",
       "      <td>1</td>\n",
       "      <td>1</td>\n",
       "      <td>1</td>\n",
       "      <td>1</td>\n",
       "      <td>1</td>\n",
       "      <td>1</td>\n",
       "      <td>1</td>\n",
       "      <td>1</td>\n",
       "      <td>1</td>\n",
       "      <td>...</td>\n",
       "      <td>0.0</td>\n",
       "      <td>0.0</td>\n",
       "      <td>0.0</td>\n",
       "      <td>0.0</td>\n",
       "      <td>1.0</td>\n",
       "      <td>0.0</td>\n",
       "      <td>0.0</td>\n",
       "      <td>1.0</td>\n",
       "      <td>0.0</td>\n",
       "      <td>0.0</td>\n",
       "    </tr>\n",
       "    <tr>\n",
       "      <th>5</th>\n",
       "      <td>0</td>\n",
       "      <td>1</td>\n",
       "      <td>1</td>\n",
       "      <td>1</td>\n",
       "      <td>1</td>\n",
       "      <td>0</td>\n",
       "      <td>1</td>\n",
       "      <td>0</td>\n",
       "      <td>1</td>\n",
       "      <td>0</td>\n",
       "      <td>...</td>\n",
       "      <td>1.0</td>\n",
       "      <td>0.0</td>\n",
       "      <td>0.0</td>\n",
       "      <td>0.0</td>\n",
       "      <td>1.0</td>\n",
       "      <td>0.0</td>\n",
       "      <td>0.0</td>\n",
       "      <td>0.0</td>\n",
       "      <td>1.0</td>\n",
       "      <td>0.0</td>\n",
       "    </tr>\n",
       "  </tbody>\n",
       "</table>\n",
       "<p>5 rows × 83 columns</p>\n",
       "</div>"
      ],
      "text/plain": [
       "    school  gender  home address  parents cohabitation  nursery education  \\\n",
       "id                                                                          \n",
       "1        0       1             1                     0                  1   \n",
       "2        0       1             1                     1                  0   \n",
       "3        0       1             1                     1                  1   \n",
       "4        0       1             1                     1                  1   \n",
       "5        0       1             1                     1                  1   \n",
       "\n",
       "    internet access  higher education  significant other  household size  \\\n",
       "id                                                                         \n",
       "1                 0                 1                  0               1   \n",
       "2                 1                 1                  0               1   \n",
       "3                 1                 1                  0               0   \n",
       "4                 1                 1                  1               1   \n",
       "5                 0                 1                  0               1   \n",
       "\n",
       "    first periods grade  ...  moms education_4  dads education_0  \\\n",
       "id                       ...                                       \n",
       "1                     0  ...               0.0               0.0   \n",
       "2                     0  ...               0.0               0.0   \n",
       "3                     0  ...               1.0               0.0   \n",
       "4                     1  ...               0.0               0.0   \n",
       "5                     0  ...               1.0               0.0   \n",
       "\n",
       "    dads education_1  dads education_2  dads education_3  dads education_4  \\\n",
       "id                                                                           \n",
       "1                1.0               0.0               0.0               0.0   \n",
       "2                1.0               0.0               0.0               0.0   \n",
       "3                0.0               1.0               0.0               0.0   \n",
       "4                0.0               0.0               1.0               0.0   \n",
       "5                0.0               0.0               1.0               0.0   \n",
       "\n",
       "    choice reason_0  choice reason_1  choice reason_3  choice reason_4  \n",
       "id                                                                      \n",
       "1               1.0              0.0              0.0              0.0  \n",
       "2               0.0              0.0              0.0              1.0  \n",
       "3               0.0              1.0              0.0              0.0  \n",
       "4               0.0              1.0              0.0              0.0  \n",
       "5               0.0              0.0              1.0              0.0  \n",
       "\n",
       "[5 rows x 83 columns]"
      ]
     },
     "execution_count": 9,
     "metadata": {},
     "output_type": "execute_result"
    }
   ],
   "source": [
    "one_hot_enc = OneHotEncoder(sparse=False)\n",
    "one_hot_df = pd.DataFrame(one_hot_enc.fit_transform(non_binary_df))\n",
    "encoded_columns = one_hot_enc.get_feature_names_out(non_binary)\n",
    "one_hot_df.columns = encoded_columns\n",
    "\n",
    "# merge dataframes\n",
    "\n",
    "encoded_df = df.join(one_hot_df)\n",
    "\n",
    "# drop non-binary columns\n",
    "encoded_df = encoded_df.drop(non_binary, axis=1)\n",
    "encoded_df[:5]"
   ]
  },
  {
   "cell_type": "code",
   "execution_count": 10,
   "id": "447a1813",
   "metadata": {},
   "outputs": [],
   "source": [
    "encoded_df = encoded_df.dropna()"
   ]
  },
  {
   "cell_type": "code",
   "execution_count": 11,
   "id": "49c493ec",
   "metadata": {},
   "outputs": [
    {
     "data": {
      "text/plain": [
       "school                  2\n",
       "gender                  2\n",
       "home address            2\n",
       "parents cohabitation    2\n",
       "nursery education       2\n",
       "                       ..\n",
       "dads education_4        2\n",
       "choice reason_0         2\n",
       "choice reason_1         2\n",
       "choice reason_3         2\n",
       "choice reason_4         2\n",
       "Length: 83, dtype: int64"
      ]
     },
     "execution_count": 11,
     "metadata": {},
     "output_type": "execute_result"
    }
   ],
   "source": [
    "encoded_df.nunique()"
   ]
  },
  {
   "cell_type": "markdown",
   "id": "7b1d9273",
   "metadata": {},
   "source": [
    "### Features (Inputs) and Target(s) (Output) "
   ]
  },
  {
   "cell_type": "code",
   "execution_count": 48,
   "id": "7dca53bb",
   "metadata": {},
   "outputs": [],
   "source": [
    "# features = ['school', 'gender', 'age', 'home address', 'parents cohabitation', 'moms education', 'dads education', 'moms job', 'dads job', 'choice reason', 'guardian', 'travel time', 'nursery education', 'higher education', 'significant other', 'household size', 'family relationship', 'free time', 'social activities', 'study time','failures', 'absences', 'health', 'weekday drinker', 'weekend drinker']\n",
    "# features = ['school', 'gender', 'age', 'home address', 'parents cohabitation', 'moms education', 'dads education', 'moms job', 'dads job', 'choice reason', 'guardian', 'travel time', 'nursery education', 'internet access', 'higher education', 'significant other', 'household size', 'family relationship', 'free time', 'social activities', 'study time', 'first periods grade', 'second periods grade', 'third periods grade','failures', 'absences', 'health'] \n",
    "# features = ['school', 'gender', 'age', 'home address', 'parents cohabitation', 'moms education', 'dads education', 'moms job', 'dads job', 'choice reason', 'guardian', 'travel time', 'nursery education', 'internet access', 'higher education', 'significant other', 'household size', 'family relationship', 'free time', 'social activities', 'study time','failures', 'absences', 'health'] \n",
    "features = encoded_df.columns\n",
    "features = features.drop(['heavy drinking', 'weekend drinking', 'weekday drinking', 'absences'])\n",
    "# features = list(features)\n",
    "output = 'heavy drinking'\n",
    "\n",
    "X = encoded_df[features]\n",
    "y = encoded_df[output]\n",
    "\n",
    "X_train, X_test, y_train, y_test = train_test_split(X, y, random_state=78)"
   ]
  },
  {
   "cell_type": "code",
   "execution_count": 49,
   "id": "1b299be8",
   "metadata": {},
   "outputs": [
    {
     "data": {
      "text/plain": [
       "79"
      ]
     },
     "execution_count": 49,
     "metadata": {},
     "output_type": "execute_result"
    }
   ],
   "source": [
    "len(features)"
   ]
  },
  {
   "cell_type": "markdown",
   "id": "a760fef5",
   "metadata": {},
   "source": [
    "### Utility Functions"
   ]
  },
  {
   "cell_type": "code",
   "execution_count": 94,
   "id": "98cae260",
   "metadata": {},
   "outputs": [],
   "source": [
    "def feature_rank(values, columns, sort=True):\n",
    "    \"\"\"\n",
    "    Pairs up feature names with their importance values\n",
    "    \n",
    "    Parameters\n",
    "        values (numpy.array): array of floats from model.feature_importances_\n",
    "        columns (list): list of column names from df.columns\n",
    "        sort (boolean): sort list \n",
    "    \n",
    "    Returns\n",
    "        list of tuples containing tuples of (column-name, importance-value)\n",
    "    \"\"\"\n",
    "    # creates an unordered list of tuple\n",
    "    ranks = [(x,y) for x, y in zip(columns, values)]\n",
    "    \n",
    "    if(sort):\n",
    "        # sorts in descending order\n",
    "        return sorted(ranks, key=lambda x: x[1], reverse=True)\n",
    "    else:\n",
    "        return ranks\n",
    "\n",
    "    \n",
    "def matrix_dataframe(arg):\n",
    "    return pd.DataFrame(data=arg, index=['Actual (Positive)', 'Actual (Negative)'], columns=['Predicted (True)', 'Predicted (False)'])\n"
   ]
  },
  {
   "cell_type": "markdown",
   "id": "ebec39bf",
   "metadata": {},
   "source": [
    "###  Data Scaled "
   ]
  },
  {
   "cell_type": "code",
   "execution_count": 50,
   "id": "4895b5e5",
   "metadata": {},
   "outputs": [],
   "source": [
    "scaler = StandardScaler()\n",
    "X_scaler = scaler.fit(X_train)\n",
    "X_train_scaled = X_scaler.transform(X_train)\n",
    "X_test_scaled = X_scaler.transform(X_test)"
   ]
  },
  {
   "cell_type": "markdown",
   "id": "c7604ecf",
   "metadata": {},
   "source": [
    "## Decision Tree Classifier"
   ]
  },
  {
   "cell_type": "code",
   "execution_count": 71,
   "id": "7e40013c",
   "metadata": {},
   "outputs": [
    {
     "data": {
      "text/plain": [
       "array([[-0.59802917,  0.88392374,  0.61380825, ..., -0.56652091,\n",
       "        -0.54681196, -0.31600531],\n",
       "       [ 1.67215923,  0.88392374,  0.61380825, ..., -0.56652091,\n",
       "        -0.54681196, -0.31600531],\n",
       "       [-0.59802917,  0.88392374,  0.61380825, ..., -0.56652091,\n",
       "         1.82878223, -0.31600531],\n",
       "       ...,\n",
       "       [-0.59802917,  0.88392374,  0.61380825, ...,  1.7651599 ,\n",
       "        -0.54681196, -0.31600531],\n",
       "       [-0.59802917, -1.13131931,  0.61380825, ..., -0.56652091,\n",
       "        -0.54681196, -0.31600531],\n",
       "       [-0.59802917, -1.13131931, -1.62917329, ...,  1.7651599 ,\n",
       "        -0.54681196, -0.31600531]])"
      ]
     },
     "execution_count": 71,
     "metadata": {},
     "output_type": "execute_result"
    }
   ],
   "source": [
    "dt_model = DecisionTreeClassifier()\n",
    "dt_model.fit(X_train_scaled, y_train)\n",
    "X_train_scaled"
   ]
  },
  {
   "cell_type": "markdown",
   "id": "32ee775e",
   "metadata": {},
   "source": [
    "### Predictions (Decision Tree Classifier)"
   ]
  },
  {
   "cell_type": "code",
   "execution_count": 72,
   "id": "3705f066",
   "metadata": {},
   "outputs": [
    {
     "data": {
      "text/plain": [
       "array([1, 1, 1, 1, 0, 0, 1, 0, 1, 1, 0, 0, 0, 1, 0, 0, 0, 1, 0, 0, 0, 1,\n",
       "       0, 1, 1, 0, 0, 1, 0, 0, 1, 0, 1, 0, 0, 0, 1, 0, 1, 0, 1, 0, 0, 1,\n",
       "       0, 0, 0, 1, 1, 1, 1, 0, 1, 1, 1, 1, 1, 1, 1, 0, 1, 0, 1, 1, 1, 0,\n",
       "       0, 0, 0, 1, 0, 1, 1, 0, 1, 1, 1, 1, 1, 0, 0, 1, 0, 0, 1, 0, 0, 1,\n",
       "       1, 1, 1, 1, 0, 0, 1, 0, 0, 1, 1, 0, 0, 1, 1, 0, 1, 0, 1, 0, 1, 1,\n",
       "       1, 1, 0, 0, 1, 1, 0, 1, 1, 0, 1, 0, 0, 0, 0, 1, 0, 1, 1, 0, 1, 0,\n",
       "       1, 1, 1, 0, 1, 0, 0, 1, 1, 0, 0, 1, 1, 0, 0, 1, 1, 1, 0, 0, 1, 0,\n",
       "       0, 0, 0, 0, 1, 1, 0, 0, 1, 0, 1, 0, 0, 0, 1, 0, 0, 1, 0, 1, 1, 0,\n",
       "       0, 0, 1, 0, 1, 0, 0, 1, 1, 0, 1, 1, 0, 0, 0, 0, 1, 1, 0, 1, 1, 0,\n",
       "       0, 1, 1, 0, 1, 0, 1, 1, 1, 1, 1, 1, 0, 1, 1, 1, 0, 1, 1, 0, 0, 0,\n",
       "       1, 0, 0, 0, 0, 0, 0, 1, 0, 0, 1, 0, 0, 0, 0, 0, 0, 0, 0, 0, 0, 1,\n",
       "       0, 0, 0, 0, 1, 1, 1, 1, 0, 1, 1, 0, 1, 1, 1, 1, 0, 0, 0],\n",
       "      dtype=int64)"
      ]
     },
     "execution_count": 72,
     "metadata": {},
     "output_type": "execute_result"
    }
   ],
   "source": [
    "dt_predictions = dt_model.predict(X_test_scaled)\n",
    "dt_predictions"
   ]
  },
  {
   "cell_type": "markdown",
   "id": "0b7f54fe",
   "metadata": {},
   "source": [
    "### The Predictive Accuracy (Decision Tree Classifier)"
   ]
  },
  {
   "cell_type": "code",
   "execution_count": 74,
   "id": "ed3a84f6",
   "metadata": {},
   "outputs": [
    {
     "data": {
      "text/plain": [
       "0.7471264367816092"
      ]
     },
     "execution_count": 74,
     "metadata": {},
     "output_type": "execute_result"
    }
   ],
   "source": [
    "dt_acc_score = accuracy_score(y_test, dt_predictions)\n",
    "dt_acc_score"
   ]
  },
  {
   "cell_type": "markdown",
   "id": "ab7a04b1",
   "metadata": {},
   "source": [
    "### Confusion Matrix (Decision Tree Classifier)"
   ]
  },
  {
   "cell_type": "code",
   "execution_count": 88,
   "id": "d4516d6d",
   "metadata": {},
   "outputs": [
    {
     "data": {
      "text/plain": [
       "array([[110,  42],\n",
       "       [ 24,  85]], dtype=int64)"
      ]
     },
     "execution_count": 88,
     "metadata": {},
     "output_type": "execute_result"
    }
   ],
   "source": [
    "dt_conf_mat = confusion_matrix(y_test, dt_predictions)\n",
    "dt_conf_mat"
   ]
  },
  {
   "cell_type": "code",
   "execution_count": 96,
   "id": "2cca90f0",
   "metadata": {},
   "outputs": [
    {
     "data": {
      "text/html": [
       "<div>\n",
       "<style scoped>\n",
       "    .dataframe tbody tr th:only-of-type {\n",
       "        vertical-align: middle;\n",
       "    }\n",
       "\n",
       "    .dataframe tbody tr th {\n",
       "        vertical-align: top;\n",
       "    }\n",
       "\n",
       "    .dataframe thead th {\n",
       "        text-align: right;\n",
       "    }\n",
       "</style>\n",
       "<table border=\"1\" class=\"dataframe\">\n",
       "  <thead>\n",
       "    <tr style=\"text-align: right;\">\n",
       "      <th></th>\n",
       "      <th>Predicted (True)</th>\n",
       "      <th>Predicted (False)</th>\n",
       "    </tr>\n",
       "  </thead>\n",
       "  <tbody>\n",
       "    <tr>\n",
       "      <th>Actual (Positive)</th>\n",
       "      <td>110</td>\n",
       "      <td>42</td>\n",
       "    </tr>\n",
       "    <tr>\n",
       "      <th>Actual (Negative)</th>\n",
       "      <td>24</td>\n",
       "      <td>85</td>\n",
       "    </tr>\n",
       "  </tbody>\n",
       "</table>\n",
       "</div>"
      ],
      "text/plain": [
       "                   Predicted (True)  Predicted (False)\n",
       "Actual (Positive)               110                 42\n",
       "Actual (Negative)                24                 85"
      ]
     },
     "execution_count": 96,
     "metadata": {},
     "output_type": "execute_result"
    }
   ],
   "source": [
    "matrix_dataframe(dt_conf_mat)"
   ]
  },
  {
   "cell_type": "markdown",
   "id": "0299e077",
   "metadata": {},
   "source": [
    "### Feature Importance Rank (Decision Tree Classifier)"
   ]
  },
  {
   "cell_type": "code",
   "execution_count": 76,
   "id": "d389b917",
   "metadata": {},
   "outputs": [
    {
     "data": {
      "text/plain": [
       "gender                   0.063431\n",
       "second periods grade     0.048261\n",
       "moms education_3         0.033588\n",
       "health_4                 0.032432\n",
       "social activities_2      0.029880\n",
       "dads job_3               0.029386\n",
       "moms job_4               0.028653\n",
       "guardian_0               0.026859\n",
       "dads job_4               0.025961\n",
       "dads education_2         0.023588\n",
       "nursery education        0.023275\n",
       "household size           0.022154\n",
       "age_17                   0.020979\n",
       "family relationship_5    0.020930\n",
       "failures_3               0.020717\n",
       "Name: feature importances, dtype: float64"
      ]
     },
     "execution_count": 76,
     "metadata": {},
     "output_type": "execute_result"
    }
   ],
   "source": [
    "ranks = feature_rank(dt_model.feature_importances_, features)\n",
    "pd.Series(data=dict(ranks), name='feature importances')[:15]  # Top 15"
   ]
  },
  {
   "cell_type": "markdown",
   "id": "2ad9324c",
   "metadata": {},
   "source": [
    "### Classification Report (Decision Tree Classifier)"
   ]
  },
  {
   "cell_type": "code",
   "execution_count": 79,
   "id": "b7406dec",
   "metadata": {},
   "outputs": [
    {
     "name": "stdout",
     "output_type": "stream",
     "text": [
      "              precision    recall  f1-score   support\n",
      "\n",
      "           0       0.82      0.72      0.77       152\n",
      "           1       0.67      0.78      0.72       109\n",
      "\n",
      "    accuracy                           0.75       261\n",
      "   macro avg       0.75      0.75      0.74       261\n",
      "weighted avg       0.76      0.75      0.75       261\n",
      "\n"
     ]
    }
   ],
   "source": [
    "print(classification_report(y_test, dt_predictions))"
   ]
  },
  {
   "cell_type": "markdown",
   "id": "f5009b06",
   "metadata": {},
   "source": [
    "## Random Forest Classifier"
   ]
  },
  {
   "cell_type": "code",
   "execution_count": 80,
   "id": "d062fd4b",
   "metadata": {},
   "outputs": [
    {
     "data": {
      "text/plain": [
       "array([[-0.59802917,  0.88392374,  0.61380825, ..., -0.56652091,\n",
       "        -0.54681196, -0.31600531],\n",
       "       [ 1.67215923,  0.88392374,  0.61380825, ..., -0.56652091,\n",
       "        -0.54681196, -0.31600531],\n",
       "       [-0.59802917,  0.88392374,  0.61380825, ..., -0.56652091,\n",
       "         1.82878223, -0.31600531],\n",
       "       ...,\n",
       "       [-0.59802917,  0.88392374,  0.61380825, ...,  1.7651599 ,\n",
       "        -0.54681196, -0.31600531],\n",
       "       [-0.59802917, -1.13131931,  0.61380825, ..., -0.56652091,\n",
       "        -0.54681196, -0.31600531],\n",
       "       [-0.59802917, -1.13131931, -1.62917329, ...,  1.7651599 ,\n",
       "        -0.54681196, -0.31600531]])"
      ]
     },
     "execution_count": 80,
     "metadata": {},
     "output_type": "execute_result"
    }
   ],
   "source": [
    "rf_model = RandomForestClassifier(n_estimators=128, random_state=25)\n",
    "rf_model.fit(X_train_scaled, y_train)\n",
    "X_train_scaled"
   ]
  },
  {
   "cell_type": "markdown",
   "id": "db9e4cb0",
   "metadata": {},
   "source": [
    "### Predictions (Random Forest Classifier)"
   ]
  },
  {
   "cell_type": "code",
   "execution_count": 81,
   "id": "47410cfd",
   "metadata": {},
   "outputs": [
    {
     "data": {
      "text/plain": [
       "array([0, 0, 0, 0, 1, 0, 1, 0, 0, 1, 0, 0, 0, 1, 0, 0, 0, 1, 1, 1, 0, 1,\n",
       "       1, 0, 1, 0, 0, 0, 0, 0, 1, 0, 1, 0, 1, 0, 1, 0, 1, 0, 1, 0, 0, 1,\n",
       "       1, 1, 0, 1, 0, 1, 1, 0, 1, 1, 1, 0, 0, 1, 0, 0, 0, 0, 0, 1, 1, 0,\n",
       "       0, 0, 0, 0, 0, 0, 1, 0, 1, 1, 1, 1, 0, 0, 0, 0, 0, 0, 1, 0, 0, 0,\n",
       "       0, 1, 0, 0, 0, 0, 0, 0, 0, 1, 0, 0, 0, 1, 1, 0, 0, 0, 0, 0, 1, 0,\n",
       "       0, 1, 0, 0, 0, 1, 0, 1, 0, 0, 1, 1, 0, 0, 0, 1, 0, 0, 1, 0, 0, 0,\n",
       "       1, 1, 1, 0, 1, 0, 0, 0, 0, 0, 0, 0, 1, 0, 0, 1, 0, 0, 0, 0, 0, 0,\n",
       "       0, 0, 0, 0, 1, 1, 0, 0, 1, 0, 1, 0, 0, 0, 0, 1, 1, 1, 0, 1, 1, 0,\n",
       "       0, 0, 1, 1, 1, 1, 0, 0, 0, 1, 1, 1, 0, 0, 0, 0, 0, 0, 0, 1, 0, 0,\n",
       "       0, 1, 0, 0, 0, 0, 1, 1, 1, 1, 1, 1, 0, 1, 1, 1, 1, 0, 1, 0, 0, 0,\n",
       "       0, 0, 0, 0, 0, 0, 0, 0, 0, 0, 0, 1, 0, 0, 0, 0, 1, 0, 0, 0, 1, 1,\n",
       "       0, 0, 0, 0, 1, 0, 1, 1, 0, 1, 1, 0, 1, 1, 1, 1, 0, 0, 0],\n",
       "      dtype=int64)"
      ]
     },
     "execution_count": 81,
     "metadata": {},
     "output_type": "execute_result"
    }
   ],
   "source": [
    "rf_predictions = rf_model.predict(X_test_scaled)\n",
    "rf_predictions"
   ]
  },
  {
   "cell_type": "markdown",
   "id": "57f37044",
   "metadata": {},
   "source": [
    "### The Predictive Accuracy (Random Forest Classifier)"
   ]
  },
  {
   "cell_type": "code",
   "execution_count": 82,
   "id": "b7f90c8d",
   "metadata": {},
   "outputs": [
    {
     "data": {
      "text/plain": [
       "0.8122605363984674"
      ]
     },
     "execution_count": 82,
     "metadata": {},
     "output_type": "execute_result"
    }
   ],
   "source": [
    "rf_acc_score = accuracy_score(y_test, rf_predictions)\n",
    "rf_acc_score"
   ]
  },
  {
   "cell_type": "markdown",
   "id": "e2444f20",
   "metadata": {},
   "source": [
    "### Confusion Matrix (Random Forest Classifier)"
   ]
  },
  {
   "cell_type": "code",
   "execution_count": 92,
   "id": "65999e39",
   "metadata": {},
   "outputs": [
    {
     "data": {
      "text/plain": [
       "array([[135,  17],\n",
       "       [ 32,  77]], dtype=int64)"
      ]
     },
     "execution_count": 92,
     "metadata": {},
     "output_type": "execute_result"
    }
   ],
   "source": [
    "rf_conf_mat = confusion_matrix(y_test, rf_predictions)\n",
    "rf_conf_mat"
   ]
  },
  {
   "cell_type": "code",
   "execution_count": 97,
   "id": "ce7b47bd",
   "metadata": {},
   "outputs": [
    {
     "data": {
      "text/html": [
       "<div>\n",
       "<style scoped>\n",
       "    .dataframe tbody tr th:only-of-type {\n",
       "        vertical-align: middle;\n",
       "    }\n",
       "\n",
       "    .dataframe tbody tr th {\n",
       "        vertical-align: top;\n",
       "    }\n",
       "\n",
       "    .dataframe thead th {\n",
       "        text-align: right;\n",
       "    }\n",
       "</style>\n",
       "<table border=\"1\" class=\"dataframe\">\n",
       "  <thead>\n",
       "    <tr style=\"text-align: right;\">\n",
       "      <th></th>\n",
       "      <th>Predicted (True)</th>\n",
       "      <th>Predicted (False)</th>\n",
       "    </tr>\n",
       "  </thead>\n",
       "  <tbody>\n",
       "    <tr>\n",
       "      <th>Actual (Positive)</th>\n",
       "      <td>135</td>\n",
       "      <td>17</td>\n",
       "    </tr>\n",
       "    <tr>\n",
       "      <th>Actual (Negative)</th>\n",
       "      <td>32</td>\n",
       "      <td>77</td>\n",
       "    </tr>\n",
       "  </tbody>\n",
       "</table>\n",
       "</div>"
      ],
      "text/plain": [
       "                   Predicted (True)  Predicted (False)\n",
       "Actual (Positive)               135                 17\n",
       "Actual (Negative)                32                 77"
      ]
     },
     "execution_count": 97,
     "metadata": {},
     "output_type": "execute_result"
    }
   ],
   "source": [
    "matrix_dataframe(rf_conf_mat)"
   ]
  },
  {
   "cell_type": "markdown",
   "id": "e28c081a",
   "metadata": {},
   "source": [
    "### Feature Importance Rank (Random Forest Classifier)"
   ]
  },
  {
   "cell_type": "code",
   "execution_count": 84,
   "id": "fd128593",
   "metadata": {},
   "outputs": [
    {
     "data": {
      "text/plain": [
       "gender                   0.050128\n",
       "significant other        0.020476\n",
       "household size           0.020323\n",
       "free time_3              0.019587\n",
       "study time_2             0.018834\n",
       "choice reason_0          0.018816\n",
       "nursery education        0.018690\n",
       "second periods grade     0.018165\n",
       "health_5                 0.017713\n",
       "home address             0.017705\n",
       "family relationship_4    0.017614\n",
       "social activities_3      0.017598\n",
       "moms job_4               0.017511\n",
       "dads education_2         0.016913\n",
       "free time_4              0.016836\n",
       "Name: feature importances, dtype: float64"
      ]
     },
     "execution_count": 84,
     "metadata": {},
     "output_type": "execute_result"
    }
   ],
   "source": [
    "ranks = feature_rank(rf_model.feature_importances_, features)\n",
    "pd.Series(dict(ranks), name='feature importances')[:15]"
   ]
  },
  {
   "cell_type": "markdown",
   "id": "e429ac51",
   "metadata": {},
   "source": [
    "### Classification Report (Random Forest Classifier)"
   ]
  },
  {
   "cell_type": "code",
   "execution_count": 99,
   "id": "44268980",
   "metadata": {},
   "outputs": [
    {
     "name": "stdout",
     "output_type": "stream",
     "text": [
      "              precision    recall  f1-score   support\n",
      "\n",
      "           0       0.81      0.89      0.85       152\n",
      "           1       0.82      0.71      0.76       109\n",
      "\n",
      "    accuracy                           0.81       261\n",
      "   macro avg       0.81      0.80      0.80       261\n",
      "weighted avg       0.81      0.81      0.81       261\n",
      "\n"
     ]
    }
   ],
   "source": [
    "print(classification_report(y_test, rf_predictions))"
   ]
  },
  {
   "cell_type": "markdown",
   "id": "61c4e1fc",
   "metadata": {},
   "source": [
    "## Neural Network"
   ]
  },
  {
   "cell_type": "code",
   "execution_count": 24,
   "id": "63c27c39",
   "metadata": {},
   "outputs": [
    {
     "name": "stdout",
     "output_type": "stream",
     "text": [
      "Epoch 1/50\n",
      "25/25 [==============================] - 2s 4ms/step - loss: 0.6977 - accuracy: 0.5256\n",
      "Epoch 2/50\n",
      "25/25 [==============================] - 0s 3ms/step - loss: 0.6653 - accuracy: 0.5959\n",
      "Epoch 3/50\n",
      "25/25 [==============================] - 0s 3ms/step - loss: 0.6438 - accuracy: 0.6445\n",
      "Epoch 4/50\n",
      "25/25 [==============================] - 0s 4ms/step - loss: 0.6246 - accuracy: 0.6675\n",
      "Epoch 5/50\n",
      "25/25 [==============================] - 0s 4ms/step - loss: 0.6062 - accuracy: 0.6944\n",
      "Epoch 6/50\n",
      "25/25 [==============================] - 0s 4ms/step - loss: 0.5866 - accuracy: 0.7046\n",
      "Epoch 7/50\n",
      "25/25 [==============================] - 0s 4ms/step - loss: 0.5664 - accuracy: 0.7340\n",
      "Epoch 8/50\n",
      "25/25 [==============================] - 0s 4ms/step - loss: 0.5467 - accuracy: 0.7442\n",
      "Epoch 9/50\n",
      "25/25 [==============================] - 0s 4ms/step - loss: 0.5273 - accuracy: 0.7545\n",
      "Epoch 10/50\n",
      "25/25 [==============================] - 0s 3ms/step - loss: 0.5081 - accuracy: 0.7685\n",
      "Epoch 11/50\n",
      "25/25 [==============================] - 0s 3ms/step - loss: 0.4884 - accuracy: 0.7852\n",
      "Epoch 12/50\n",
      "25/25 [==============================] - 0s 4ms/step - loss: 0.4698 - accuracy: 0.8005\n",
      "Epoch 13/50\n",
      "25/25 [==============================] - 0s 3ms/step - loss: 0.4512 - accuracy: 0.8159\n",
      "Epoch 14/50\n",
      "25/25 [==============================] - 0s 4ms/step - loss: 0.4322 - accuracy: 0.8248\n",
      "Epoch 15/50\n",
      "25/25 [==============================] - 0s 4ms/step - loss: 0.4152 - accuracy: 0.8402\n",
      "Epoch 16/50\n",
      "25/25 [==============================] - 0s 4ms/step - loss: 0.3955 - accuracy: 0.8453\n",
      "Epoch 17/50\n",
      "25/25 [==============================] - 0s 4ms/step - loss: 0.3788 - accuracy: 0.8593\n",
      "Epoch 18/50\n",
      "25/25 [==============================] - 0s 4ms/step - loss: 0.3597 - accuracy: 0.8721\n",
      "Epoch 19/50\n",
      "25/25 [==============================] - 0s 4ms/step - loss: 0.3426 - accuracy: 0.8772\n",
      "Epoch 20/50\n",
      "25/25 [==============================] - 0s 4ms/step - loss: 0.3254 - accuracy: 0.8951\n",
      "Epoch 21/50\n",
      "25/25 [==============================] - 0s 3ms/step - loss: 0.3081 - accuracy: 0.8951\n",
      "Epoch 22/50\n",
      "25/25 [==============================] - 0s 3ms/step - loss: 0.2931 - accuracy: 0.9028\n",
      "Epoch 23/50\n",
      "25/25 [==============================] - 0s 4ms/step - loss: 0.2763 - accuracy: 0.9066\n",
      "Epoch 24/50\n",
      "25/25 [==============================] - 0s 4ms/step - loss: 0.2619 - accuracy: 0.9105\n",
      "Epoch 25/50\n",
      "25/25 [==============================] - 0s 4ms/step - loss: 0.2474 - accuracy: 0.9169\n",
      "Epoch 26/50\n",
      "25/25 [==============================] - 0s 4ms/step - loss: 0.2333 - accuracy: 0.9258\n",
      "Epoch 27/50\n",
      "25/25 [==============================] - 0s 4ms/step - loss: 0.2195 - accuracy: 0.9348\n",
      "Epoch 28/50\n",
      "25/25 [==============================] - 0s 4ms/step - loss: 0.2071 - accuracy: 0.9373\n",
      "Epoch 29/50\n",
      "25/25 [==============================] - 0s 4ms/step - loss: 0.1959 - accuracy: 0.9437\n",
      "Epoch 30/50\n",
      "25/25 [==============================] - 0s 4ms/step - loss: 0.1840 - accuracy: 0.9540\n",
      "Epoch 31/50\n",
      "25/25 [==============================] - 0s 4ms/step - loss: 0.1710 - accuracy: 0.9565\n",
      "Epoch 32/50\n",
      "25/25 [==============================] - 0s 4ms/step - loss: 0.1616 - accuracy: 0.9642\n",
      "Epoch 33/50\n",
      "25/25 [==============================] - 0s 4ms/step - loss: 0.1493 - accuracy: 0.9680\n",
      "Epoch 34/50\n",
      "25/25 [==============================] - 0s 4ms/step - loss: 0.1398 - accuracy: 0.9719\n",
      "Epoch 35/50\n",
      "25/25 [==============================] - 0s 4ms/step - loss: 0.1310 - accuracy: 0.9719\n",
      "Epoch 36/50\n",
      "25/25 [==============================] - 0s 3ms/step - loss: 0.1211 - accuracy: 0.9757\n",
      "Epoch 37/50\n",
      "25/25 [==============================] - 0s 4ms/step - loss: 0.1138 - accuracy: 0.9795\n",
      "Epoch 38/50\n",
      "25/25 [==============================] - 0s 4ms/step - loss: 0.1056 - accuracy: 0.9847\n",
      "Epoch 39/50\n",
      "25/25 [==============================] - 0s 4ms/step - loss: 0.0985 - accuracy: 0.9859\n",
      "Epoch 40/50\n",
      "25/25 [==============================] - 0s 4ms/step - loss: 0.0917 - accuracy: 0.9885\n",
      "Epoch 41/50\n",
      "25/25 [==============================] - 0s 4ms/step - loss: 0.0854 - accuracy: 0.9936\n",
      "Epoch 42/50\n",
      "25/25 [==============================] - 0s 3ms/step - loss: 0.0790 - accuracy: 0.9923\n",
      "Epoch 43/50\n",
      "25/25 [==============================] - 0s 4ms/step - loss: 0.0730 - accuracy: 0.9949\n",
      "Epoch 44/50\n",
      "25/25 [==============================] - 0s 3ms/step - loss: 0.0688 - accuracy: 0.9936\n",
      "Epoch 45/50\n",
      "25/25 [==============================] - 0s 4ms/step - loss: 0.0638 - accuracy: 0.9949\n",
      "Epoch 46/50\n",
      "25/25 [==============================] - 0s 4ms/step - loss: 0.0609 - accuracy: 0.9949\n",
      "Epoch 47/50\n",
      "25/25 [==============================] - 0s 3ms/step - loss: 0.0562 - accuracy: 0.9949\n",
      "Epoch 48/50\n",
      "25/25 [==============================] - 0s 4ms/step - loss: 0.0524 - accuracy: 0.9962\n",
      "Epoch 49/50\n",
      "25/25 [==============================] - 0s 4ms/step - loss: 0.0493 - accuracy: 0.9962\n",
      "Epoch 50/50\n",
      "25/25 [==============================] - 0s 4ms/step - loss: 0.0468 - accuracy: 0.9949\n",
      "9/9 - 1s - loss: 0.9394 - accuracy: 0.7471 - 505ms/epoch - 56ms/step\n",
      "The model loss is 0.939359724521637 and the accuracy is 0.7471264600753784\n"
     ]
    }
   ],
   "source": [
    "# define the model\n",
    "\n",
    "num_input_features = len(X_train_scaled[0])\n",
    "hidden_nodes_layer_1 = 24\n",
    "hidden_nodes_layer_2 = 12\n",
    "\n",
    "nn = tf.keras.models.Sequential()\n",
    "\n",
    "# first hidden layer\n",
    "nn.add(tf.keras.layers.Dense(units=hidden_nodes_layer_1, input_dim=num_input_features, activation='relu'))\n",
    "\n",
    "# second hidden layer\n",
    "nn.add(tf.keras.layers.Dense(units=hidden_nodes_layer_2, activation='relu'))\n",
    "\n",
    "# outer layer\n",
    "nn.add(tf.keras.layers.Dense(units=1, activation='sigmoid'))\n",
    "\n",
    "nn.compile(loss='binary_crossentropy', optimizer='adam', metrics=['accuracy'])\n",
    "\n",
    "fit_model = nn.fit(X_train_scaled, y_train, epochs=50)\n",
    "\n",
    "model_loss, model_accuracy = nn.evaluate(X_test_scaled, y_test, verbose=2)\n",
    "\n",
    "print(f'The model loss is {model_loss} and the accuracy is {model_accuracy}')"
   ]
  },
  {
   "cell_type": "markdown",
   "id": "e5d610e4",
   "metadata": {},
   "source": [
    "### Summary (Neural Network)"
   ]
  },
  {
   "cell_type": "code",
   "execution_count": 101,
   "id": "5d4e010a",
   "metadata": {},
   "outputs": [
    {
     "name": "stdout",
     "output_type": "stream",
     "text": [
      "Model: \"sequential\"\n",
      "_________________________________________________________________\n",
      " Layer (type)                Output Shape              Param #   \n",
      "=================================================================\n",
      " dense (Dense)               (None, 24)                1920      \n",
      "                                                                 \n",
      " dense_1 (Dense)             (None, 12)                300       \n",
      "                                                                 \n",
      " dense_2 (Dense)             (None, 1)                 13        \n",
      "                                                                 \n",
      "=================================================================\n",
      "Total params: 2,233\n",
      "Trainable params: 2,233\n",
      "Non-trainable params: 0\n",
      "_________________________________________________________________\n"
     ]
    }
   ],
   "source": [
    "nn.summary()"
   ]
  },
  {
   "cell_type": "markdown",
   "id": "2befb018",
   "metadata": {},
   "source": [
    "## Charts"
   ]
  },
  {
   "cell_type": "code",
   "execution_count": 25,
   "id": "5a7e0a21",
   "metadata": {},
   "outputs": [],
   "source": [
    "import matplotlib.pyplot as plt\n",
    "%matplotlib inline"
   ]
  },
  {
   "cell_type": "code",
   "execution_count": 26,
   "id": "19e8b854",
   "metadata": {},
   "outputs": [
    {
     "data": {
      "image/png": "[encoded data removed]",
      "text/plain": [
       "<Figure size 432x288 with 1 Axes>"
      ]
     },
     "metadata": {
      "needs_background": "light"
     },
     "output_type": "display_data"
    }
   ],
   "source": [
    "plt.scatter( df['absences'], df['age'])\n",
    "plt.ylabel('Age')\n",
    "plt.xlabel('Absences')\n",
    "plt.show()"
   ]
  },
  {
   "cell_type": "code",
   "execution_count": 27,
   "id": "f3e74766",
   "metadata": {},
   "outputs": [
    {
     "data": {
      "image/png": "[encoded data removed]",
      "text/plain": [
       "<Figure size 432x288 with 1 Axes>"
      ]
     },
     "metadata": {
      "needs_background": "light"
     },
     "output_type": "display_data"
    }
   ],
   "source": [
    "plt.scatter( X_test_scaled[:, 4], X_test_scaled[:, 1], c=y_test)\n",
    "plt.suptitle('Predictions')\n",
    "plt.show()\n"
   ]
  },
  {
   "cell_type": "markdown",
   "id": "c8fd0034",
   "metadata": {},
   "source": [
    "### Predictions\n",
    " - The purple dots represent drinkers predictions\n",
    " - The yellow dots represent non-drinkers predictions\n",
    " \n",
    "#### The drinker section is on the right hand side and the non-drinker section is on the left hand side\n",
    " - The **lone yellow dot** (false drinker prediction) on the right hand side is a **false positive**\n",
    " - The **2 purple dots** (false non-drinker prediction) on the left hand side are **false negatives**"
   ]
  }
 ],
 "metadata": {
  "kernelspec": {
   "display_name": "mlenv",
   "language": "python",
   "name": "mlenv"
  },
  "language_info": {
   "codemirror_mode": {
    "name": "ipython",
    "version": 3
   },
   "file_extension": ".py",
   "mimetype": "text/x-python",
   "name": "python",
   "nbconvert_exporter": "python",
   "pygments_lexer": "ipython3",
   "version": "3.9.5"
  }
 },
 "nbformat": 4,
 "nbformat_minor": 5
}
