{
 "cells": [
  {
   "cell_type": "code",
   "execution_count": 1,
   "id": "597fcbba",
   "metadata": {},
   "outputs": [],
   "source": [
    "import pandas as pd\n",
    "import numpy as np\n",
    "import sqlite3"
   ]
  },
  {
   "cell_type": "markdown",
   "id": "365f98e5",
   "metadata": {},
   "source": [
    "## Database Access and Data Retrieval"
   ]
  },
  {
   "cell_type": "code",
   "execution_count": 2,
   "id": "c30fd560",
   "metadata": {},
   "outputs": [],
   "source": [
    "conn = sqlite3.connect('../res/data/tables.sql')\n",
    "cursor = conn.cursor()"
   ]
  },
  {
   "cell_type": "code",
   "execution_count": 3,
   "id": "7c20f5db",
   "metadata": {},
   "outputs": [],
   "source": [
    "# # ['id', 'school', 'gender', 'age', 'home address', 'parents cohabitation', 'moms education', 'dads education', 'moms job', 'dads job', 'choice reason', 'guardian', 'travel time', 'nursery education', 'internet access', 'higher education', 'significant other', 'household size', 'family relationship', 'free time', 'social activities', 'study time', 'first periods grade', 'second periods grade', 'third periods grade','failures', 'absences', 'health', 'weekday drinker', 'weekend drinker', 'drinker']\n",
    " \n",
    "cursor.execute('''\n",
    "SELECT profile_encoded.id, school, gender, age, \"home address\", \"parents cohabitation\", \n",
    "\"moms education\", \"dads education\", \"moms job\", \"dads job\", \"choice reason\", \n",
    "guardian, \"travel time\", \"nursery education\", \"internet access\", \"higher education\",\n",
    "\"significant other\", \"household size\", \"family relationship\", \"free time\",\n",
    "\"social activities\", \"study time\", \"first periods grade\", \"second periods grade\",\n",
    "\"third periods grade\", failures, absences, health, \"weekday drinking\",\n",
    "\"weekend drinking\", \"heavy drinking\"\n",
    "FROM profile_encoded\n",
    "JOIN activities_encoded\n",
    "ON profile_encoded.id = activities_encoded.id\n",
    "''')\n",
    "\n",
    "rows = cursor.fetchall()\n",
    "description = cursor.description\n",
    "conn.close()"
   ]
  },
  {
   "cell_type": "code",
   "execution_count": 4,
   "id": "399262f3",
   "metadata": {},
   "outputs": [
    {
     "data": {
      "text/plain": [
       "(('id', None, None, None, None, None, None),\n",
       " ('school', None, None, None, None, None, None),\n",
       " ('gender', None, None, None, None, None, None))"
      ]
     },
     "execution_count": 4,
     "metadata": {},
     "output_type": "execute_result"
    }
   ],
   "source": [
    "# description is a tuple of tuples and we only need the first item in each tuple\n",
    "# lambda x: x[0] returns the first item of any list, tuple or iterable\n",
    "description[:3]"
   ]
  },
  {
   "cell_type": "code",
   "execution_count": 5,
   "id": "3aa80f7e",
   "metadata": {},
   "outputs": [
    {
     "data": {
      "text/html": [
       "<div>\n",
       "<style scoped>\n",
       "    .dataframe tbody tr th:only-of-type {\n",
       "        vertical-align: middle;\n",
       "    }\n",
       "\n",
       "    .dataframe tbody tr th {\n",
       "        vertical-align: top;\n",
       "    }\n",
       "\n",
       "    .dataframe thead th {\n",
       "        text-align: right;\n",
       "    }\n",
       "</style>\n",
       "<table border=\"1\" class=\"dataframe\">\n",
       "  <thead>\n",
       "    <tr style=\"text-align: right;\">\n",
       "      <th></th>\n",
       "      <th>school</th>\n",
       "      <th>gender</th>\n",
       "      <th>age</th>\n",
       "      <th>home address</th>\n",
       "      <th>parents cohabitation</th>\n",
       "      <th>moms education</th>\n",
       "      <th>dads education</th>\n",
       "      <th>moms job</th>\n",
       "      <th>dads job</th>\n",
       "      <th>choice reason</th>\n",
       "      <th>...</th>\n",
       "      <th>study time</th>\n",
       "      <th>first periods grade</th>\n",
       "      <th>second periods grade</th>\n",
       "      <th>third periods grade</th>\n",
       "      <th>failures</th>\n",
       "      <th>absences</th>\n",
       "      <th>health</th>\n",
       "      <th>weekday drinking</th>\n",
       "      <th>weekend drinking</th>\n",
       "      <th>heavy drinking</th>\n",
       "    </tr>\n",
       "    <tr>\n",
       "      <th>id</th>\n",
       "      <th></th>\n",
       "      <th></th>\n",
       "      <th></th>\n",
       "      <th></th>\n",
       "      <th></th>\n",
       "      <th></th>\n",
       "      <th></th>\n",
       "      <th></th>\n",
       "      <th></th>\n",
       "      <th></th>\n",
       "      <th></th>\n",
       "      <th></th>\n",
       "      <th></th>\n",
       "      <th></th>\n",
       "      <th></th>\n",
       "      <th></th>\n",
       "      <th></th>\n",
       "      <th></th>\n",
       "      <th></th>\n",
       "      <th></th>\n",
       "      <th></th>\n",
       "    </tr>\n",
       "  </thead>\n",
       "  <tbody>\n",
       "    <tr>\n",
       "      <th>1</th>\n",
       "      <td>0</td>\n",
       "      <td>1</td>\n",
       "      <td>18</td>\n",
       "      <td>1</td>\n",
       "      <td>0</td>\n",
       "      <td>4</td>\n",
       "      <td>4</td>\n",
       "      <td>0</td>\n",
       "      <td>2</td>\n",
       "      <td>0</td>\n",
       "      <td>...</td>\n",
       "      <td>2</td>\n",
       "      <td>0</td>\n",
       "      <td>0</td>\n",
       "      <td>0</td>\n",
       "      <td>0</td>\n",
       "      <td>6</td>\n",
       "      <td>3</td>\n",
       "      <td>1</td>\n",
       "      <td>1</td>\n",
       "      <td>0</td>\n",
       "    </tr>\n",
       "    <tr>\n",
       "      <th>2</th>\n",
       "      <td>0</td>\n",
       "      <td>1</td>\n",
       "      <td>17</td>\n",
       "      <td>1</td>\n",
       "      <td>1</td>\n",
       "      <td>1</td>\n",
       "      <td>1</td>\n",
       "      <td>0</td>\n",
       "      <td>4</td>\n",
       "      <td>0</td>\n",
       "      <td>...</td>\n",
       "      <td>2</td>\n",
       "      <td>0</td>\n",
       "      <td>0</td>\n",
       "      <td>0</td>\n",
       "      <td>0</td>\n",
       "      <td>4</td>\n",
       "      <td>3</td>\n",
       "      <td>1</td>\n",
       "      <td>1</td>\n",
       "      <td>0</td>\n",
       "    </tr>\n",
       "    <tr>\n",
       "      <th>3</th>\n",
       "      <td>0</td>\n",
       "      <td>1</td>\n",
       "      <td>15</td>\n",
       "      <td>1</td>\n",
       "      <td>1</td>\n",
       "      <td>1</td>\n",
       "      <td>1</td>\n",
       "      <td>0</td>\n",
       "      <td>4</td>\n",
       "      <td>4</td>\n",
       "      <td>...</td>\n",
       "      <td>2</td>\n",
       "      <td>0</td>\n",
       "      <td>0</td>\n",
       "      <td>1</td>\n",
       "      <td>3</td>\n",
       "      <td>10</td>\n",
       "      <td>3</td>\n",
       "      <td>2</td>\n",
       "      <td>3</td>\n",
       "      <td>1</td>\n",
       "    </tr>\n",
       "    <tr>\n",
       "      <th>4</th>\n",
       "      <td>0</td>\n",
       "      <td>1</td>\n",
       "      <td>15</td>\n",
       "      <td>1</td>\n",
       "      <td>1</td>\n",
       "      <td>4</td>\n",
       "      <td>2</td>\n",
       "      <td>1</td>\n",
       "      <td>3</td>\n",
       "      <td>1</td>\n",
       "      <td>...</td>\n",
       "      <td>3</td>\n",
       "      <td>1</td>\n",
       "      <td>1</td>\n",
       "      <td>1</td>\n",
       "      <td>0</td>\n",
       "      <td>2</td>\n",
       "      <td>5</td>\n",
       "      <td>1</td>\n",
       "      <td>1</td>\n",
       "      <td>0</td>\n",
       "    </tr>\n",
       "    <tr>\n",
       "      <th>5</th>\n",
       "      <td>0</td>\n",
       "      <td>1</td>\n",
       "      <td>16</td>\n",
       "      <td>1</td>\n",
       "      <td>1</td>\n",
       "      <td>3</td>\n",
       "      <td>3</td>\n",
       "      <td>4</td>\n",
       "      <td>4</td>\n",
       "      <td>1</td>\n",
       "      <td>...</td>\n",
       "      <td>2</td>\n",
       "      <td>0</td>\n",
       "      <td>1</td>\n",
       "      <td>1</td>\n",
       "      <td>0</td>\n",
       "      <td>4</td>\n",
       "      <td>5</td>\n",
       "      <td>1</td>\n",
       "      <td>2</td>\n",
       "      <td>0</td>\n",
       "    </tr>\n",
       "  </tbody>\n",
       "</table>\n",
       "<p>5 rows × 30 columns</p>\n",
       "</div>"
      ],
      "text/plain": [
       "    school  gender  age  home address  parents cohabitation  moms education  \\\n",
       "id                                                                            \n",
       "1        0       1   18             1                     0               4   \n",
       "2        0       1   17             1                     1               1   \n",
       "3        0       1   15             1                     1               1   \n",
       "4        0       1   15             1                     1               4   \n",
       "5        0       1   16             1                     1               3   \n",
       "\n",
       "    dads education  moms job  dads job  choice reason  ...  study time  \\\n",
       "id                                                     ...               \n",
       "1                4         0         2              0  ...           2   \n",
       "2                1         0         4              0  ...           2   \n",
       "3                1         0         4              4  ...           2   \n",
       "4                2         1         3              1  ...           3   \n",
       "5                3         4         4              1  ...           2   \n",
       "\n",
       "    first periods grade  second periods grade  third periods grade  failures  \\\n",
       "id                                                                             \n",
       "1                     0                     0                    0         0   \n",
       "2                     0                     0                    0         0   \n",
       "3                     0                     0                    1         3   \n",
       "4                     1                     1                    1         0   \n",
       "5                     0                     1                    1         0   \n",
       "\n",
       "    absences  health  weekday drinking  weekend drinking  heavy drinking  \n",
       "id                                                                        \n",
       "1          6       3                 1                 1               0  \n",
       "2          4       3                 1                 1               0  \n",
       "3         10       3                 2                 3               1  \n",
       "4          2       5                 1                 1               0  \n",
       "5          4       5                 1                 2               0  \n",
       "\n",
       "[5 rows x 30 columns]"
      ]
     },
     "execution_count": 5,
     "metadata": {},
     "output_type": "execute_result"
    }
   ],
   "source": [
    "df = pd.DataFrame(data=rows, columns=map(lambda x: x[0], description))\n",
    "df = df.set_index('id')\n",
    "df[:5]"
   ]
  },
  {
   "cell_type": "markdown",
   "id": "f44ea9b8",
   "metadata": {},
   "source": [
    "#### The Number of Unique Values of Each Column"
   ]
  },
  {
   "cell_type": "code",
   "execution_count": 6,
   "id": "e49ea495",
   "metadata": {},
   "outputs": [
    {
     "data": {
      "text/plain": [
       "school                   2\n",
       "gender                   2\n",
       "age                      8\n",
       "home address             2\n",
       "parents cohabitation     2\n",
       "moms education           5\n",
       "dads education           5\n",
       "moms job                 5\n",
       "dads job                 5\n",
       "choice reason            4\n",
       "guardian                 3\n",
       "travel time              4\n",
       "nursery education        2\n",
       "internet access          2\n",
       "higher education         2\n",
       "significant other        2\n",
       "household size           2\n",
       "family relationship      5\n",
       "free time                5\n",
       "social activities        5\n",
       "study time               4\n",
       "first periods grade      2\n",
       "second periods grade     2\n",
       "third periods grade      2\n",
       "failures                 4\n",
       "absences                35\n",
       "health                   5\n",
       "weekday drinking         5\n",
       "weekend drinking         5\n",
       "heavy drinking           2\n",
       "dtype: int64"
      ]
     },
     "execution_count": 6,
     "metadata": {},
     "output_type": "execute_result"
    }
   ],
   "source": [
    "df.nunique()"
   ]
  },
  {
   "cell_type": "markdown",
   "id": "f6100704",
   "metadata": {},
   "source": [
    "## Data Modeling"
   ]
  },
  {
   "cell_type": "code",
   "execution_count": 7,
   "id": "6745b6d2",
   "metadata": {},
   "outputs": [],
   "source": [
    "from sklearn.ensemble import RandomForestClassifier\n",
    "from sklearn.model_selection import train_test_split\n",
    "from sklearn.preprocessing import StandardScaler\n",
    "from sklearn.preprocessing import MinMaxScaler\n",
    "from sklearn.preprocessing import OneHotEncoder\n",
    "from sklearn.tree import DecisionTreeClassifier\n",
    "from sklearn.metrics import accuracy_score\n",
    "from sklearn.metrics import confusion_matrix\n",
    "from sklearn.metrics import classification_report\n",
    "import tensorflow as tf"
   ]
  },
  {
   "cell_type": "markdown",
   "id": "e6a0d6b5",
   "metadata": {},
   "source": [
    "### Data Preparation"
   ]
  },
  {
   "cell_type": "code",
   "execution_count": 8,
   "id": "f2ae137e",
   "metadata": {},
   "outputs": [
    {
     "data": {
      "text/html": [
       "<div>\n",
       "<style scoped>\n",
       "    .dataframe tbody tr th:only-of-type {\n",
       "        vertical-align: middle;\n",
       "    }\n",
       "\n",
       "    .dataframe tbody tr th {\n",
       "        vertical-align: top;\n",
       "    }\n",
       "\n",
       "    .dataframe thead th {\n",
       "        text-align: right;\n",
       "    }\n",
       "</style>\n",
       "<table border=\"1\" class=\"dataframe\">\n",
       "  <thead>\n",
       "    <tr style=\"text-align: right;\">\n",
       "      <th></th>\n",
       "      <th>age</th>\n",
       "      <th>guardian</th>\n",
       "      <th>failures</th>\n",
       "      <th>free time</th>\n",
       "      <th>travel time</th>\n",
       "      <th>social activities</th>\n",
       "      <th>study time</th>\n",
       "      <th>health</th>\n",
       "      <th>family relationship</th>\n",
       "      <th>moms job</th>\n",
       "      <th>dads job</th>\n",
       "      <th>moms education</th>\n",
       "      <th>dads education</th>\n",
       "      <th>choice reason</th>\n",
       "      <th>absences</th>\n",
       "    </tr>\n",
       "    <tr>\n",
       "      <th>id</th>\n",
       "      <th></th>\n",
       "      <th></th>\n",
       "      <th></th>\n",
       "      <th></th>\n",
       "      <th></th>\n",
       "      <th></th>\n",
       "      <th></th>\n",
       "      <th></th>\n",
       "      <th></th>\n",
       "      <th></th>\n",
       "      <th></th>\n",
       "      <th></th>\n",
       "      <th></th>\n",
       "      <th></th>\n",
       "      <th></th>\n",
       "    </tr>\n",
       "  </thead>\n",
       "  <tbody>\n",
       "    <tr>\n",
       "      <th>1</th>\n",
       "      <td>18</td>\n",
       "      <td>0</td>\n",
       "      <td>0</td>\n",
       "      <td>3</td>\n",
       "      <td>2</td>\n",
       "      <td>4</td>\n",
       "      <td>2</td>\n",
       "      <td>3</td>\n",
       "      <td>4</td>\n",
       "      <td>0</td>\n",
       "      <td>2</td>\n",
       "      <td>4</td>\n",
       "      <td>4</td>\n",
       "      <td>0</td>\n",
       "      <td>6</td>\n",
       "    </tr>\n",
       "    <tr>\n",
       "      <th>2</th>\n",
       "      <td>17</td>\n",
       "      <td>1</td>\n",
       "      <td>0</td>\n",
       "      <td>3</td>\n",
       "      <td>1</td>\n",
       "      <td>3</td>\n",
       "      <td>2</td>\n",
       "      <td>3</td>\n",
       "      <td>5</td>\n",
       "      <td>0</td>\n",
       "      <td>4</td>\n",
       "      <td>1</td>\n",
       "      <td>1</td>\n",
       "      <td>0</td>\n",
       "      <td>4</td>\n",
       "    </tr>\n",
       "    <tr>\n",
       "      <th>3</th>\n",
       "      <td>15</td>\n",
       "      <td>0</td>\n",
       "      <td>3</td>\n",
       "      <td>3</td>\n",
       "      <td>1</td>\n",
       "      <td>2</td>\n",
       "      <td>2</td>\n",
       "      <td>3</td>\n",
       "      <td>4</td>\n",
       "      <td>0</td>\n",
       "      <td>4</td>\n",
       "      <td>1</td>\n",
       "      <td>1</td>\n",
       "      <td>4</td>\n",
       "      <td>10</td>\n",
       "    </tr>\n",
       "    <tr>\n",
       "      <th>4</th>\n",
       "      <td>15</td>\n",
       "      <td>0</td>\n",
       "      <td>0</td>\n",
       "      <td>2</td>\n",
       "      <td>1</td>\n",
       "      <td>2</td>\n",
       "      <td>3</td>\n",
       "      <td>5</td>\n",
       "      <td>3</td>\n",
       "      <td>1</td>\n",
       "      <td>3</td>\n",
       "      <td>4</td>\n",
       "      <td>2</td>\n",
       "      <td>1</td>\n",
       "      <td>2</td>\n",
       "    </tr>\n",
       "    <tr>\n",
       "      <th>5</th>\n",
       "      <td>16</td>\n",
       "      <td>1</td>\n",
       "      <td>0</td>\n",
       "      <td>3</td>\n",
       "      <td>1</td>\n",
       "      <td>2</td>\n",
       "      <td>2</td>\n",
       "      <td>5</td>\n",
       "      <td>4</td>\n",
       "      <td>4</td>\n",
       "      <td>4</td>\n",
       "      <td>3</td>\n",
       "      <td>3</td>\n",
       "      <td>1</td>\n",
       "      <td>4</td>\n",
       "    </tr>\n",
       "  </tbody>\n",
       "</table>\n",
       "</div>"
      ],
      "text/plain": [
       "    age  guardian  failures  free time  travel time  social activities  \\\n",
       "id                                                                       \n",
       "1    18         0         0          3            2                  4   \n",
       "2    17         1         0          3            1                  3   \n",
       "3    15         0         3          3            1                  2   \n",
       "4    15         0         0          2            1                  2   \n",
       "5    16         1         0          3            1                  2   \n",
       "\n",
       "    study time  health  family relationship  moms job  dads job  \\\n",
       "id                                                                \n",
       "1            2       3                    4         0         2   \n",
       "2            2       3                    5         0         4   \n",
       "3            2       3                    4         0         4   \n",
       "4            3       5                    3         1         3   \n",
       "5            2       5                    4         4         4   \n",
       "\n",
       "    moms education  dads education  choice reason  absences  \n",
       "id                                                           \n",
       "1                4               4              0         6  \n",
       "2                1               1              0         4  \n",
       "3                1               1              4        10  \n",
       "4                4               2              1         2  \n",
       "5                3               3              1         4  "
      ]
     },
     "execution_count": 8,
     "metadata": {},
     "output_type": "execute_result"
    }
   ],
   "source": [
    "# Non-binary list\n",
    "\n",
    "non_binary = ['age', 'guardian', 'failures', 'free time', 'travel time', 'social activities', 'study time', 'health', 'family relationship', 'moms job', 'dads job', 'moms education', 'dads education', 'choice reason']\n",
    "non_binary.append('absences')\n",
    "\n",
    "non_binary_df = df[non_binary]\n",
    "non_binary_df[:5]"
   ]
  },
  {
   "cell_type": "markdown",
   "id": "95f57a89",
   "metadata": {},
   "source": [
    "#### The Datatypes of Selected Columns"
   ]
  },
  {
   "cell_type": "code",
   "execution_count": 9,
   "id": "3408b346",
   "metadata": {},
   "outputs": [
    {
     "data": {
      "text/plain": [
       "age                    int64\n",
       "guardian               int64\n",
       "failures               int64\n",
       "free time              int64\n",
       "travel time            int64\n",
       "social activities      int64\n",
       "study time             int64\n",
       "health                 int64\n",
       "family relationship    int64\n",
       "moms job               int64\n",
       "dads job               int64\n",
       "moms education         int64\n",
       "dads education         int64\n",
       "choice reason          int64\n",
       "absences               int64\n",
       "dtype: object"
      ]
     },
     "execution_count": 9,
     "metadata": {},
     "output_type": "execute_result"
    }
   ],
   "source": [
    "non_binary_df.dtypes"
   ]
  },
  {
   "cell_type": "markdown",
   "id": "c57ad7d0",
   "metadata": {},
   "source": [
    "#### Encoding Columns into Binary Values"
   ]
  },
  {
   "cell_type": "code",
   "execution_count": 10,
   "id": "5b18a30c",
   "metadata": {},
   "outputs": [
    {
     "data": {
      "text/html": [
       "<div>\n",
       "<style scoped>\n",
       "    .dataframe tbody tr th:only-of-type {\n",
       "        vertical-align: middle;\n",
       "    }\n",
       "\n",
       "    .dataframe tbody tr th {\n",
       "        vertical-align: top;\n",
       "    }\n",
       "\n",
       "    .dataframe thead th {\n",
       "        text-align: right;\n",
       "    }\n",
       "</style>\n",
       "<table border=\"1\" class=\"dataframe\">\n",
       "  <thead>\n",
       "    <tr style=\"text-align: right;\">\n",
       "      <th></th>\n",
       "      <th>school</th>\n",
       "      <th>gender</th>\n",
       "      <th>home address</th>\n",
       "      <th>parents cohabitation</th>\n",
       "      <th>nursery education</th>\n",
       "      <th>internet access</th>\n",
       "      <th>higher education</th>\n",
       "      <th>significant other</th>\n",
       "      <th>household size</th>\n",
       "      <th>first periods grade</th>\n",
       "      <th>...</th>\n",
       "      <th>absences_25</th>\n",
       "      <th>absences_26</th>\n",
       "      <th>absences_28</th>\n",
       "      <th>absences_30</th>\n",
       "      <th>absences_32</th>\n",
       "      <th>absences_38</th>\n",
       "      <th>absences_40</th>\n",
       "      <th>absences_54</th>\n",
       "      <th>absences_56</th>\n",
       "      <th>absences_75</th>\n",
       "    </tr>\n",
       "    <tr>\n",
       "      <th>id</th>\n",
       "      <th></th>\n",
       "      <th></th>\n",
       "      <th></th>\n",
       "      <th></th>\n",
       "      <th></th>\n",
       "      <th></th>\n",
       "      <th></th>\n",
       "      <th></th>\n",
       "      <th></th>\n",
       "      <th></th>\n",
       "      <th></th>\n",
       "      <th></th>\n",
       "      <th></th>\n",
       "      <th></th>\n",
       "      <th></th>\n",
       "      <th></th>\n",
       "      <th></th>\n",
       "      <th></th>\n",
       "      <th></th>\n",
       "      <th></th>\n",
       "      <th></th>\n",
       "    </tr>\n",
       "  </thead>\n",
       "  <tbody>\n",
       "    <tr>\n",
       "      <th>1</th>\n",
       "      <td>0</td>\n",
       "      <td>1</td>\n",
       "      <td>1</td>\n",
       "      <td>0</td>\n",
       "      <td>1</td>\n",
       "      <td>0</td>\n",
       "      <td>1</td>\n",
       "      <td>0</td>\n",
       "      <td>1</td>\n",
       "      <td>0</td>\n",
       "      <td>...</td>\n",
       "      <td>0.0</td>\n",
       "      <td>0.0</td>\n",
       "      <td>0.0</td>\n",
       "      <td>0.0</td>\n",
       "      <td>0.0</td>\n",
       "      <td>0.0</td>\n",
       "      <td>0.0</td>\n",
       "      <td>0.0</td>\n",
       "      <td>0.0</td>\n",
       "      <td>0.0</td>\n",
       "    </tr>\n",
       "    <tr>\n",
       "      <th>2</th>\n",
       "      <td>0</td>\n",
       "      <td>1</td>\n",
       "      <td>1</td>\n",
       "      <td>1</td>\n",
       "      <td>0</td>\n",
       "      <td>1</td>\n",
       "      <td>1</td>\n",
       "      <td>0</td>\n",
       "      <td>1</td>\n",
       "      <td>0</td>\n",
       "      <td>...</td>\n",
       "      <td>0.0</td>\n",
       "      <td>0.0</td>\n",
       "      <td>0.0</td>\n",
       "      <td>0.0</td>\n",
       "      <td>0.0</td>\n",
       "      <td>0.0</td>\n",
       "      <td>0.0</td>\n",
       "      <td>0.0</td>\n",
       "      <td>0.0</td>\n",
       "      <td>0.0</td>\n",
       "    </tr>\n",
       "    <tr>\n",
       "      <th>3</th>\n",
       "      <td>0</td>\n",
       "      <td>1</td>\n",
       "      <td>1</td>\n",
       "      <td>1</td>\n",
       "      <td>1</td>\n",
       "      <td>1</td>\n",
       "      <td>1</td>\n",
       "      <td>0</td>\n",
       "      <td>0</td>\n",
       "      <td>0</td>\n",
       "      <td>...</td>\n",
       "      <td>0.0</td>\n",
       "      <td>0.0</td>\n",
       "      <td>0.0</td>\n",
       "      <td>0.0</td>\n",
       "      <td>0.0</td>\n",
       "      <td>0.0</td>\n",
       "      <td>0.0</td>\n",
       "      <td>0.0</td>\n",
       "      <td>0.0</td>\n",
       "      <td>0.0</td>\n",
       "    </tr>\n",
       "    <tr>\n",
       "      <th>4</th>\n",
       "      <td>0</td>\n",
       "      <td>1</td>\n",
       "      <td>1</td>\n",
       "      <td>1</td>\n",
       "      <td>1</td>\n",
       "      <td>1</td>\n",
       "      <td>1</td>\n",
       "      <td>1</td>\n",
       "      <td>1</td>\n",
       "      <td>1</td>\n",
       "      <td>...</td>\n",
       "      <td>0.0</td>\n",
       "      <td>0.0</td>\n",
       "      <td>0.0</td>\n",
       "      <td>0.0</td>\n",
       "      <td>0.0</td>\n",
       "      <td>0.0</td>\n",
       "      <td>0.0</td>\n",
       "      <td>0.0</td>\n",
       "      <td>0.0</td>\n",
       "      <td>0.0</td>\n",
       "    </tr>\n",
       "    <tr>\n",
       "      <th>5</th>\n",
       "      <td>0</td>\n",
       "      <td>1</td>\n",
       "      <td>1</td>\n",
       "      <td>1</td>\n",
       "      <td>1</td>\n",
       "      <td>0</td>\n",
       "      <td>1</td>\n",
       "      <td>0</td>\n",
       "      <td>1</td>\n",
       "      <td>0</td>\n",
       "      <td>...</td>\n",
       "      <td>0.0</td>\n",
       "      <td>0.0</td>\n",
       "      <td>0.0</td>\n",
       "      <td>0.0</td>\n",
       "      <td>0.0</td>\n",
       "      <td>0.0</td>\n",
       "      <td>0.0</td>\n",
       "      <td>0.0</td>\n",
       "      <td>0.0</td>\n",
       "      <td>0.0</td>\n",
       "    </tr>\n",
       "  </tbody>\n",
       "</table>\n",
       "<p>5 rows × 117 columns</p>\n",
       "</div>"
      ],
      "text/plain": [
       "    school  gender  home address  parents cohabitation  nursery education  \\\n",
       "id                                                                          \n",
       "1        0       1             1                     0                  1   \n",
       "2        0       1             1                     1                  0   \n",
       "3        0       1             1                     1                  1   \n",
       "4        0       1             1                     1                  1   \n",
       "5        0       1             1                     1                  1   \n",
       "\n",
       "    internet access  higher education  significant other  household size  \\\n",
       "id                                                                         \n",
       "1                 0                 1                  0               1   \n",
       "2                 1                 1                  0               1   \n",
       "3                 1                 1                  0               0   \n",
       "4                 1                 1                  1               1   \n",
       "5                 0                 1                  0               1   \n",
       "\n",
       "    first periods grade  ...  absences_25  absences_26  absences_28  \\\n",
       "id                       ...                                          \n",
       "1                     0  ...          0.0          0.0          0.0   \n",
       "2                     0  ...          0.0          0.0          0.0   \n",
       "3                     0  ...          0.0          0.0          0.0   \n",
       "4                     1  ...          0.0          0.0          0.0   \n",
       "5                     0  ...          0.0          0.0          0.0   \n",
       "\n",
       "    absences_30  absences_32  absences_38  absences_40  absences_54  \\\n",
       "id                                                                    \n",
       "1           0.0          0.0          0.0          0.0          0.0   \n",
       "2           0.0          0.0          0.0          0.0          0.0   \n",
       "3           0.0          0.0          0.0          0.0          0.0   \n",
       "4           0.0          0.0          0.0          0.0          0.0   \n",
       "5           0.0          0.0          0.0          0.0          0.0   \n",
       "\n",
       "    absences_56  absences_75  \n",
       "id                            \n",
       "1           0.0          0.0  \n",
       "2           0.0          0.0  \n",
       "3           0.0          0.0  \n",
       "4           0.0          0.0  \n",
       "5           0.0          0.0  \n",
       "\n",
       "[5 rows x 117 columns]"
      ]
     },
     "execution_count": 10,
     "metadata": {},
     "output_type": "execute_result"
    }
   ],
   "source": [
    "one_hot_enc = OneHotEncoder(sparse=False)\n",
    "one_hot_df = pd.DataFrame(one_hot_enc.fit_transform(non_binary_df))\n",
    "encoded_columns = one_hot_enc.get_feature_names_out(non_binary)\n",
    "one_hot_df.columns = encoded_columns\n",
    "\n",
    "# merge dataframes\n",
    "\n",
    "encoded_df = df.join(one_hot_df)\n",
    "\n",
    "# drop non-binary columns\n",
    "encoded_df = encoded_df.drop(non_binary, axis=1)\n",
    "encoded_df[:5]"
   ]
  },
  {
   "cell_type": "code",
   "execution_count": 11,
   "id": "8242ccf8",
   "metadata": {},
   "outputs": [],
   "source": [
    "encoded_df = encoded_df.dropna()"
   ]
  },
  {
   "cell_type": "code",
   "execution_count": 12,
   "id": "71310f99",
   "metadata": {},
   "outputs": [
    {
     "data": {
      "text/plain": [
       "school                  2\n",
       "gender                  2\n",
       "home address            2\n",
       "parents cohabitation    2\n",
       "nursery education       2\n",
       "                       ..\n",
       "absences_38             2\n",
       "absences_40             2\n",
       "absences_54             2\n",
       "absences_56             2\n",
       "absences_75             2\n",
       "Length: 117, dtype: int64"
      ]
     },
     "execution_count": 12,
     "metadata": {},
     "output_type": "execute_result"
    }
   ],
   "source": [
    "encoded_df.nunique()"
   ]
  },
  {
   "cell_type": "markdown",
   "id": "19a65164",
   "metadata": {},
   "source": [
    "### Features (Inputs) and Target(s) (Output) "
   ]
  },
  {
   "cell_type": "code",
   "execution_count": 13,
   "id": "7dca53bb",
   "metadata": {},
   "outputs": [],
   "source": [
    "features = encoded_df.columns\n",
    "features = features.drop(['heavy drinking', 'weekend drinking', 'weekday drinking'])\n",
    "# features = features.drop(['heavy drinking', 'weekend drinking', 'weekday drinking', 'absences'])\n",
    "# features = features.drop(['failures_2', 'family relationship_1', 'travel time_4', 'moms education_0', 'dads education_0', 'age_22', 'age_21', 'age_20', 'absences', 'heavy drinking', 'weekend drinking', 'weekday drinking'])\n",
    "\n",
    "output = 'heavy drinking'\n",
    "\n",
    "X = encoded_df[features]\n",
    "y = encoded_df[output]\n",
    "\n",
    "X_train, X_test, y_train, y_test = train_test_split(X, y, random_state=78)"
   ]
  },
  {
   "cell_type": "markdown",
   "id": "def35503",
   "metadata": {},
   "source": [
    "### Number of Features"
   ]
  },
  {
   "cell_type": "code",
   "execution_count": 14,
   "id": "a2015f94",
   "metadata": {},
   "outputs": [
    {
     "name": "stdout",
     "output_type": "stream",
     "text": [
      "Number of Columns in the table before preprocessing: 30\n",
      "Number of Features: 114\n",
      "Number of Output: 1\n"
     ]
    }
   ],
   "source": [
    "print(f'Number of Columns in the table before preprocessing: {len(df.columns)}')\n",
    "print(f'Number of Features: {len(features)}')\n",
    "print(f'Number of Output: 1')"
   ]
  },
  {
   "cell_type": "markdown",
   "id": "71c835c1",
   "metadata": {},
   "source": [
    "### Utility Functions"
   ]
  },
  {
   "cell_type": "code",
   "execution_count": 15,
   "id": "14106285",
   "metadata": {},
   "outputs": [],
   "source": [
    "def feature_rank(values, columns, sort=True):\n",
    "    \"\"\"\n",
    "    Pairs up feature names with their importance values\n",
    "    \n",
    "    Parameters\n",
    "        values (numpy.array): array of floats from model.feature_importances_\n",
    "        columns (list): list of column names from df.columns\n",
    "        sort (boolean): sort list \n",
    "    \n",
    "    Returns\n",
    "        list of tuples containing tuples of (column-name, importance-value)\n",
    "    \"\"\"\n",
    "    # creates an unordered list of tuple\n",
    "    ranks = [(x,y) for x, y in zip(columns, values)]\n",
    "    \n",
    "    if(sort):\n",
    "        # sorts in descending order\n",
    "        return sorted(ranks, key=lambda x: x[1], reverse=True)\n",
    "    else:\n",
    "        return ranks\n",
    "\n",
    "    \n",
    "def matrix_dataframe(arg):\n",
    "    return pd.DataFrame(data=arg, index=['Actual (Positive)', 'Actual (Negative)'], columns=['Predicted (True)', 'Predicted (False)'])\n"
   ]
  },
  {
   "cell_type": "markdown",
   "id": "fe43a479",
   "metadata": {},
   "source": [
    "###  Data Scaled "
   ]
  },
  {
   "cell_type": "code",
   "execution_count": 16,
   "id": "4895b5e5",
   "metadata": {},
   "outputs": [],
   "source": [
    "scaler = StandardScaler()\n",
    "X_scaler = scaler.fit(X_train)\n",
    "X_train_scaled = X_scaler.transform(X_train)\n",
    "X_test_scaled = X_scaler.transform(X_test)"
   ]
  },
  {
   "cell_type": "markdown",
   "id": "b4710291",
   "metadata": {},
   "source": [
    "## Decision Tree Classifier"
   ]
  },
  {
   "cell_type": "code",
   "execution_count": 17,
   "id": "7e40013c",
   "metadata": {},
   "outputs": [
    {
     "data": {
      "text/plain": [
       "array([[-0.59802917,  0.88392374,  0.61380825, ..., -0.03578281,\n",
       "        -0.03578281, -0.03578281],\n",
       "       [ 1.67215923,  0.88392374,  0.61380825, ..., -0.03578281,\n",
       "        -0.03578281, -0.03578281],\n",
       "       [-0.59802917,  0.88392374,  0.61380825, ..., -0.03578281,\n",
       "        -0.03578281, -0.03578281],\n",
       "       ...,\n",
       "       [-0.59802917,  0.88392374,  0.61380825, ..., -0.03578281,\n",
       "        -0.03578281, -0.03578281],\n",
       "       [-0.59802917, -1.13131931,  0.61380825, ..., -0.03578281,\n",
       "        -0.03578281, -0.03578281],\n",
       "       [-0.59802917, -1.13131931, -1.62917329, ..., -0.03578281,\n",
       "        -0.03578281, -0.03578281]])"
      ]
     },
     "execution_count": 17,
     "metadata": {},
     "output_type": "execute_result"
    }
   ],
   "source": [
    "dt_model = DecisionTreeClassifier()\n",
    "dt_model.fit(X_train_scaled, y_train)\n",
    "X_train_scaled"
   ]
  },
  {
   "cell_type": "markdown",
   "id": "def12950",
   "metadata": {},
   "source": [
    "### Predictions (Decision Tree Classifier)"
   ]
  },
  {
   "cell_type": "code",
   "execution_count": 18,
   "id": "3705f066",
   "metadata": {},
   "outputs": [
    {
     "data": {
      "text/plain": [
       "array([1, 1, 0, 1, 0, 1, 1, 0, 1, 1, 1, 0, 0, 1, 0, 0, 0, 1, 1, 0, 0, 1,\n",
       "       0, 0, 1, 0, 0, 0, 0, 0, 1, 0, 1, 0, 1, 0, 1, 0, 1, 1, 1, 0, 0, 1,\n",
       "       0, 1, 0, 1, 0, 0, 0, 0, 1, 0, 0, 0, 0, 1, 0, 0, 1, 0, 0, 1, 1, 0,\n",
       "       0, 0, 0, 0, 0, 0, 1, 0, 1, 1, 0, 1, 1, 0, 0, 0, 0, 0, 1, 0, 0, 1,\n",
       "       1, 1, 0, 1, 0, 1, 0, 0, 0, 1, 0, 0, 1, 1, 0, 0, 0, 0, 1, 0, 1, 0,\n",
       "       1, 1, 0, 0, 1, 1, 0, 1, 0, 0, 1, 0, 0, 1, 0, 1, 0, 1, 1, 0, 1, 0,\n",
       "       1, 0, 1, 0, 1, 0, 1, 0, 1, 0, 0, 1, 0, 0, 0, 1, 1, 1, 0, 0, 1, 0,\n",
       "       0, 0, 0, 0, 1, 1, 0, 0, 1, 0, 0, 0, 0, 0, 1, 0, 0, 1, 0, 1, 0, 0,\n",
       "       0, 0, 1, 1, 1, 1, 0, 0, 1, 0, 1, 1, 0, 0, 0, 0, 1, 0, 0, 1, 1, 0,\n",
       "       0, 1, 0, 0, 0, 0, 1, 1, 1, 1, 1, 1, 0, 1, 1, 1, 0, 0, 0, 0, 0, 0,\n",
       "       0, 0, 0, 0, 1, 1, 0, 0, 0, 0, 1, 0, 0, 0, 0, 0, 0, 0, 0, 1, 0, 1,\n",
       "       0, 0, 1, 0, 1, 0, 1, 1, 0, 1, 1, 1, 1, 1, 1, 1, 1, 0, 0],\n",
       "      dtype=int64)"
      ]
     },
     "execution_count": 18,
     "metadata": {},
     "output_type": "execute_result"
    }
   ],
   "source": [
    "dt_predictions = dt_model.predict(X_test_scaled)\n",
    "dt_predictions"
   ]
  },
  {
   "cell_type": "markdown",
   "id": "6b2b4fe5",
   "metadata": {},
   "source": [
    "### The Predictive Accuracy (Decision Tree Classifier)"
   ]
  },
  {
   "cell_type": "code",
   "execution_count": 19,
   "id": "ed3a84f6",
   "metadata": {},
   "outputs": [
    {
     "data": {
      "text/plain": [
       "0.7509578544061303"
      ]
     },
     "execution_count": 19,
     "metadata": {},
     "output_type": "execute_result"
    }
   ],
   "source": [
    "dt_acc_score = accuracy_score(y_test, dt_predictions)\n",
    "dt_acc_score"
   ]
  },
  {
   "cell_type": "markdown",
   "id": "934e912a",
   "metadata": {},
   "source": [
    "### Confusion Matrix (Decision Tree Classifier)"
   ]
  },
  {
   "cell_type": "code",
   "execution_count": 20,
   "id": "d4516d6d",
   "metadata": {},
   "outputs": [
    {
     "data": {
      "text/plain": [
       "array([[120,  32],\n",
       "       [ 33,  76]], dtype=int64)"
      ]
     },
     "execution_count": 20,
     "metadata": {},
     "output_type": "execute_result"
    }
   ],
   "source": [
    "dt_conf_mat = confusion_matrix(y_test, dt_predictions)\n",
    "dt_conf_mat"
   ]
  },
  {
   "cell_type": "code",
   "execution_count": 21,
   "id": "780ab433",
   "metadata": {},
   "outputs": [
    {
     "data": {
      "text/html": [
       "<div>\n",
       "<style scoped>\n",
       "    .dataframe tbody tr th:only-of-type {\n",
       "        vertical-align: middle;\n",
       "    }\n",
       "\n",
       "    .dataframe tbody tr th {\n",
       "        vertical-align: top;\n",
       "    }\n",
       "\n",
       "    .dataframe thead th {\n",
       "        text-align: right;\n",
       "    }\n",
       "</style>\n",
       "<table border=\"1\" class=\"dataframe\">\n",
       "  <thead>\n",
       "    <tr style=\"text-align: right;\">\n",
       "      <th></th>\n",
       "      <th>Predicted (True)</th>\n",
       "      <th>Predicted (False)</th>\n",
       "    </tr>\n",
       "  </thead>\n",
       "  <tbody>\n",
       "    <tr>\n",
       "      <th>Actual (Positive)</th>\n",
       "      <td>120</td>\n",
       "      <td>32</td>\n",
       "    </tr>\n",
       "    <tr>\n",
       "      <th>Actual (Negative)</th>\n",
       "      <td>33</td>\n",
       "      <td>76</td>\n",
       "    </tr>\n",
       "  </tbody>\n",
       "</table>\n",
       "</div>"
      ],
      "text/plain": [
       "                   Predicted (True)  Predicted (False)\n",
       "Actual (Positive)               120                 32\n",
       "Actual (Negative)                33                 76"
      ]
     },
     "execution_count": 21,
     "metadata": {},
     "output_type": "execute_result"
    }
   ],
   "source": [
    "matrix_dataframe(dt_conf_mat)"
   ]
  },
  {
   "cell_type": "markdown",
   "id": "02c1804d",
   "metadata": {},
   "source": [
    "### The Most Important Features (Decision Tree Classifier)"
   ]
  },
  {
   "cell_type": "code",
   "execution_count": 22,
   "id": "1a75b775",
   "metadata": {},
   "outputs": [
    {
     "data": {
      "text/plain": [
       "gender                   0.063268\n",
       "second periods grade     0.051846\n",
       "free time_3              0.038433\n",
       "nursery education        0.037318\n",
       "significant other        0.036157\n",
       "dads education_2         0.031943\n",
       "dads job_4               0.028036\n",
       "choice reason_1          0.025172\n",
       "choice reason_4          0.022774\n",
       "household size           0.022097\n",
       "moms job_4               0.021749\n",
       "moms education_3         0.019688\n",
       "social activities_2      0.019336\n",
       "study time_2             0.019027\n",
       "family relationship_3    0.018263\n",
       "Name: feature importances, dtype: float64"
      ]
     },
     "execution_count": 22,
     "metadata": {},
     "output_type": "execute_result"
    }
   ],
   "source": [
    "dt_ranks = feature_rank(dt_model.feature_importances_, features)\n",
    "dt_most = pd.Series(data=dict(dt_ranks), name='feature importances')  # Top 15\n",
    "dt_most[:15]"
   ]
  },
  {
   "cell_type": "markdown",
   "id": "aa12c961",
   "metadata": {},
   "source": [
    "### The Least Important Features (Decision Tree Classifier)"
   ]
  },
  {
   "cell_type": "code",
   "execution_count": 23,
   "id": "3ef46cde",
   "metadata": {},
   "outputs": [
    {
     "data": {
      "text/plain": [
       "absences_75              0.0\n",
       "absences_56              0.0\n",
       "absences_54              0.0\n",
       "absences_40              0.0\n",
       "absences_38              0.0\n",
       "absences_32              0.0\n",
       "absences_30              0.0\n",
       "absences_28              0.0\n",
       "absences_26              0.0\n",
       "absences_25              0.0\n",
       "absences_24              0.0\n",
       "absences_22              0.0\n",
       "absences_21              0.0\n",
       "absences_20              0.0\n",
       "absences_19              0.0\n",
       "absences_18              0.0\n",
       "absences_17              0.0\n",
       "absences_16              0.0\n",
       "absences_15              0.0\n",
       "absences_13              0.0\n",
       "absences_9               0.0\n",
       "absences_7               0.0\n",
       "absences_3               0.0\n",
       "choice reason_3          0.0\n",
       "dads education_0         0.0\n",
       "moms education_0         0.0\n",
       "family relationship_5    0.0\n",
       "family relationship_2    0.0\n",
       "study time_1             0.0\n",
       "travel time_4            0.0\n",
       "Name: least important features, dtype: float64"
      ]
     },
     "execution_count": 23,
     "metadata": {},
     "output_type": "execute_result"
    }
   ],
   "source": [
    "# \n",
    "dt_least = pd.Series(data=dict(reversed(dt_ranks)), name='least important features')\n",
    "dt_least[:30]"
   ]
  },
  {
   "cell_type": "markdown",
   "id": "7f7fb769",
   "metadata": {},
   "source": [
    "### Classification Report (Decision Tree Classifier)"
   ]
  },
  {
   "cell_type": "code",
   "execution_count": 24,
   "id": "b7406dec",
   "metadata": {},
   "outputs": [
    {
     "name": "stdout",
     "output_type": "stream",
     "text": [
      "              precision    recall  f1-score   support\n",
      "\n",
      "           0       0.78      0.79      0.79       152\n",
      "           1       0.70      0.70      0.70       109\n",
      "\n",
      "    accuracy                           0.75       261\n",
      "   macro avg       0.74      0.74      0.74       261\n",
      "weighted avg       0.75      0.75      0.75       261\n",
      "\n"
     ]
    }
   ],
   "source": [
    "print(classification_report(y_test, dt_predictions))"
   ]
  },
  {
   "cell_type": "markdown",
   "id": "2e066b69",
   "metadata": {},
   "source": [
    "## Random Forest Classifier"
   ]
  },
  {
   "cell_type": "code",
   "execution_count": 25,
   "id": "e145c7f4",
   "metadata": {},
   "outputs": [
    {
     "data": {
      "text/plain": [
       "array([[-0.59802917,  0.88392374,  0.61380825, ..., -0.03578281,\n",
       "        -0.03578281, -0.03578281],\n",
       "       [ 1.67215923,  0.88392374,  0.61380825, ..., -0.03578281,\n",
       "        -0.03578281, -0.03578281],\n",
       "       [-0.59802917,  0.88392374,  0.61380825, ..., -0.03578281,\n",
       "        -0.03578281, -0.03578281],\n",
       "       ...,\n",
       "       [-0.59802917,  0.88392374,  0.61380825, ..., -0.03578281,\n",
       "        -0.03578281, -0.03578281],\n",
       "       [-0.59802917, -1.13131931,  0.61380825, ..., -0.03578281,\n",
       "        -0.03578281, -0.03578281],\n",
       "       [-0.59802917, -1.13131931, -1.62917329, ..., -0.03578281,\n",
       "        -0.03578281, -0.03578281]])"
      ]
     },
     "execution_count": 25,
     "metadata": {},
     "output_type": "execute_result"
    }
   ],
   "source": [
    "rf_model = RandomForestClassifier(n_estimators=128, random_state=25)\n",
    "rf_model.fit(X_train_scaled, y_train)\n",
    "X_train_scaled"
   ]
  },
  {
   "cell_type": "markdown",
   "id": "81694fbc",
   "metadata": {},
   "source": [
    "### Predictions (Random Forest Classifier)"
   ]
  },
  {
   "cell_type": "code",
   "execution_count": 26,
   "id": "d8777420",
   "metadata": {},
   "outputs": [
    {
     "data": {
      "text/plain": [
       "array([1, 0, 1, 0, 1, 1, 1, 0, 0, 1, 0, 0, 0, 1, 0, 1, 0, 1, 1, 1, 0, 1,\n",
       "       0, 0, 0, 0, 0, 1, 0, 0, 1, 0, 1, 0, 0, 0, 1, 0, 1, 0, 1, 0, 0, 1,\n",
       "       1, 0, 0, 1, 0, 1, 1, 0, 1, 1, 0, 1, 0, 1, 0, 0, 0, 0, 0, 1, 1, 0,\n",
       "       0, 0, 0, 0, 0, 0, 1, 0, 0, 0, 0, 1, 0, 0, 0, 1, 0, 0, 1, 0, 1, 0,\n",
       "       0, 1, 0, 1, 0, 0, 0, 0, 0, 0, 0, 0, 0, 1, 1, 0, 0, 0, 1, 0, 1, 0,\n",
       "       0, 1, 0, 0, 0, 1, 0, 1, 0, 0, 1, 1, 0, 0, 0, 1, 0, 0, 1, 0, 0, 0,\n",
       "       1, 1, 1, 0, 1, 0, 0, 0, 0, 0, 0, 0, 0, 0, 1, 1, 0, 0, 0, 0, 0, 0,\n",
       "       0, 0, 1, 0, 1, 0, 0, 0, 1, 0, 1, 0, 0, 0, 1, 1, 1, 1, 0, 0, 1, 0,\n",
       "       0, 0, 1, 1, 1, 1, 0, 0, 0, 1, 0, 1, 0, 0, 0, 0, 0, 0, 0, 1, 0, 0,\n",
       "       0, 1, 0, 0, 0, 0, 1, 1, 1, 0, 1, 1, 0, 1, 1, 1, 1, 0, 1, 0, 0, 0,\n",
       "       0, 0, 0, 0, 0, 0, 0, 0, 0, 0, 0, 0, 0, 0, 0, 0, 1, 0, 0, 0, 1, 1,\n",
       "       0, 0, 0, 0, 1, 0, 1, 1, 0, 1, 1, 0, 1, 0, 1, 1, 0, 0, 0],\n",
       "      dtype=int64)"
      ]
     },
     "execution_count": 26,
     "metadata": {},
     "output_type": "execute_result"
    }
   ],
   "source": [
    "rf_predictions = rf_model.predict(X_test_scaled)\n",
    "rf_predictions"
   ]
  },
  {
   "cell_type": "markdown",
   "id": "0176e5af",
   "metadata": {},
   "source": [
    "### The Predictive Accuracy (Random Forest Classifier)"
   ]
  },
  {
   "cell_type": "code",
   "execution_count": 27,
   "id": "c5203cb8",
   "metadata": {},
   "outputs": [
    {
     "data": {
      "text/plain": [
       "0.7777777777777778"
      ]
     },
     "execution_count": 27,
     "metadata": {},
     "output_type": "execute_result"
    }
   ],
   "source": [
    "rf_acc_score = accuracy_score(y_test, rf_predictions)\n",
    "rf_acc_score"
   ]
  },
  {
   "cell_type": "markdown",
   "id": "a57a5aeb",
   "metadata": {},
   "source": [
    "### Confusion Matrix (Random Forest Classifier)"
   ]
  },
  {
   "cell_type": "code",
   "execution_count": 28,
   "id": "36228ebc",
   "metadata": {},
   "outputs": [
    {
     "data": {
      "text/plain": [
       "array([[132,  20],\n",
       "       [ 38,  71]], dtype=int64)"
      ]
     },
     "execution_count": 28,
     "metadata": {},
     "output_type": "execute_result"
    }
   ],
   "source": [
    "rf_conf_mat = confusion_matrix(y_test, rf_predictions)\n",
    "rf_conf_mat"
   ]
  },
  {
   "cell_type": "code",
   "execution_count": 29,
   "id": "42a3bb2e",
   "metadata": {},
   "outputs": [
    {
     "data": {
      "text/html": [
       "<div>\n",
       "<style scoped>\n",
       "    .dataframe tbody tr th:only-of-type {\n",
       "        vertical-align: middle;\n",
       "    }\n",
       "\n",
       "    .dataframe tbody tr th {\n",
       "        vertical-align: top;\n",
       "    }\n",
       "\n",
       "    .dataframe thead th {\n",
       "        text-align: right;\n",
       "    }\n",
       "</style>\n",
       "<table border=\"1\" class=\"dataframe\">\n",
       "  <thead>\n",
       "    <tr style=\"text-align: right;\">\n",
       "      <th></th>\n",
       "      <th>Predicted (True)</th>\n",
       "      <th>Predicted (False)</th>\n",
       "    </tr>\n",
       "  </thead>\n",
       "  <tbody>\n",
       "    <tr>\n",
       "      <th>Actual (Positive)</th>\n",
       "      <td>132</td>\n",
       "      <td>20</td>\n",
       "    </tr>\n",
       "    <tr>\n",
       "      <th>Actual (Negative)</th>\n",
       "      <td>38</td>\n",
       "      <td>71</td>\n",
       "    </tr>\n",
       "  </tbody>\n",
       "</table>\n",
       "</div>"
      ],
      "text/plain": [
       "                   Predicted (True)  Predicted (False)\n",
       "Actual (Positive)               132                 20\n",
       "Actual (Negative)                38                 71"
      ]
     },
     "execution_count": 29,
     "metadata": {},
     "output_type": "execute_result"
    }
   ],
   "source": [
    "matrix_dataframe(rf_conf_mat)"
   ]
  },
  {
   "cell_type": "markdown",
   "id": "9c2ba237",
   "metadata": {},
   "source": [
    "### The Most Important Features (Random Forest Classifier)"
   ]
  },
  {
   "cell_type": "code",
   "execution_count": 30,
   "id": "9d6bfaf3",
   "metadata": {},
   "outputs": [
    {
     "data": {
      "text/plain": [
       "gender                   0.043233\n",
       "significant other        0.019329\n",
       "household size           0.018745\n",
       "second periods grade     0.018541\n",
       "moms job_4               0.017404\n",
       "choice reason_0          0.016710\n",
       "health_5                 0.016652\n",
       "study time_2             0.016276\n",
       "home address             0.016068\n",
       "nursery education        0.016034\n",
       "absences_0               0.015809\n",
       "health_4                 0.015782\n",
       "family relationship_4    0.015749\n",
       "free time_3              0.015736\n",
       "social activities_3      0.015444\n",
       "Name: most important features, dtype: float64"
      ]
     },
     "execution_count": 30,
     "metadata": {},
     "output_type": "execute_result"
    }
   ],
   "source": [
    "rf_ranks = feature_rank(rf_model.feature_importances_, features)\n",
    "rf_most = pd.Series(dict(rf_ranks), name='most important features')\n",
    "rf_most[:15]"
   ]
  },
  {
   "cell_type": "markdown",
   "id": "55b740e7",
   "metadata": {},
   "source": [
    "### The Least Important Features (Random Forest Classifier)"
   ]
  },
  {
   "cell_type": "code",
   "execution_count": 31,
   "id": "20a8e4cd",
   "metadata": {},
   "outputs": [
    {
     "data": {
      "text/plain": [
       "absences_24         0.000000\n",
       "absences_28         0.000008\n",
       "absences_25         0.000062\n",
       "age_22              0.000062\n",
       "absences_17         0.000069\n",
       "absences_19         0.000105\n",
       "absences_38         0.000159\n",
       "absences_40         0.000174\n",
       "absences_26         0.000218\n",
       "absences_30         0.000258\n",
       "absences_56         0.000329\n",
       "absences_13         0.000395\n",
       "absences_21         0.000480\n",
       "absences_54         0.000481\n",
       "age_21              0.000496\n",
       "absences_32         0.000496\n",
       "absences_15         0.000503\n",
       "absences_20         0.000557\n",
       "absences_75         0.000568\n",
       "absences_11         0.001206\n",
       "absences_18         0.001218\n",
       "age_20              0.001309\n",
       "absences_23         0.001316\n",
       "dads education_0    0.001416\n",
       "moms education_0    0.001658\n",
       "absences_9          0.001728\n",
       "absences_1          0.001846\n",
       "absences_3          0.001858\n",
       "absences_7          0.002284\n",
       "absences_22         0.002332\n",
       "Name: least important features, dtype: float64"
      ]
     },
     "execution_count": 31,
     "metadata": {},
     "output_type": "execute_result"
    }
   ],
   "source": [
    "rf_least = pd.Series(data=dict(reversed(rf_ranks)), name='least important features')\n",
    "rf_least[:30]"
   ]
  },
  {
   "cell_type": "markdown",
   "id": "fc0f6959",
   "metadata": {},
   "source": [
    "### Classification Report (Random Forest Classifier)"
   ]
  },
  {
   "cell_type": "code",
   "execution_count": 32,
   "id": "79909f27",
   "metadata": {},
   "outputs": [
    {
     "name": "stdout",
     "output_type": "stream",
     "text": [
      "              precision    recall  f1-score   support\n",
      "\n",
      "           0       0.78      0.87      0.82       152\n",
      "           1       0.78      0.65      0.71       109\n",
      "\n",
      "    accuracy                           0.78       261\n",
      "   macro avg       0.78      0.76      0.76       261\n",
      "weighted avg       0.78      0.78      0.77       261\n",
      "\n"
     ]
    }
   ],
   "source": [
    "print(classification_report(y_test, rf_predictions))"
   ]
  },
  {
   "cell_type": "markdown",
   "id": "b3498ea4",
   "metadata": {},
   "source": [
    "## Neural Network"
   ]
  },
  {
   "cell_type": "code",
   "execution_count": 79,
   "id": "75590ffd",
   "metadata": {},
   "outputs": [
    {
     "name": "stdout",
     "output_type": "stream",
     "text": [
      "Epoch 1/25\n",
      "49/49 [==============================] - 0s 1ms/step - loss: 0.7212 - accuracy: 0.5371\n",
      "Epoch 2/25\n",
      "49/49 [==============================] - 0s 1ms/step - loss: 0.6383 - accuracy: 0.6547\n",
      "Epoch 3/25\n",
      "49/49 [==============================] - 0s 1ms/step - loss: 0.5901 - accuracy: 0.7123\n",
      "Epoch 4/25\n",
      "49/49 [==============================] - 0s 1ms/step - loss: 0.5479 - accuracy: 0.7570\n",
      "Epoch 5/25\n",
      "49/49 [==============================] - 0s 2ms/step - loss: 0.5109 - accuracy: 0.7749\n",
      "Epoch 6/25\n",
      "49/49 [==============================] - 0s 2ms/step - loss: 0.4753 - accuracy: 0.8210\n",
      "Epoch 7/25\n",
      "49/49 [==============================] - 0s 2ms/step - loss: 0.4397 - accuracy: 0.8427\n",
      "Epoch 8/25\n",
      "49/49 [==============================] - 0s 2ms/step - loss: 0.4055 - accuracy: 0.8632\n",
      "Epoch 9/25\n",
      "49/49 [==============================] - 0s 2ms/step - loss: 0.3727 - accuracy: 0.8785\n",
      "Epoch 10/25\n",
      "49/49 [==============================] - 0s 2ms/step - loss: 0.3401 - accuracy: 0.9028\n",
      "Epoch 11/25\n",
      "49/49 [==============================] - 0s 1ms/step - loss: 0.3091 - accuracy: 0.9105\n",
      "Epoch 12/25\n",
      "49/49 [==============================] - 0s 2ms/step - loss: 0.2799 - accuracy: 0.9309\n",
      "Epoch 13/25\n",
      "49/49 [==============================] - 0s 2ms/step - loss: 0.2523 - accuracy: 0.9386\n",
      "Epoch 14/25\n",
      "49/49 [==============================] - 0s 2ms/step - loss: 0.2272 - accuracy: 0.9501\n",
      "Epoch 15/25\n",
      "49/49 [==============================] - 0s 1ms/step - loss: 0.2015 - accuracy: 0.9591\n",
      "Epoch 16/25\n",
      "49/49 [==============================] - 0s 2ms/step - loss: 0.1789 - accuracy: 0.9642\n",
      "Epoch 17/25\n",
      "49/49 [==============================] - 0s 1ms/step - loss: 0.1571 - accuracy: 0.9783\n",
      "Epoch 18/25\n",
      "49/49 [==============================] - 0s 1ms/step - loss: 0.1373 - accuracy: 0.9783\n",
      "Epoch 19/25\n",
      "49/49 [==============================] - 0s 1ms/step - loss: 0.1196 - accuracy: 0.9885\n",
      "Epoch 20/25\n",
      "49/49 [==============================] - 0s 1ms/step - loss: 0.1039 - accuracy: 0.9859\n",
      "Epoch 21/25\n",
      "49/49 [==============================] - 0s 2ms/step - loss: 0.0906 - accuracy: 0.9949\n",
      "Epoch 22/25\n",
      "49/49 [==============================] - 0s 2ms/step - loss: 0.0790 - accuracy: 0.9936\n",
      "Epoch 23/25\n",
      "49/49 [==============================] - 0s 2ms/step - loss: 0.0679 - accuracy: 0.9962\n",
      "Epoch 24/25\n",
      "49/49 [==============================] - 0s 1ms/step - loss: 0.0589 - accuracy: 0.9974\n",
      "Epoch 25/25\n",
      "49/49 [==============================] - 0s 2ms/step - loss: 0.0502 - accuracy: 1.0000\n",
      "9/9 - 0s - loss: 0.9901 - accuracy: 0.6590 - 170ms/epoch - 19ms/step\n",
      "The model loss is 0.9901136159896851 and the accuracy is 0.6590038537979126\n"
     ]
    }
   ],
   "source": [
    "# define the model\n",
    "\n",
    "num_input_features = len(X_train_scaled[0])\n",
    "hidden_nodes_layer_1 = 40\n",
    "hidden_nodes_layer_2 = 20\n",
    "\n",
    "nn = tf.keras.models.Sequential()\n",
    "\n",
    "# first hidden layer\n",
    "nn.add(tf.keras.layers.Dense(units=hidden_nodes_layer_1, input_dim=num_input_features, activation='relu'))\n",
    "\n",
    "# second hidden layer\n",
    "nn.add(tf.keras.layers.Dense(units=hidden_nodes_layer_2, activation='relu'))\n",
    "\n",
    "# outer layer\n",
    "nn.add(tf.keras.layers.Dense(units=1, activation='sigmoid'))\n",
    "\n",
    "nn.compile(loss='binary_crossentropy', optimizer='adam', metrics=['accuracy'])\n",
    "\n",
    "fit_model = nn.fit(X_train_scaled, y_train, batch_size=16, epochs=25)\n",
    "\n",
    "model_loss, model_accuracy = nn.evaluate(X_test_scaled, y_test, verbose=2)\n",
    "\n",
    "print(f'The model loss is {model_loss} and the accuracy is {model_accuracy}')"
   ]
  },
  {
   "cell_type": "markdown",
   "id": "d16f2013",
   "metadata": {},
   "source": [
    "### Summary (Neural Network)"
   ]
  },
  {
   "cell_type": "code",
   "execution_count": 80,
   "id": "7eea044f",
   "metadata": {},
   "outputs": [
    {
     "name": "stdout",
     "output_type": "stream",
     "text": [
      "Model: \"sequential_22\"\n",
      "_________________________________________________________________\n",
      " Layer (type)                Output Shape              Param #   \n",
      "=================================================================\n",
      " dense_66 (Dense)            (None, 40)                4600      \n",
      "                                                                 \n",
      " dense_67 (Dense)            (None, 20)                820       \n",
      "                                                                 \n",
      " dense_68 (Dense)            (None, 1)                 21        \n",
      "                                                                 \n",
      "=================================================================\n",
      "Total params: 5,441\n",
      "Trainable params: 5,441\n",
      "Non-trainable params: 0\n",
      "_________________________________________________________________\n"
     ]
    }
   ],
   "source": [
    "nn.summary()"
   ]
  },
  {
   "cell_type": "code",
   "execution_count": 81,
   "id": "bae1d64d",
   "metadata": {},
   "outputs": [],
   "source": [
    "import matplotlib.pyplot as plt\n",
    "%matplotlib inline"
   ]
  },
  {
   "cell_type": "code",
   "execution_count": 82,
   "id": "8d199e5e",
   "metadata": {},
   "outputs": [
    {
     "name": "stdout",
     "output_type": "stream",
     "text": [
      "dict_keys(['loss', 'accuracy'])\n"
     ]
    }
   ],
   "source": [
    "history = fit_model.history\n",
    "print(history.keys())"
   ]
  },
  {
   "cell_type": "code",
   "execution_count": 83,
   "id": "b7f2f6ab",
   "metadata": {},
   "outputs": [
    {
     "data": {
      "image/png": "[encoded data removed]",
      "text/plain": [
       "<Figure size 432x288 with 1 Axes>"
      ]
     },
     "metadata": {
      "needs_background": "light"
     },
     "output_type": "display_data"
    }
   ],
   "source": [
    "plt.plot(history['accuracy'])\n",
    "plt.xlabel('Epochs', fontsize=15)\n",
    "plt.ylabel('Accuracy', fontsize=15)\n",
    "plt.title('Accuracy Chart', fontsize=15)\n",
    "plt.show()"
   ]
  },
  {
   "cell_type": "code",
   "execution_count": 84,
   "id": "36515815",
   "metadata": {},
   "outputs": [
    {
     "data": {
      "image/png": "[encoded data removed]",
      "text/plain": [
       "<Figure size 432x288 with 1 Axes>"
      ]
     },
     "metadata": {
      "needs_background": "light"
     },
     "output_type": "display_data"
    }
   ],
   "source": [
    "plt.plot(history['loss'])\n",
    "plt.xlabel('Epochs', fontsize=15)\n",
    "plt.ylabel('Loss', fontsize=15)\n",
    "plt.title('Loss Chart', fontsize=15)\n",
    "plt.show()"
   ]
  },
  {
   "cell_type": "code",
   "execution_count": 39,
   "id": "22f341bf",
   "metadata": {},
   "outputs": [],
   "source": [
    "conn = sqlite3.connect('../res/data/tables.sql')\n",
    "cursor = conn.cursor()"
   ]
  },
  {
   "cell_type": "code",
   "execution_count": 40,
   "id": "013d43d5",
   "metadata": {},
   "outputs": [],
   "source": [
    "cursor.execute('''\n",
    "SELECT profile.id, school, gender, age, \"home address\", \"parents cohabitation\", \n",
    "\"moms education\", \"dads education\", \"moms job\", \"dads job\", \"choice reason\", \n",
    "guardian, \"travel time\", \"nursery education\", \"internet access\", \"higher education\",\n",
    "\"significant other\", \"household size\", \"family relationship\", \"free time\",\n",
    "\"social activities\", \"study time\", \"first periods grade\", \"second periods grade\",\n",
    "\"third periods grade\", failures, absences, health, \"weekday drinking\",\n",
    "\"weekend drinking\", \"heavy drinking\"\n",
    "FROM profile\n",
    "JOIN activities\n",
    "ON profile.id = activities.id\n",
    "''')\n",
    "\n",
    "rows = cursor.fetchall()\n",
    "description = cursor.description\n",
    "conn.close()"
   ]
  },
  {
   "cell_type": "code",
   "execution_count": 41,
   "id": "e634c66b",
   "metadata": {},
   "outputs": [
    {
     "data": {
      "text/html": [
       "<div>\n",
       "<style scoped>\n",
       "    .dataframe tbody tr th:only-of-type {\n",
       "        vertical-align: middle;\n",
       "    }\n",
       "\n",
       "    .dataframe tbody tr th {\n",
       "        vertical-align: top;\n",
       "    }\n",
       "\n",
       "    .dataframe thead th {\n",
       "        text-align: right;\n",
       "    }\n",
       "</style>\n",
       "<table border=\"1\" class=\"dataframe\">\n",
       "  <thead>\n",
       "    <tr style=\"text-align: right;\">\n",
       "      <th></th>\n",
       "      <th>school</th>\n",
       "      <th>gender</th>\n",
       "      <th>age</th>\n",
       "      <th>home address</th>\n",
       "      <th>parents cohabitation</th>\n",
       "      <th>moms education</th>\n",
       "      <th>dads education</th>\n",
       "      <th>moms job</th>\n",
       "      <th>dads job</th>\n",
       "      <th>choice reason</th>\n",
       "      <th>...</th>\n",
       "      <th>study time</th>\n",
       "      <th>first periods grade</th>\n",
       "      <th>second periods grade</th>\n",
       "      <th>third periods grade</th>\n",
       "      <th>failures</th>\n",
       "      <th>absences</th>\n",
       "      <th>health</th>\n",
       "      <th>weekday drinking</th>\n",
       "      <th>weekend drinking</th>\n",
       "      <th>heavy drinking</th>\n",
       "    </tr>\n",
       "    <tr>\n",
       "      <th>id</th>\n",
       "      <th></th>\n",
       "      <th></th>\n",
       "      <th></th>\n",
       "      <th></th>\n",
       "      <th></th>\n",
       "      <th></th>\n",
       "      <th></th>\n",
       "      <th></th>\n",
       "      <th></th>\n",
       "      <th></th>\n",
       "      <th></th>\n",
       "      <th></th>\n",
       "      <th></th>\n",
       "      <th></th>\n",
       "      <th></th>\n",
       "      <th></th>\n",
       "      <th></th>\n",
       "      <th></th>\n",
       "      <th></th>\n",
       "      <th></th>\n",
       "      <th></th>\n",
       "    </tr>\n",
       "  </thead>\n",
       "  <tbody>\n",
       "    <tr>\n",
       "      <th>1</th>\n",
       "      <td>GP</td>\n",
       "      <td>F</td>\n",
       "      <td>18</td>\n",
       "      <td>U</td>\n",
       "      <td>A</td>\n",
       "      <td>4</td>\n",
       "      <td>4</td>\n",
       "      <td>at_home</td>\n",
       "      <td>teacher</td>\n",
       "      <td>course</td>\n",
       "      <td>...</td>\n",
       "      <td>2</td>\n",
       "      <td>fail</td>\n",
       "      <td>fail</td>\n",
       "      <td>fail</td>\n",
       "      <td>0</td>\n",
       "      <td>6</td>\n",
       "      <td>3</td>\n",
       "      <td>1</td>\n",
       "      <td>1</td>\n",
       "      <td>no</td>\n",
       "    </tr>\n",
       "    <tr>\n",
       "      <th>2</th>\n",
       "      <td>GP</td>\n",
       "      <td>F</td>\n",
       "      <td>17</td>\n",
       "      <td>U</td>\n",
       "      <td>T</td>\n",
       "      <td>1</td>\n",
       "      <td>1</td>\n",
       "      <td>at_home</td>\n",
       "      <td>other</td>\n",
       "      <td>course</td>\n",
       "      <td>...</td>\n",
       "      <td>2</td>\n",
       "      <td>fail</td>\n",
       "      <td>fail</td>\n",
       "      <td>fail</td>\n",
       "      <td>0</td>\n",
       "      <td>4</td>\n",
       "      <td>3</td>\n",
       "      <td>1</td>\n",
       "      <td>1</td>\n",
       "      <td>no</td>\n",
       "    </tr>\n",
       "    <tr>\n",
       "      <th>3</th>\n",
       "      <td>GP</td>\n",
       "      <td>F</td>\n",
       "      <td>15</td>\n",
       "      <td>U</td>\n",
       "      <td>T</td>\n",
       "      <td>1</td>\n",
       "      <td>1</td>\n",
       "      <td>at_home</td>\n",
       "      <td>other</td>\n",
       "      <td>other</td>\n",
       "      <td>...</td>\n",
       "      <td>2</td>\n",
       "      <td>fail</td>\n",
       "      <td>fail</td>\n",
       "      <td>pass</td>\n",
       "      <td>3</td>\n",
       "      <td>10</td>\n",
       "      <td>3</td>\n",
       "      <td>2</td>\n",
       "      <td>3</td>\n",
       "      <td>yes</td>\n",
       "    </tr>\n",
       "  </tbody>\n",
       "</table>\n",
       "<p>3 rows × 30 columns</p>\n",
       "</div>"
      ],
      "text/plain": [
       "   school gender  age home address parents cohabitation  moms education  \\\n",
       "id                                                                        \n",
       "1      GP      F   18            U                    A               4   \n",
       "2      GP      F   17            U                    T               1   \n",
       "3      GP      F   15            U                    T               1   \n",
       "\n",
       "    dads education moms job dads job choice reason  ... study time  \\\n",
       "id                                                  ...              \n",
       "1                4  at_home  teacher        course  ...          2   \n",
       "2                1  at_home    other        course  ...          2   \n",
       "3                1  at_home    other         other  ...          2   \n",
       "\n",
       "    first periods grade second periods grade third periods grade failures  \\\n",
       "id                                                                          \n",
       "1                  fail                 fail                fail        0   \n",
       "2                  fail                 fail                fail        0   \n",
       "3                  fail                 fail                pass        3   \n",
       "\n",
       "   absences health  weekday drinking  weekend drinking  heavy drinking  \n",
       "id                                                                      \n",
       "1         6      3                 1                 1              no  \n",
       "2         4      3                 1                 1              no  \n",
       "3        10      3                 2                 3             yes  \n",
       "\n",
       "[3 rows x 30 columns]"
      ]
     },
     "execution_count": 41,
     "metadata": {},
     "output_type": "execute_result"
    }
   ],
   "source": [
    "data_df = pd.DataFrame(data=rows, columns=map(lambda x: x[0], description))\n",
    "data_df = data_df.set_index('id')\n",
    "data_df[:3]"
   ]
  },
  {
   "cell_type": "markdown",
   "id": "16322f03",
   "metadata": {},
   "source": [
    "## Charts"
   ]
  },
  {
   "cell_type": "code",
   "execution_count": 42,
   "id": "5a7e0a21",
   "metadata": {},
   "outputs": [],
   "source": [
    "import seaborn as sns"
   ]
  },
  {
   "cell_type": "code",
   "execution_count": 43,
   "id": "b54a8e6d",
   "metadata": {},
   "outputs": [
    {
     "data": {
      "text/plain": [
       "Text(0.5, 1.0, 'Average Weekday Drinking Vs Gender')"
      ]
     },
     "execution_count": 43,
     "metadata": {},
     "output_type": "execute_result"
    },
    {
     "data": {
      "image/png": "[encoded data removed]",
      "text/plain": [
       "<Figure size 432x288 with 1 Axes>"
      ]
     },
     "metadata": {
      "needs_background": "light"
     },
     "output_type": "display_data"
    }
   ],
   "source": [
    "p = sns.barplot(x='gender', y='weekday drinking', hue='school', data=data_df)\n",
    "p.set_xlabel('Gender', fontsize=15)\n",
    "p.set_ylabel('Average Weekday Drinking', fontsize=15)\n",
    "p.set_title('Average Weekday Drinking Vs Gender', fontsize=15)"
   ]
  },
  {
   "cell_type": "code",
   "execution_count": 44,
   "id": "4ca880d6",
   "metadata": {},
   "outputs": [
    {
     "data": {
      "text/plain": [
       "Text(0.5, 1.0, 'Average Weekend Drinking Vs Gender')"
      ]
     },
     "execution_count": 44,
     "metadata": {},
     "output_type": "execute_result"
    },
    {
     "data": {
      "image/png": "[encoded data removed]",
      "text/plain": [
       "<Figure size 432x288 with 1 Axes>"
      ]
     },
     "metadata": {
      "needs_background": "light"
     },
     "output_type": "display_data"
    }
   ],
   "source": [
    "p = sns.barplot(x='gender', y='weekend drinking', hue='school', data=data_df)\n",
    "p.set_xlabel('Gender', fontsize=15)\n",
    "p.set_ylabel('Average Weekend Drinking', fontsize=15)\n",
    "p.set_title('Average Weekend Drinking Vs Gender', fontsize=15)"
   ]
  },
  {
   "cell_type": "code",
   "execution_count": 45,
   "id": "6ba7cc6b",
   "metadata": {},
   "outputs": [
    {
     "data": {
      "text/plain": [
       "Text(0.5, 1.0, 'Average Weekday Drinking Vs Significant Other')"
      ]
     },
     "execution_count": 45,
     "metadata": {},
     "output_type": "execute_result"
    },
    {
     "data": {
      "image/png": "[encoded data removed]",
      "text/plain": [
       "<Figure size 432x288 with 1 Axes>"
      ]
     },
     "metadata": {
      "needs_background": "light"
     },
     "output_type": "display_data"
    }
   ],
   "source": [
    "p = sns.barplot(x='significant other', y='weekday drinking', hue='gender', data=data_df)\n",
    "p.set_xlabel('Significant Other', fontsize=15)\n",
    "p.set_ylabel('Average Weekday Drinking', fontsize=15)\n",
    "p.set_title('Average Weekday Drinking Vs Significant Other', fontsize=15)"
   ]
  },
  {
   "cell_type": "code",
   "execution_count": 46,
   "id": "a7cf4160",
   "metadata": {},
   "outputs": [
    {
     "data": {
      "text/plain": [
       "Text(0.5, 1.0, 'Average Weekend Drinking Vs Significant Other')"
      ]
     },
     "execution_count": 46,
     "metadata": {},
     "output_type": "execute_result"
    },
    {
     "data": {
      "image/png": "[encoded data removed]",
      "text/plain": [
       "<Figure size 432x288 with 1 Axes>"
      ]
     },
     "metadata": {
      "needs_background": "light"
     },
     "output_type": "display_data"
    }
   ],
   "source": [
    "p = sns.barplot(x='significant other', y='weekend drinking', hue='gender', data=data_df)\n",
    "p.set_xlabel('Significant Other', fontsize=15)\n",
    "p.set_ylabel('Average Weekend Drinking', fontsize=15)\n",
    "p.set_title('Average Weekend Drinking Vs Significant Other', fontsize=15)"
   ]
  },
  {
   "cell_type": "code",
   "execution_count": 47,
   "id": "0476488c",
   "metadata": {},
   "outputs": [
    {
     "data": {
      "text/plain": [
       "Text(0.5, 1.0, 'Count of Significant Other Vs Significant Other')"
      ]
     },
     "execution_count": 47,
     "metadata": {},
     "output_type": "execute_result"
    },
    {
     "data": {
      "image/png": "[encoded data removed]",
      "text/plain": [
       "<Figure size 432x288 with 1 Axes>"
      ]
     },
     "metadata": {
      "needs_background": "light"
     },
     "output_type": "display_data"
    }
   ],
   "source": [
    "p = sns.countplot(x='significant other',hue='gender', data=data_df)\n",
    "p.set_xlabel('Significant Other', fontsize=15)\n",
    "p.set_ylabel('Count', fontsize=15)\n",
    "p.set_title('Count of Significant Other Vs Significant Other', fontsize=15)"
   ]
  },
  {
   "cell_type": "code",
   "execution_count": 74,
   "id": "bafbb4f4",
   "metadata": {},
   "outputs": [
    {
     "data": {
      "text/plain": [
       "Text(0.5, 1.0, 'Absences Vs Weekday Drinking')"
      ]
     },
     "execution_count": 74,
     "metadata": {},
     "output_type": "execute_result"
    },
    {
     "data": {
      "image/png": "[encoded data removed]",
      "text/plain": [
       "<Figure size 432x288 with 1 Axes>"
      ]
     },
     "metadata": {
      "needs_background": "light"
     },
     "output_type": "display_data"
    }
   ],
   "source": [
    "p = sns.lineplot(x='weekday drinking', y='absences', hue='school', data=data_df)\n",
    "p.set_ylabel('Absences', fontsize=15)\n",
    "p.set_xlabel('Weekday Drinking', fontsize=15)\n",
    "p.set_title('Absences Vs Weekday Drinking', fontsize=15)"
   ]
  },
  {
   "cell_type": "code",
   "execution_count": 75,
   "id": "8de82a3a",
   "metadata": {},
   "outputs": [
    {
     "data": {
      "text/plain": [
       "Text(0.5, 1.0, 'Absences Vs Weekend Drinking')"
      ]
     },
     "execution_count": 75,
     "metadata": {},
     "output_type": "execute_result"
    },
    {
     "data": {
      "image/png": "[encoded data removed]",
      "text/plain": [
       "<Figure size 432x288 with 1 Axes>"
      ]
     },
     "metadata": {
      "needs_background": "light"
     },
     "output_type": "display_data"
    }
   ],
   "source": [
    "p = sns.lineplot(x='weekend drinking', y='absences', hue='school', data=data_df)\n",
    "p.set_ylabel('Absences', fontsize=15)\n",
    "p.set_xlabel('Weekend Drinking', fontsize=15)\n",
    "p.set_title('Absences Vs Weekend Drinking', fontsize=15)"
   ]
  },
  {
   "cell_type": "code",
   "execution_count": null,
   "id": "91eb4029",
   "metadata": {},
   "outputs": [],
   "source": []
  }
 ],
 "metadata": {
  "kernelspec": {
   "display_name": "mlenv",
   "language": "python",
   "name": "mlenv"
  },
  "language_info": {
   "codemirror_mode": {
    "name": "ipython",
    "version": 3
   },
   "file_extension": ".py",
   "mimetype": "text/x-python",
   "name": "python",
   "nbconvert_exporter": "python",
   "pygments_lexer": "ipython3",
   "version": "3.9.5"
  }
 },
 "nbformat": 4,
 "nbformat_minor": 5
}
