{
 "cells": [
  {
   "cell_type": "code",
   "execution_count": 1,
   "id": "61084410",
   "metadata": {},
   "outputs": [],
   "source": [
    "import sqlite3"
   ]
  },
  {
   "cell_type": "code",
   "execution_count": 2,
   "id": "0c146024",
   "metadata": {},
   "outputs": [],
   "source": [
    "db = '../res/tables.sql'\n",
    "mem = ':memory:'\n",
    "conn = sqlite3.connect(db)\n",
    "cur = conn.cursor()"
   ]
  },
  {
   "cell_type": "code",
   "execution_count": 3,
   "id": "c728ad4a",
   "metadata": {},
   "outputs": [
    {
     "data": {
      "text/plain": [
       "<sqlite3.Cursor at 0x1e82d2a3f80>"
      ]
     },
     "execution_count": 3,
     "metadata": {},
     "output_type": "execute_result"
    }
   ],
   "source": [
    "profile_columns = ('id', 'gender', 'age', 'household_size', 'family_relationship', 'health')\n",
    "activities_columns = ('id', 'study time', 'free time', 'social activities', 'drinker', 'absences')\n",
    "\n",
    "# cur.execute('DROP TABLE profile')\n",
    "# cur.execute('DROP TABLE activities')\n",
    "# conn.commit()\n",
    "\n",
    "cur.execute('CREATE TABLE profile ( id INT PRIMARY KEY ASC, gender INT, age INT, \"household size\" INT, \"family relationship\" INT, health INT)')\n",
    "cur.execute('CREATE TABLE activities (id INT PRIMARY KEY ASC, \"study time\" INT, \"social activities\" INT, drinker INT, absences INT)')"
   ]
  },
  {
   "cell_type": "code",
   "execution_count": 4,
   "id": "34a2137d",
   "metadata": {},
   "outputs": [],
   "source": [
    "conn.commit()\n",
    "conn.close()"
   ]
  }
 ],
 "metadata": {
  "kernelspec": {
   "display_name": "Python 3",
   "language": "python",
   "name": "python3"
  },
  "language_info": {
   "codemirror_mode": {
    "name": "ipython",
    "version": 3
   },
   "file_extension": ".py",
   "mimetype": "text/x-python",
   "name": "python",
   "nbconvert_exporter": "python",
   "pygments_lexer": "ipython3",
   "version": "3.8.8"
  }
 },
 "nbformat": 4,
 "nbformat_minor": 5
}
